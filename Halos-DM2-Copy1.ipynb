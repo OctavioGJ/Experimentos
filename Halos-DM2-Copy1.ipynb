{
 "cells": [
  {
   "cell_type": "markdown",
   "id": "d20fd6e9",
   "metadata": {},
   "source": [
    "##  Codigo 2 :  DM  en el Coeval\n",
    "### Utilizamos los datos del coeval para ver los Halos de DM "
   ]
  },
  {
   "cell_type": "code",
   "execution_count": 1,
   "id": "cbbfef28",
   "metadata": {},
   "outputs": [
    {
     "name": "stderr",
     "output_type": "stream",
     "text": [
      "/home/ogarcia/miniconda3/envs/tesis3/lib/python3.10/site-packages/py21cmfast/_cfg.py:57: UserWarning: Your configuration file is out of date. Updating...\n",
      "  warnings.warn(\n",
      "/home/ogarcia/miniconda3/envs/tesis3/lib/python3.10/site-packages/py21cmfast/_cfg.py:41: UserWarning: Your configuration file is out of date. Updating...\n",
      "  warnings.warn(\"Your configuration file is out of date. Updating...\")\n"
     ]
    }
   ],
   "source": [
    "%matplotlib inline\n",
    "import matplotlib.pyplot as plt\n",
    "import os\n",
    "\n",
    "import py21cmfast as p21c\n",
    "\n",
    "# For plotting the cubes, we use the plotting submodule:\n",
    "from py21cmfast import plotting\n",
    "\n",
    "# For interacting with the cache\n",
    "from py21cmfast import cache_tools\n",
    "\n",
    "import h5py\n",
    "import numpy as np"
   ]
  },
  {
   "cell_type": "code",
   "execution_count": 2,
   "id": "26ba8293",
   "metadata": {},
   "outputs": [],
   "source": [
    "if not os.path.exists('_cache'):\n",
    "    os.mkdir('_cache')\n",
    "\n",
    "p21c.config['direc'] = '_cache'\n",
    "cache_tools.clear_cache(direc=\"_cache\")"
   ]
  },
  {
   "cell_type": "code",
   "execution_count": 3,
   "id": "3d408be6",
   "metadata": {},
   "outputs": [],
   "source": [
    "from py21cmfast import (\n",
    "    AstroParams,\n",
    "    CosmoParams,\n",
    "    FlagOptions,\n",
    "    UserParams,\n",
    "    determine_halo_list,\n",
    "    initial_conditions,\n",
    "    perturb_field,\n",
    ")\n",
    "\n",
    "\n",
    "from py21cmfast._utils import StructInstanceWrapper\n",
    "from py21cmfast.c_21cmfast import ffi, lib\n",
    "import numpy as np"
   ]
  },
  {
   "cell_type": "code",
   "execution_count": 4,
   "id": "aaf5de31",
   "metadata": {},
   "outputs": [],
   "source": [
    "    user_params = UserParams(\n",
    "    DIM=128,\n",
    "    USE_FFTW_WISDOM=True,\n",
    "    HMF=1,\n",
    "    N_THREADS=4,\n",
    "    NO_RNG=True,\n",
    "    PERTURB_ON_HIGH_RES=True,\n",
    ")"
   ]
  },
  {
   "cell_type": "code",
   "execution_count": 5,
   "id": "84bbf5b4",
   "metadata": {},
   "outputs": [],
   "source": [
    "# Parametros cosmologicos\n",
    "\n",
    "cosmo_params = CosmoParams(\n",
    "        OMb=0.0486, \n",
    "        OMm=0.3075, \n",
    "        POWER_INDEX=0.97, \n",
    "        SIGMA_8=0.82, \n",
    "        hlittle=0.6774\n",
    "    )"
   ]
  },
  {
   "cell_type": "markdown",
   "id": "fea2c9ec",
   "metadata": {},
   "source": [
    "# Generamos el COEVAL\n",
    "## En este caso usamos el USE_MINI_HALOS "
   ]
  },
  {
   "cell_type": "code",
   "execution_count": 6,
   "id": "108d1d04",
   "metadata": {},
   "outputs": [
    {
     "name": "stderr",
     "output_type": "stream",
     "text": [
      "/home/ogarcia/miniconda3/envs/tesis3/lib/python3.10/site-packages/py21cmfast/_utils.py:400: UserWarning: The following parameters to FlagOptions are not supported: ['USE_VELS_AUX']\n",
      "  warnings.warn(\n",
      "2024-04-15 09:52:01,544 | WARNING | inputs.py::INHOMO_RECO() | You have set USE_MINI_HALOS to True but INHOMO_RECO to False! Automatically setting INHOMO_RECO to True.\n",
      "2024-04-15 09:52:01,544 | WARNING | inputs.py::validate_all_inputs() | USE_MINI_HALOS needs USE_RELATIVE_VELOCITIES to get the right evolution!\n",
      "/home/ogarcia/miniconda3/envs/tesis3/lib/python3.10/site-packages/py21cmfast/inputs.py:491: UserWarning: The USE_INTERPOLATION_TABLES setting has changed in v3.1.2 to be default True. You can likely ignore this warning, but if you relied onhaving USE_INTERPOLATION_TABLES=False by *default*, please set it explicitly. To silence this warning, set it explicitly to True. Thiswarning will be removed in v4.\n",
      "  warnings.warn(\n",
      "2024-04-15 09:52:04,209 | WARNING | inputs.py::INHOMO_RECO() | You have set USE_MINI_HALOS to True but INHOMO_RECO to False! Automatically setting INHOMO_RECO to True.\n",
      "/home/ogarcia/miniconda3/envs/tesis3/lib/python3.10/site-packages/py21cmfast/_utils.py:811: UserWarning: Trying to remove array that isn't yet created: hires_vx\n",
      "  warnings.warn(f\"Trying to remove array that isn't yet created: {k}\")\n",
      "/home/ogarcia/miniconda3/envs/tesis3/lib/python3.10/site-packages/py21cmfast/_utils.py:811: UserWarning: Trying to remove array that isn't yet created: hires_vy\n",
      "  warnings.warn(f\"Trying to remove array that isn't yet created: {k}\")\n",
      "/home/ogarcia/miniconda3/envs/tesis3/lib/python3.10/site-packages/py21cmfast/_utils.py:811: UserWarning: Trying to remove array that isn't yet created: hires_vz\n",
      "  warnings.warn(f\"Trying to remove array that isn't yet created: {k}\")\n",
      "/home/ogarcia/miniconda3/envs/tesis3/lib/python3.10/site-packages/py21cmfast/_utils.py:811: UserWarning: Trying to remove array that isn't yet created: hires_vx_2LPT\n",
      "  warnings.warn(f\"Trying to remove array that isn't yet created: {k}\")\n",
      "/home/ogarcia/miniconda3/envs/tesis3/lib/python3.10/site-packages/py21cmfast/_utils.py:811: UserWarning: Trying to remove array that isn't yet created: hires_vy_2LPT\n",
      "  warnings.warn(f\"Trying to remove array that isn't yet created: {k}\")\n",
      "/home/ogarcia/miniconda3/envs/tesis3/lib/python3.10/site-packages/py21cmfast/_utils.py:811: UserWarning: Trying to remove array that isn't yet created: hires_vz_2LPT\n",
      "  warnings.warn(f\"Trying to remove array that isn't yet created: {k}\")\n",
      "2024-04-15 09:52:20,335 | WARNING | inputs.py::INHOMO_RECO() | You have set USE_MINI_HALOS to True but INHOMO_RECO to False! Automatically setting INHOMO_RECO to True.\n",
      "2024-04-15 09:52:20,336 | WARNING | inputs.py::validate_all_inputs() | USE_MINI_HALOS needs USE_RELATIVE_VELOCITIES to get the right evolution!\n",
      "2024-04-15 09:52:20,337 | WARNING | inputs.py::INHOMO_RECO() | You have set USE_MINI_HALOS to True but INHOMO_RECO to False! Automatically setting INHOMO_RECO to True.\n",
      "2024-04-15 09:52:20,339 | WARNING | inputs.py::INHOMO_RECO() | You have set USE_MINI_HALOS to True but INHOMO_RECO to False! Automatically setting INHOMO_RECO to True.\n",
      "2024-04-15 09:52:20,759 | WARNING | inputs.py::INHOMO_RECO() | You have set USE_MINI_HALOS to True but INHOMO_RECO to False! Automatically setting INHOMO_RECO to True.\n",
      "2024-04-15 09:52:20,782 | WARNING | inputs.py::INHOMO_RECO() | You have set USE_MINI_HALOS to True but INHOMO_RECO to False! Automatically setting INHOMO_RECO to True.\n",
      "2024-04-15 09:52:20,783 | WARNING | inputs.py::INHOMO_RECO() | You have set USE_MINI_HALOS to True but INHOMO_RECO to False! Automatically setting INHOMO_RECO to True.\n",
      "2024-04-15 09:52:20,784 | WARNING | inputs.py::INHOMO_RECO() | You have set USE_MINI_HALOS to True but INHOMO_RECO to False! Automatically setting INHOMO_RECO to True.\n",
      "2024-04-15 09:52:20,784 | WARNING | inputs.py::validate_all_inputs() | USE_MINI_HALOS needs USE_RELATIVE_VELOCITIES to get the right evolution!\n",
      "2024-04-15 09:52:20,785 | WARNING | inputs.py::INHOMO_RECO() | You have set USE_MINI_HALOS to True but INHOMO_RECO to False! Automatically setting INHOMO_RECO to True.\n",
      "2024-04-15 09:52:20,785 | WARNING | inputs.py::INHOMO_RECO() | You have set USE_MINI_HALOS to True but INHOMO_RECO to False! Automatically setting INHOMO_RECO to True.\n",
      "2024-04-15 09:52:20,787 | WARNING | inputs.py::INHOMO_RECO() | You have set USE_MINI_HALOS to True but INHOMO_RECO to False! Automatically setting INHOMO_RECO to True.\n",
      "2024-04-15 09:52:20,788 | WARNING | inputs.py::INHOMO_RECO() | You have set USE_MINI_HALOS to True but INHOMO_RECO to False! Automatically setting INHOMO_RECO to True.\n",
      "2024-04-15 09:52:20,796 | WARNING | inputs.py::INHOMO_RECO() | You have set USE_MINI_HALOS to True but INHOMO_RECO to False! Automatically setting INHOMO_RECO to True.\n",
      "2024-04-15 09:52:34,911 | WARNING | inputs.py::INHOMO_RECO() | You have set USE_MINI_HALOS to True but INHOMO_RECO to False! Automatically setting INHOMO_RECO to True.\n",
      "2024-04-15 09:52:35,189 | WARNING | inputs.py::INHOMO_RECO() | You have set USE_MINI_HALOS to True but INHOMO_RECO to False! Automatically setting INHOMO_RECO to True.\n",
      "2024-04-15 09:52:35,190 | WARNING | inputs.py::INHOMO_RECO() | You have set USE_MINI_HALOS to True but INHOMO_RECO to False! Automatically setting INHOMO_RECO to True.\n",
      "2024-04-15 09:52:35,192 | WARNING | inputs.py::INHOMO_RECO() | You have set USE_MINI_HALOS to True but INHOMO_RECO to False! Automatically setting INHOMO_RECO to True.\n",
      "2024-04-15 09:52:35,192 | WARNING | inputs.py::INHOMO_RECO() | You have set USE_MINI_HALOS to True but INHOMO_RECO to False! Automatically setting INHOMO_RECO to True.\n",
      "2024-04-15 09:52:35,193 | WARNING | inputs.py::INHOMO_RECO() | You have set USE_MINI_HALOS to True but INHOMO_RECO to False! Automatically setting INHOMO_RECO to True.\n",
      "2024-04-15 09:52:35,193 | WARNING | inputs.py::validate_all_inputs() | USE_MINI_HALOS needs USE_RELATIVE_VELOCITIES to get the right evolution!\n",
      "2024-04-15 09:52:35,194 | WARNING | inputs.py::INHOMO_RECO() | You have set USE_MINI_HALOS to True but INHOMO_RECO to False! Automatically setting INHOMO_RECO to True.\n",
      "2024-04-15 09:52:35,196 | WARNING | inputs.py::INHOMO_RECO() | You have set USE_MINI_HALOS to True but INHOMO_RECO to False! Automatically setting INHOMO_RECO to True.\n",
      "2024-04-15 09:52:41,231 | WARNING | inputs.py::INHOMO_RECO() | You have set USE_MINI_HALOS to True but INHOMO_RECO to False! Automatically setting INHOMO_RECO to True.\n",
      "2024-04-15 09:52:41,258 | WARNING | inputs.py::INHOMO_RECO() | You have set USE_MINI_HALOS to True but INHOMO_RECO to False! Automatically setting INHOMO_RECO to True.\n",
      "2024-04-15 09:52:41,258 | WARNING | inputs.py::INHOMO_RECO() | You have set USE_MINI_HALOS to True but INHOMO_RECO to False! Automatically setting INHOMO_RECO to True.\n",
      "2024-04-15 09:52:41,260 | WARNING | inputs.py::INHOMO_RECO() | You have set USE_MINI_HALOS to True but INHOMO_RECO to False! Automatically setting INHOMO_RECO to True.\n",
      "2024-04-15 09:52:41,260 | WARNING | inputs.py::INHOMO_RECO() | You have set USE_MINI_HALOS to True but INHOMO_RECO to False! Automatically setting INHOMO_RECO to True.\n",
      "2024-04-15 09:52:41,261 | WARNING | inputs.py::INHOMO_RECO() | You have set USE_MINI_HALOS to True but INHOMO_RECO to False! Automatically setting INHOMO_RECO to True.\n",
      "2024-04-15 09:52:41,261 | WARNING | inputs.py::validate_all_inputs() | USE_MINI_HALOS needs USE_RELATIVE_VELOCITIES to get the right evolution!\n",
      "2024-04-15 09:52:41,262 | WARNING | inputs.py::INHOMO_RECO() | You have set USE_MINI_HALOS to True but INHOMO_RECO to False! Automatically setting INHOMO_RECO to True.\n",
      "2024-04-15 09:52:41,264 | WARNING | inputs.py::INHOMO_RECO() | You have set USE_MINI_HALOS to True but INHOMO_RECO to False! Automatically setting INHOMO_RECO to True.\n",
      "2024-04-15 09:52:41,264 | WARNING | inputs.py::INHOMO_RECO() | You have set USE_MINI_HALOS to True but INHOMO_RECO to False! Automatically setting INHOMO_RECO to True.\n",
      "2024-04-15 09:52:52,782 | WARNING | inputs.py::INHOMO_RECO() | You have set USE_MINI_HALOS to True but INHOMO_RECO to False! Automatically setting INHOMO_RECO to True.\n",
      "2024-04-15 09:52:53,065 | WARNING | inputs.py::INHOMO_RECO() | You have set USE_MINI_HALOS to True but INHOMO_RECO to False! Automatically setting INHOMO_RECO to True.\n"
     ]
    },
    {
     "name": "stderr",
     "output_type": "stream",
     "text": [
      "2024-04-15 09:52:53,067 | WARNING | inputs.py::INHOMO_RECO() | You have set USE_MINI_HALOS to True but INHOMO_RECO to False! Automatically setting INHOMO_RECO to True.\n",
      "2024-04-15 09:52:53,069 | WARNING | inputs.py::INHOMO_RECO() | You have set USE_MINI_HALOS to True but INHOMO_RECO to False! Automatically setting INHOMO_RECO to True.\n",
      "2024-04-15 09:52:53,069 | WARNING | inputs.py::INHOMO_RECO() | You have set USE_MINI_HALOS to True but INHOMO_RECO to False! Automatically setting INHOMO_RECO to True.\n",
      "2024-04-15 09:52:53,070 | WARNING | inputs.py::INHOMO_RECO() | You have set USE_MINI_HALOS to True but INHOMO_RECO to False! Automatically setting INHOMO_RECO to True.\n",
      "2024-04-15 09:52:53,070 | WARNING | inputs.py::validate_all_inputs() | USE_MINI_HALOS needs USE_RELATIVE_VELOCITIES to get the right evolution!\n",
      "2024-04-15 09:52:53,071 | WARNING | inputs.py::INHOMO_RECO() | You have set USE_MINI_HALOS to True but INHOMO_RECO to False! Automatically setting INHOMO_RECO to True.\n",
      "2024-04-15 09:52:53,073 | WARNING | inputs.py::INHOMO_RECO() | You have set USE_MINI_HALOS to True but INHOMO_RECO to False! Automatically setting INHOMO_RECO to True.\n",
      "2024-04-15 09:52:59,719 | WARNING | inputs.py::INHOMO_RECO() | You have set USE_MINI_HALOS to True but INHOMO_RECO to False! Automatically setting INHOMO_RECO to True.\n",
      "2024-04-15 09:52:59,746 | WARNING | inputs.py::INHOMO_RECO() | You have set USE_MINI_HALOS to True but INHOMO_RECO to False! Automatically setting INHOMO_RECO to True.\n",
      "2024-04-15 09:52:59,747 | WARNING | inputs.py::INHOMO_RECO() | You have set USE_MINI_HALOS to True but INHOMO_RECO to False! Automatically setting INHOMO_RECO to True.\n",
      "2024-04-15 09:52:59,747 | WARNING | inputs.py::INHOMO_RECO() | You have set USE_MINI_HALOS to True but INHOMO_RECO to False! Automatically setting INHOMO_RECO to True.\n",
      "2024-04-15 09:52:59,748 | WARNING | inputs.py::INHOMO_RECO() | You have set USE_MINI_HALOS to True but INHOMO_RECO to False! Automatically setting INHOMO_RECO to True.\n",
      "2024-04-15 09:52:59,749 | WARNING | inputs.py::INHOMO_RECO() | You have set USE_MINI_HALOS to True but INHOMO_RECO to False! Automatically setting INHOMO_RECO to True.\n",
      "2024-04-15 09:52:59,749 | WARNING | inputs.py::validate_all_inputs() | USE_MINI_HALOS needs USE_RELATIVE_VELOCITIES to get the right evolution!\n",
      "2024-04-15 09:52:59,750 | WARNING | inputs.py::INHOMO_RECO() | You have set USE_MINI_HALOS to True but INHOMO_RECO to False! Automatically setting INHOMO_RECO to True.\n",
      "2024-04-15 09:52:59,752 | WARNING | inputs.py::INHOMO_RECO() | You have set USE_MINI_HALOS to True but INHOMO_RECO to False! Automatically setting INHOMO_RECO to True.\n",
      "2024-04-15 09:52:59,752 | WARNING | inputs.py::INHOMO_RECO() | You have set USE_MINI_HALOS to True but INHOMO_RECO to False! Automatically setting INHOMO_RECO to True.\n",
      "2024-04-15 09:53:12,458 | WARNING | inputs.py::INHOMO_RECO() | You have set USE_MINI_HALOS to True but INHOMO_RECO to False! Automatically setting INHOMO_RECO to True.\n",
      "2024-04-15 09:53:12,740 | WARNING | inputs.py::INHOMO_RECO() | You have set USE_MINI_HALOS to True but INHOMO_RECO to False! Automatically setting INHOMO_RECO to True.\n",
      "2024-04-15 09:53:12,742 | WARNING | inputs.py::INHOMO_RECO() | You have set USE_MINI_HALOS to True but INHOMO_RECO to False! Automatically setting INHOMO_RECO to True.\n",
      "2024-04-15 09:53:12,744 | WARNING | inputs.py::INHOMO_RECO() | You have set USE_MINI_HALOS to True but INHOMO_RECO to False! Automatically setting INHOMO_RECO to True.\n",
      "2024-04-15 09:53:12,744 | WARNING | inputs.py::INHOMO_RECO() | You have set USE_MINI_HALOS to True but INHOMO_RECO to False! Automatically setting INHOMO_RECO to True.\n",
      "2024-04-15 09:53:12,745 | WARNING | inputs.py::INHOMO_RECO() | You have set USE_MINI_HALOS to True but INHOMO_RECO to False! Automatically setting INHOMO_RECO to True.\n",
      "2024-04-15 09:53:12,746 | WARNING | inputs.py::validate_all_inputs() | USE_MINI_HALOS needs USE_RELATIVE_VELOCITIES to get the right evolution!\n",
      "2024-04-15 09:53:12,747 | WARNING | inputs.py::INHOMO_RECO() | You have set USE_MINI_HALOS to True but INHOMO_RECO to False! Automatically setting INHOMO_RECO to True.\n",
      "2024-04-15 09:53:12,749 | WARNING | inputs.py::INHOMO_RECO() | You have set USE_MINI_HALOS to True but INHOMO_RECO to False! Automatically setting INHOMO_RECO to True.\n",
      "2024-04-15 09:53:19,414 | WARNING | inputs.py::INHOMO_RECO() | You have set USE_MINI_HALOS to True but INHOMO_RECO to False! Automatically setting INHOMO_RECO to True.\n",
      "2024-04-15 09:53:19,440 | WARNING | inputs.py::INHOMO_RECO() | You have set USE_MINI_HALOS to True but INHOMO_RECO to False! Automatically setting INHOMO_RECO to True.\n",
      "2024-04-15 09:53:19,440 | WARNING | inputs.py::INHOMO_RECO() | You have set USE_MINI_HALOS to True but INHOMO_RECO to False! Automatically setting INHOMO_RECO to True.\n",
      "2024-04-15 09:53:19,441 | WARNING | inputs.py::INHOMO_RECO() | You have set USE_MINI_HALOS to True but INHOMO_RECO to False! Automatically setting INHOMO_RECO to True.\n",
      "2024-04-15 09:53:19,442 | WARNING | inputs.py::INHOMO_RECO() | You have set USE_MINI_HALOS to True but INHOMO_RECO to False! Automatically setting INHOMO_RECO to True.\n",
      "2024-04-15 09:53:19,442 | WARNING | inputs.py::INHOMO_RECO() | You have set USE_MINI_HALOS to True but INHOMO_RECO to False! Automatically setting INHOMO_RECO to True.\n",
      "2024-04-15 09:53:19,442 | WARNING | inputs.py::validate_all_inputs() | USE_MINI_HALOS needs USE_RELATIVE_VELOCITIES to get the right evolution!\n",
      "2024-04-15 09:53:19,443 | WARNING | inputs.py::INHOMO_RECO() | You have set USE_MINI_HALOS to True but INHOMO_RECO to False! Automatically setting INHOMO_RECO to True.\n",
      "2024-04-15 09:53:19,445 | WARNING | inputs.py::INHOMO_RECO() | You have set USE_MINI_HALOS to True but INHOMO_RECO to False! Automatically setting INHOMO_RECO to True.\n",
      "2024-04-15 09:53:19,446 | WARNING | inputs.py::INHOMO_RECO() | You have set USE_MINI_HALOS to True but INHOMO_RECO to False! Automatically setting INHOMO_RECO to True.\n",
      "2024-04-15 09:53:32,209 | WARNING | inputs.py::INHOMO_RECO() | You have set USE_MINI_HALOS to True but INHOMO_RECO to False! Automatically setting INHOMO_RECO to True.\n",
      "2024-04-15 09:53:32,486 | WARNING | inputs.py::INHOMO_RECO() | You have set USE_MINI_HALOS to True but INHOMO_RECO to False! Automatically setting INHOMO_RECO to True.\n",
      "2024-04-15 09:53:32,488 | WARNING | inputs.py::INHOMO_RECO() | You have set USE_MINI_HALOS to True but INHOMO_RECO to False! Automatically setting INHOMO_RECO to True.\n",
      "2024-04-15 09:53:32,490 | WARNING | inputs.py::INHOMO_RECO() | You have set USE_MINI_HALOS to True but INHOMO_RECO to False! Automatically setting INHOMO_RECO to True.\n",
      "2024-04-15 09:53:32,490 | WARNING | inputs.py::INHOMO_RECO() | You have set USE_MINI_HALOS to True but INHOMO_RECO to False! Automatically setting INHOMO_RECO to True.\n",
      "2024-04-15 09:53:32,490 | WARNING | inputs.py::INHOMO_RECO() | You have set USE_MINI_HALOS to True but INHOMO_RECO to False! Automatically setting INHOMO_RECO to True.\n",
      "2024-04-15 09:53:32,491 | WARNING | inputs.py::validate_all_inputs() | USE_MINI_HALOS needs USE_RELATIVE_VELOCITIES to get the right evolution!\n",
      "2024-04-15 09:53:32,491 | WARNING | inputs.py::INHOMO_RECO() | You have set USE_MINI_HALOS to True but INHOMO_RECO to False! Automatically setting INHOMO_RECO to True.\n",
      "2024-04-15 09:53:32,493 | WARNING | inputs.py::INHOMO_RECO() | You have set USE_MINI_HALOS to True but INHOMO_RECO to False! Automatically setting INHOMO_RECO to True.\n",
      "2024-04-15 09:53:39,116 | WARNING | inputs.py::INHOMO_RECO() | You have set USE_MINI_HALOS to True but INHOMO_RECO to False! Automatically setting INHOMO_RECO to True.\n",
      "2024-04-15 09:53:39,141 | WARNING | inputs.py::INHOMO_RECO() | You have set USE_MINI_HALOS to True but INHOMO_RECO to False! Automatically setting INHOMO_RECO to True.\n",
      "2024-04-15 09:53:39,142 | WARNING | inputs.py::INHOMO_RECO() | You have set USE_MINI_HALOS to True but INHOMO_RECO to False! Automatically setting INHOMO_RECO to True.\n",
      "2024-04-15 09:53:39,143 | WARNING | inputs.py::INHOMO_RECO() | You have set USE_MINI_HALOS to True but INHOMO_RECO to False! Automatically setting INHOMO_RECO to True.\n",
      "2024-04-15 09:53:39,143 | WARNING | inputs.py::INHOMO_RECO() | You have set USE_MINI_HALOS to True but INHOMO_RECO to False! Automatically setting INHOMO_RECO to True.\n"
     ]
    },
    {
     "name": "stderr",
     "output_type": "stream",
     "text": [
      "2024-04-15 09:53:39,144 | WARNING | inputs.py::INHOMO_RECO() | You have set USE_MINI_HALOS to True but INHOMO_RECO to False! Automatically setting INHOMO_RECO to True.\n",
      "2024-04-15 09:53:39,144 | WARNING | inputs.py::validate_all_inputs() | USE_MINI_HALOS needs USE_RELATIVE_VELOCITIES to get the right evolution!\n",
      "2024-04-15 09:53:39,145 | WARNING | inputs.py::INHOMO_RECO() | You have set USE_MINI_HALOS to True but INHOMO_RECO to False! Automatically setting INHOMO_RECO to True.\n",
      "2024-04-15 09:53:39,147 | WARNING | inputs.py::INHOMO_RECO() | You have set USE_MINI_HALOS to True but INHOMO_RECO to False! Automatically setting INHOMO_RECO to True.\n",
      "2024-04-15 09:53:39,147 | WARNING | inputs.py::INHOMO_RECO() | You have set USE_MINI_HALOS to True but INHOMO_RECO to False! Automatically setting INHOMO_RECO to True.\n",
      "2024-04-15 09:53:51,942 | WARNING | inputs.py::INHOMO_RECO() | You have set USE_MINI_HALOS to True but INHOMO_RECO to False! Automatically setting INHOMO_RECO to True.\n",
      "2024-04-15 09:53:52,217 | WARNING | inputs.py::INHOMO_RECO() | You have set USE_MINI_HALOS to True but INHOMO_RECO to False! Automatically setting INHOMO_RECO to True.\n",
      "2024-04-15 09:53:52,218 | WARNING | inputs.py::INHOMO_RECO() | You have set USE_MINI_HALOS to True but INHOMO_RECO to False! Automatically setting INHOMO_RECO to True.\n",
      "2024-04-15 09:53:52,220 | WARNING | inputs.py::INHOMO_RECO() | You have set USE_MINI_HALOS to True but INHOMO_RECO to False! Automatically setting INHOMO_RECO to True.\n",
      "2024-04-15 09:53:52,220 | WARNING | inputs.py::INHOMO_RECO() | You have set USE_MINI_HALOS to True but INHOMO_RECO to False! Automatically setting INHOMO_RECO to True.\n",
      "2024-04-15 09:53:52,221 | WARNING | inputs.py::INHOMO_RECO() | You have set USE_MINI_HALOS to True but INHOMO_RECO to False! Automatically setting INHOMO_RECO to True.\n",
      "2024-04-15 09:53:52,221 | WARNING | inputs.py::validate_all_inputs() | USE_MINI_HALOS needs USE_RELATIVE_VELOCITIES to get the right evolution!\n",
      "2024-04-15 09:53:52,222 | WARNING | inputs.py::INHOMO_RECO() | You have set USE_MINI_HALOS to True but INHOMO_RECO to False! Automatically setting INHOMO_RECO to True.\n",
      "2024-04-15 09:53:52,223 | WARNING | inputs.py::INHOMO_RECO() | You have set USE_MINI_HALOS to True but INHOMO_RECO to False! Automatically setting INHOMO_RECO to True.\n",
      "2024-04-15 09:53:58,482 | WARNING | inputs.py::INHOMO_RECO() | You have set USE_MINI_HALOS to True but INHOMO_RECO to False! Automatically setting INHOMO_RECO to True.\n",
      "2024-04-15 09:53:58,508 | WARNING | inputs.py::INHOMO_RECO() | You have set USE_MINI_HALOS to True but INHOMO_RECO to False! Automatically setting INHOMO_RECO to True.\n",
      "2024-04-15 09:53:58,509 | WARNING | inputs.py::INHOMO_RECO() | You have set USE_MINI_HALOS to True but INHOMO_RECO to False! Automatically setting INHOMO_RECO to True.\n",
      "2024-04-15 09:53:58,509 | WARNING | inputs.py::INHOMO_RECO() | You have set USE_MINI_HALOS to True but INHOMO_RECO to False! Automatically setting INHOMO_RECO to True.\n",
      "2024-04-15 09:53:58,510 | WARNING | inputs.py::INHOMO_RECO() | You have set USE_MINI_HALOS to True but INHOMO_RECO to False! Automatically setting INHOMO_RECO to True.\n",
      "2024-04-15 09:53:58,510 | WARNING | inputs.py::INHOMO_RECO() | You have set USE_MINI_HALOS to True but INHOMO_RECO to False! Automatically setting INHOMO_RECO to True.\n",
      "2024-04-15 09:53:58,510 | WARNING | inputs.py::validate_all_inputs() | USE_MINI_HALOS needs USE_RELATIVE_VELOCITIES to get the right evolution!\n",
      "2024-04-15 09:53:58,511 | WARNING | inputs.py::INHOMO_RECO() | You have set USE_MINI_HALOS to True but INHOMO_RECO to False! Automatically setting INHOMO_RECO to True.\n",
      "2024-04-15 09:53:58,513 | WARNING | inputs.py::INHOMO_RECO() | You have set USE_MINI_HALOS to True but INHOMO_RECO to False! Automatically setting INHOMO_RECO to True.\n",
      "2024-04-15 09:53:58,513 | WARNING | inputs.py::INHOMO_RECO() | You have set USE_MINI_HALOS to True but INHOMO_RECO to False! Automatically setting INHOMO_RECO to True.\n",
      "2024-04-15 09:54:09,946 | WARNING | inputs.py::INHOMO_RECO() | You have set USE_MINI_HALOS to True but INHOMO_RECO to False! Automatically setting INHOMO_RECO to True.\n",
      "2024-04-15 09:54:10,245 | WARNING | inputs.py::INHOMO_RECO() | You have set USE_MINI_HALOS to True but INHOMO_RECO to False! Automatically setting INHOMO_RECO to True.\n",
      "2024-04-15 09:54:10,247 | WARNING | inputs.py::INHOMO_RECO() | You have set USE_MINI_HALOS to True but INHOMO_RECO to False! Automatically setting INHOMO_RECO to True.\n",
      "2024-04-15 09:54:10,249 | WARNING | inputs.py::INHOMO_RECO() | You have set USE_MINI_HALOS to True but INHOMO_RECO to False! Automatically setting INHOMO_RECO to True.\n",
      "2024-04-15 09:54:10,249 | WARNING | inputs.py::INHOMO_RECO() | You have set USE_MINI_HALOS to True but INHOMO_RECO to False! Automatically setting INHOMO_RECO to True.\n",
      "2024-04-15 09:54:10,250 | WARNING | inputs.py::INHOMO_RECO() | You have set USE_MINI_HALOS to True but INHOMO_RECO to False! Automatically setting INHOMO_RECO to True.\n",
      "2024-04-15 09:54:10,250 | WARNING | inputs.py::validate_all_inputs() | USE_MINI_HALOS needs USE_RELATIVE_VELOCITIES to get the right evolution!\n",
      "2024-04-15 09:54:10,251 | WARNING | inputs.py::INHOMO_RECO() | You have set USE_MINI_HALOS to True but INHOMO_RECO to False! Automatically setting INHOMO_RECO to True.\n",
      "2024-04-15 09:54:10,253 | WARNING | inputs.py::INHOMO_RECO() | You have set USE_MINI_HALOS to True but INHOMO_RECO to False! Automatically setting INHOMO_RECO to True.\n",
      "2024-04-15 09:54:16,240 | WARNING | inputs.py::INHOMO_RECO() | You have set USE_MINI_HALOS to True but INHOMO_RECO to False! Automatically setting INHOMO_RECO to True.\n",
      "2024-04-15 09:54:16,261 | WARNING | inputs.py::INHOMO_RECO() | You have set USE_MINI_HALOS to True but INHOMO_RECO to False! Automatically setting INHOMO_RECO to True.\n",
      "2024-04-15 09:54:16,262 | WARNING | inputs.py::INHOMO_RECO() | You have set USE_MINI_HALOS to True but INHOMO_RECO to False! Automatically setting INHOMO_RECO to True.\n",
      "2024-04-15 09:54:16,263 | WARNING | inputs.py::INHOMO_RECO() | You have set USE_MINI_HALOS to True but INHOMO_RECO to False! Automatically setting INHOMO_RECO to True.\n",
      "2024-04-15 09:54:16,264 | WARNING | inputs.py::INHOMO_RECO() | You have set USE_MINI_HALOS to True but INHOMO_RECO to False! Automatically setting INHOMO_RECO to True.\n",
      "2024-04-15 09:54:16,264 | WARNING | inputs.py::INHOMO_RECO() | You have set USE_MINI_HALOS to True but INHOMO_RECO to False! Automatically setting INHOMO_RECO to True.\n",
      "2024-04-15 09:54:16,265 | WARNING | inputs.py::validate_all_inputs() | USE_MINI_HALOS needs USE_RELATIVE_VELOCITIES to get the right evolution!\n",
      "2024-04-15 09:54:16,265 | WARNING | inputs.py::INHOMO_RECO() | You have set USE_MINI_HALOS to True but INHOMO_RECO to False! Automatically setting INHOMO_RECO to True.\n",
      "2024-04-15 09:54:16,267 | WARNING | inputs.py::INHOMO_RECO() | You have set USE_MINI_HALOS to True but INHOMO_RECO to False! Automatically setting INHOMO_RECO to True.\n",
      "2024-04-15 09:54:16,267 | WARNING | inputs.py::INHOMO_RECO() | You have set USE_MINI_HALOS to True but INHOMO_RECO to False! Automatically setting INHOMO_RECO to True.\n",
      "2024-04-15 09:54:27,776 | WARNING | inputs.py::INHOMO_RECO() | You have set USE_MINI_HALOS to True but INHOMO_RECO to False! Automatically setting INHOMO_RECO to True.\n",
      "2024-04-15 09:54:28,069 | WARNING | inputs.py::INHOMO_RECO() | You have set USE_MINI_HALOS to True but INHOMO_RECO to False! Automatically setting INHOMO_RECO to True.\n",
      "2024-04-15 09:54:28,071 | WARNING | inputs.py::INHOMO_RECO() | You have set USE_MINI_HALOS to True but INHOMO_RECO to False! Automatically setting INHOMO_RECO to True.\n",
      "2024-04-15 09:54:28,074 | WARNING | inputs.py::INHOMO_RECO() | You have set USE_MINI_HALOS to True but INHOMO_RECO to False! Automatically setting INHOMO_RECO to True.\n",
      "2024-04-15 09:54:28,074 | WARNING | inputs.py::INHOMO_RECO() | You have set USE_MINI_HALOS to True but INHOMO_RECO to False! Automatically setting INHOMO_RECO to True.\n",
      "2024-04-15 09:54:28,075 | WARNING | inputs.py::INHOMO_RECO() | You have set USE_MINI_HALOS to True but INHOMO_RECO to False! Automatically setting INHOMO_RECO to True.\n",
      "2024-04-15 09:54:28,076 | WARNING | inputs.py::validate_all_inputs() | USE_MINI_HALOS needs USE_RELATIVE_VELOCITIES to get the right evolution!\n"
     ]
    },
    {
     "name": "stderr",
     "output_type": "stream",
     "text": [
      "2024-04-15 09:54:28,077 | WARNING | inputs.py::INHOMO_RECO() | You have set USE_MINI_HALOS to True but INHOMO_RECO to False! Automatically setting INHOMO_RECO to True.\n",
      "2024-04-15 09:54:28,080 | WARNING | inputs.py::INHOMO_RECO() | You have set USE_MINI_HALOS to True but INHOMO_RECO to False! Automatically setting INHOMO_RECO to True.\n",
      "2024-04-15 09:54:34,044 | WARNING | inputs.py::INHOMO_RECO() | You have set USE_MINI_HALOS to True but INHOMO_RECO to False! Automatically setting INHOMO_RECO to True.\n",
      "2024-04-15 09:54:34,071 | WARNING | inputs.py::INHOMO_RECO() | You have set USE_MINI_HALOS to True but INHOMO_RECO to False! Automatically setting INHOMO_RECO to True.\n",
      "2024-04-15 09:54:34,072 | WARNING | inputs.py::INHOMO_RECO() | You have set USE_MINI_HALOS to True but INHOMO_RECO to False! Automatically setting INHOMO_RECO to True.\n",
      "2024-04-15 09:54:34,073 | WARNING | inputs.py::INHOMO_RECO() | You have set USE_MINI_HALOS to True but INHOMO_RECO to False! Automatically setting INHOMO_RECO to True.\n",
      "2024-04-15 09:54:34,073 | WARNING | inputs.py::INHOMO_RECO() | You have set USE_MINI_HALOS to True but INHOMO_RECO to False! Automatically setting INHOMO_RECO to True.\n",
      "2024-04-15 09:54:34,074 | WARNING | inputs.py::INHOMO_RECO() | You have set USE_MINI_HALOS to True but INHOMO_RECO to False! Automatically setting INHOMO_RECO to True.\n",
      "2024-04-15 09:54:34,075 | WARNING | inputs.py::validate_all_inputs() | USE_MINI_HALOS needs USE_RELATIVE_VELOCITIES to get the right evolution!\n",
      "2024-04-15 09:54:34,077 | WARNING | inputs.py::INHOMO_RECO() | You have set USE_MINI_HALOS to True but INHOMO_RECO to False! Automatically setting INHOMO_RECO to True.\n",
      "2024-04-15 09:54:34,079 | WARNING | inputs.py::INHOMO_RECO() | You have set USE_MINI_HALOS to True but INHOMO_RECO to False! Automatically setting INHOMO_RECO to True.\n",
      "2024-04-15 09:54:34,080 | WARNING | inputs.py::INHOMO_RECO() | You have set USE_MINI_HALOS to True but INHOMO_RECO to False! Automatically setting INHOMO_RECO to True.\n",
      "2024-04-15 09:54:57,646 | WARNING | inputs.py::INHOMO_RECO() | You have set USE_MINI_HALOS to True but INHOMO_RECO to False! Automatically setting INHOMO_RECO to True.\n",
      "2024-04-15 09:54:57,937 | WARNING | inputs.py::INHOMO_RECO() | You have set USE_MINI_HALOS to True but INHOMO_RECO to False! Automatically setting INHOMO_RECO to True.\n",
      "2024-04-15 09:54:57,938 | WARNING | inputs.py::INHOMO_RECO() | You have set USE_MINI_HALOS to True but INHOMO_RECO to False! Automatically setting INHOMO_RECO to True.\n",
      "2024-04-15 09:54:57,939 | WARNING | inputs.py::INHOMO_RECO() | You have set USE_MINI_HALOS to True but INHOMO_RECO to False! Automatically setting INHOMO_RECO to True.\n",
      "2024-04-15 09:54:57,940 | WARNING | inputs.py::INHOMO_RECO() | You have set USE_MINI_HALOS to True but INHOMO_RECO to False! Automatically setting INHOMO_RECO to True.\n",
      "2024-04-15 09:54:57,940 | WARNING | inputs.py::INHOMO_RECO() | You have set USE_MINI_HALOS to True but INHOMO_RECO to False! Automatically setting INHOMO_RECO to True.\n",
      "2024-04-15 09:54:57,941 | WARNING | inputs.py::validate_all_inputs() | USE_MINI_HALOS needs USE_RELATIVE_VELOCITIES to get the right evolution!\n",
      "2024-04-15 09:54:57,941 | WARNING | inputs.py::INHOMO_RECO() | You have set USE_MINI_HALOS to True but INHOMO_RECO to False! Automatically setting INHOMO_RECO to True.\n",
      "2024-04-15 09:54:57,943 | WARNING | inputs.py::INHOMO_RECO() | You have set USE_MINI_HALOS to True but INHOMO_RECO to False! Automatically setting INHOMO_RECO to True.\n",
      "2024-04-15 09:55:03,958 | WARNING | inputs.py::INHOMO_RECO() | You have set USE_MINI_HALOS to True but INHOMO_RECO to False! Automatically setting INHOMO_RECO to True.\n",
      "2024-04-15 09:55:03,988 | WARNING | inputs.py::INHOMO_RECO() | You have set USE_MINI_HALOS to True but INHOMO_RECO to False! Automatically setting INHOMO_RECO to True.\n",
      "2024-04-15 09:55:03,988 | WARNING | inputs.py::INHOMO_RECO() | You have set USE_MINI_HALOS to True but INHOMO_RECO to False! Automatically setting INHOMO_RECO to True.\n",
      "2024-04-15 09:55:03,989 | WARNING | inputs.py::INHOMO_RECO() | You have set USE_MINI_HALOS to True but INHOMO_RECO to False! Automatically setting INHOMO_RECO to True.\n",
      "2024-04-15 09:55:03,990 | WARNING | inputs.py::INHOMO_RECO() | You have set USE_MINI_HALOS to True but INHOMO_RECO to False! Automatically setting INHOMO_RECO to True.\n",
      "2024-04-15 09:55:03,990 | WARNING | inputs.py::INHOMO_RECO() | You have set USE_MINI_HALOS to True but INHOMO_RECO to False! Automatically setting INHOMO_RECO to True.\n",
      "2024-04-15 09:55:03,991 | WARNING | inputs.py::validate_all_inputs() | USE_MINI_HALOS needs USE_RELATIVE_VELOCITIES to get the right evolution!\n",
      "2024-04-15 09:55:03,992 | WARNING | inputs.py::INHOMO_RECO() | You have set USE_MINI_HALOS to True but INHOMO_RECO to False! Automatically setting INHOMO_RECO to True.\n",
      "2024-04-15 09:55:03,994 | WARNING | inputs.py::INHOMO_RECO() | You have set USE_MINI_HALOS to True but INHOMO_RECO to False! Automatically setting INHOMO_RECO to True.\n",
      "2024-04-15 09:55:03,995 | WARNING | inputs.py::INHOMO_RECO() | You have set USE_MINI_HALOS to True but INHOMO_RECO to False! Automatically setting INHOMO_RECO to True.\n",
      "2024-04-15 09:55:28,137 | WARNING | inputs.py::INHOMO_RECO() | You have set USE_MINI_HALOS to True but INHOMO_RECO to False! Automatically setting INHOMO_RECO to True.\n",
      "2024-04-15 09:55:28,415 | WARNING | inputs.py::INHOMO_RECO() | You have set USE_MINI_HALOS to True but INHOMO_RECO to False! Automatically setting INHOMO_RECO to True.\n",
      "2024-04-15 09:55:28,416 | WARNING | inputs.py::INHOMO_RECO() | You have set USE_MINI_HALOS to True but INHOMO_RECO to False! Automatically setting INHOMO_RECO to True.\n",
      "2024-04-15 09:55:28,418 | WARNING | inputs.py::INHOMO_RECO() | You have set USE_MINI_HALOS to True but INHOMO_RECO to False! Automatically setting INHOMO_RECO to True.\n",
      "2024-04-15 09:55:28,419 | WARNING | inputs.py::INHOMO_RECO() | You have set USE_MINI_HALOS to True but INHOMO_RECO to False! Automatically setting INHOMO_RECO to True.\n",
      "2024-04-15 09:55:28,419 | WARNING | inputs.py::INHOMO_RECO() | You have set USE_MINI_HALOS to True but INHOMO_RECO to False! Automatically setting INHOMO_RECO to True.\n",
      "2024-04-15 09:55:28,419 | WARNING | inputs.py::validate_all_inputs() | USE_MINI_HALOS needs USE_RELATIVE_VELOCITIES to get the right evolution!\n",
      "2024-04-15 09:55:28,420 | WARNING | inputs.py::INHOMO_RECO() | You have set USE_MINI_HALOS to True but INHOMO_RECO to False! Automatically setting INHOMO_RECO to True.\n",
      "2024-04-15 09:55:28,422 | WARNING | inputs.py::INHOMO_RECO() | You have set USE_MINI_HALOS to True but INHOMO_RECO to False! Automatically setting INHOMO_RECO to True.\n",
      "2024-04-15 09:55:34,984 | WARNING | inputs.py::INHOMO_RECO() | You have set USE_MINI_HALOS to True but INHOMO_RECO to False! Automatically setting INHOMO_RECO to True.\n",
      "2024-04-15 09:55:35,010 | WARNING | inputs.py::INHOMO_RECO() | You have set USE_MINI_HALOS to True but INHOMO_RECO to False! Automatically setting INHOMO_RECO to True.\n",
      "2024-04-15 09:55:35,011 | WARNING | inputs.py::INHOMO_RECO() | You have set USE_MINI_HALOS to True but INHOMO_RECO to False! Automatically setting INHOMO_RECO to True.\n",
      "2024-04-15 09:55:35,012 | WARNING | inputs.py::INHOMO_RECO() | You have set USE_MINI_HALOS to True but INHOMO_RECO to False! Automatically setting INHOMO_RECO to True.\n",
      "2024-04-15 09:55:35,012 | WARNING | inputs.py::INHOMO_RECO() | You have set USE_MINI_HALOS to True but INHOMO_RECO to False! Automatically setting INHOMO_RECO to True.\n",
      "2024-04-15 09:55:35,013 | WARNING | inputs.py::INHOMO_RECO() | You have set USE_MINI_HALOS to True but INHOMO_RECO to False! Automatically setting INHOMO_RECO to True.\n",
      "2024-04-15 09:55:35,013 | WARNING | inputs.py::validate_all_inputs() | USE_MINI_HALOS needs USE_RELATIVE_VELOCITIES to get the right evolution!\n",
      "2024-04-15 09:55:35,014 | WARNING | inputs.py::INHOMO_RECO() | You have set USE_MINI_HALOS to True but INHOMO_RECO to False! Automatically setting INHOMO_RECO to True.\n",
      "2024-04-15 09:55:35,016 | WARNING | inputs.py::INHOMO_RECO() | You have set USE_MINI_HALOS to True but INHOMO_RECO to False! Automatically setting INHOMO_RECO to True.\n",
      "2024-04-15 09:55:35,017 | WARNING | inputs.py::INHOMO_RECO() | You have set USE_MINI_HALOS to True but INHOMO_RECO to False! Automatically setting INHOMO_RECO to True.\n"
     ]
    },
    {
     "name": "stderr",
     "output_type": "stream",
     "text": [
      "2024-04-15 09:56:00,254 | WARNING | inputs.py::INHOMO_RECO() | You have set USE_MINI_HALOS to True but INHOMO_RECO to False! Automatically setting INHOMO_RECO to True.\n",
      "2024-04-15 09:56:00,539 | WARNING | inputs.py::INHOMO_RECO() | You have set USE_MINI_HALOS to True but INHOMO_RECO to False! Automatically setting INHOMO_RECO to True.\n",
      "2024-04-15 09:56:00,541 | WARNING | inputs.py::INHOMO_RECO() | You have set USE_MINI_HALOS to True but INHOMO_RECO to False! Automatically setting INHOMO_RECO to True.\n",
      "2024-04-15 09:56:00,543 | WARNING | inputs.py::INHOMO_RECO() | You have set USE_MINI_HALOS to True but INHOMO_RECO to False! Automatically setting INHOMO_RECO to True.\n",
      "2024-04-15 09:56:00,543 | WARNING | inputs.py::INHOMO_RECO() | You have set USE_MINI_HALOS to True but INHOMO_RECO to False! Automatically setting INHOMO_RECO to True.\n",
      "2024-04-15 09:56:00,544 | WARNING | inputs.py::INHOMO_RECO() | You have set USE_MINI_HALOS to True but INHOMO_RECO to False! Automatically setting INHOMO_RECO to True.\n",
      "2024-04-15 09:56:00,544 | WARNING | inputs.py::validate_all_inputs() | USE_MINI_HALOS needs USE_RELATIVE_VELOCITIES to get the right evolution!\n",
      "2024-04-15 09:56:00,545 | WARNING | inputs.py::INHOMO_RECO() | You have set USE_MINI_HALOS to True but INHOMO_RECO to False! Automatically setting INHOMO_RECO to True.\n",
      "2024-04-15 09:56:00,547 | WARNING | inputs.py::INHOMO_RECO() | You have set USE_MINI_HALOS to True but INHOMO_RECO to False! Automatically setting INHOMO_RECO to True.\n",
      "2024-04-15 09:56:07,340 | WARNING | inputs.py::INHOMO_RECO() | You have set USE_MINI_HALOS to True but INHOMO_RECO to False! Automatically setting INHOMO_RECO to True.\n",
      "2024-04-15 09:56:07,365 | WARNING | inputs.py::INHOMO_RECO() | You have set USE_MINI_HALOS to True but INHOMO_RECO to False! Automatically setting INHOMO_RECO to True.\n",
      "2024-04-15 09:56:07,366 | WARNING | inputs.py::INHOMO_RECO() | You have set USE_MINI_HALOS to True but INHOMO_RECO to False! Automatically setting INHOMO_RECO to True.\n",
      "2024-04-15 09:56:07,366 | WARNING | inputs.py::INHOMO_RECO() | You have set USE_MINI_HALOS to True but INHOMO_RECO to False! Automatically setting INHOMO_RECO to True.\n",
      "2024-04-15 09:56:07,367 | WARNING | inputs.py::INHOMO_RECO() | You have set USE_MINI_HALOS to True but INHOMO_RECO to False! Automatically setting INHOMO_RECO to True.\n",
      "2024-04-15 09:56:07,367 | WARNING | inputs.py::INHOMO_RECO() | You have set USE_MINI_HALOS to True but INHOMO_RECO to False! Automatically setting INHOMO_RECO to True.\n",
      "2024-04-15 09:56:07,368 | WARNING | inputs.py::validate_all_inputs() | USE_MINI_HALOS needs USE_RELATIVE_VELOCITIES to get the right evolution!\n",
      "2024-04-15 09:56:07,368 | WARNING | inputs.py::INHOMO_RECO() | You have set USE_MINI_HALOS to True but INHOMO_RECO to False! Automatically setting INHOMO_RECO to True.\n",
      "2024-04-15 09:56:07,370 | WARNING | inputs.py::INHOMO_RECO() | You have set USE_MINI_HALOS to True but INHOMO_RECO to False! Automatically setting INHOMO_RECO to True.\n",
      "2024-04-15 09:56:07,371 | WARNING | inputs.py::INHOMO_RECO() | You have set USE_MINI_HALOS to True but INHOMO_RECO to False! Automatically setting INHOMO_RECO to True.\n",
      "2024-04-15 09:56:32,942 | WARNING | inputs.py::INHOMO_RECO() | You have set USE_MINI_HALOS to True but INHOMO_RECO to False! Automatically setting INHOMO_RECO to True.\n",
      "2024-04-15 09:56:33,215 | WARNING | inputs.py::INHOMO_RECO() | You have set USE_MINI_HALOS to True but INHOMO_RECO to False! Automatically setting INHOMO_RECO to True.\n",
      "2024-04-15 09:56:33,217 | WARNING | inputs.py::INHOMO_RECO() | You have set USE_MINI_HALOS to True but INHOMO_RECO to False! Automatically setting INHOMO_RECO to True.\n",
      "2024-04-15 09:56:33,218 | WARNING | inputs.py::INHOMO_RECO() | You have set USE_MINI_HALOS to True but INHOMO_RECO to False! Automatically setting INHOMO_RECO to True.\n",
      "2024-04-15 09:56:33,219 | WARNING | inputs.py::INHOMO_RECO() | You have set USE_MINI_HALOS to True but INHOMO_RECO to False! Automatically setting INHOMO_RECO to True.\n",
      "2024-04-15 09:56:33,220 | WARNING | inputs.py::INHOMO_RECO() | You have set USE_MINI_HALOS to True but INHOMO_RECO to False! Automatically setting INHOMO_RECO to True.\n",
      "2024-04-15 09:56:33,220 | WARNING | inputs.py::validate_all_inputs() | USE_MINI_HALOS needs USE_RELATIVE_VELOCITIES to get the right evolution!\n",
      "2024-04-15 09:56:33,221 | WARNING | inputs.py::INHOMO_RECO() | You have set USE_MINI_HALOS to True but INHOMO_RECO to False! Automatically setting INHOMO_RECO to True.\n",
      "2024-04-15 09:56:33,223 | WARNING | inputs.py::INHOMO_RECO() | You have set USE_MINI_HALOS to True but INHOMO_RECO to False! Automatically setting INHOMO_RECO to True.\n",
      "2024-04-15 09:56:40,058 | WARNING | inputs.py::INHOMO_RECO() | You have set USE_MINI_HALOS to True but INHOMO_RECO to False! Automatically setting INHOMO_RECO to True.\n",
      "2024-04-15 09:56:40,104 | WARNING | inputs.py::INHOMO_RECO() | You have set USE_MINI_HALOS to True but INHOMO_RECO to False! Automatically setting INHOMO_RECO to True.\n",
      "2024-04-15 09:56:40,104 | WARNING | inputs.py::INHOMO_RECO() | You have set USE_MINI_HALOS to True but INHOMO_RECO to False! Automatically setting INHOMO_RECO to True.\n",
      "2024-04-15 09:56:40,105 | WARNING | inputs.py::INHOMO_RECO() | You have set USE_MINI_HALOS to True but INHOMO_RECO to False! Automatically setting INHOMO_RECO to True.\n",
      "2024-04-15 09:56:40,105 | WARNING | inputs.py::INHOMO_RECO() | You have set USE_MINI_HALOS to True but INHOMO_RECO to False! Automatically setting INHOMO_RECO to True.\n",
      "2024-04-15 09:56:40,105 | WARNING | inputs.py::INHOMO_RECO() | You have set USE_MINI_HALOS to True but INHOMO_RECO to False! Automatically setting INHOMO_RECO to True.\n",
      "2024-04-15 09:56:40,106 | WARNING | inputs.py::validate_all_inputs() | USE_MINI_HALOS needs USE_RELATIVE_VELOCITIES to get the right evolution!\n",
      "2024-04-15 09:56:40,106 | WARNING | inputs.py::INHOMO_RECO() | You have set USE_MINI_HALOS to True but INHOMO_RECO to False! Automatically setting INHOMO_RECO to True.\n",
      "2024-04-15 09:56:40,116 | WARNING | inputs.py::INHOMO_RECO() | You have set USE_MINI_HALOS to True but INHOMO_RECO to False! Automatically setting INHOMO_RECO to True.\n",
      "2024-04-15 09:56:40,117 | WARNING | inputs.py::INHOMO_RECO() | You have set USE_MINI_HALOS to True but INHOMO_RECO to False! Automatically setting INHOMO_RECO to True.\n",
      "2024-04-15 09:57:05,998 | WARNING | inputs.py::INHOMO_RECO() | You have set USE_MINI_HALOS to True but INHOMO_RECO to False! Automatically setting INHOMO_RECO to True.\n",
      "2024-04-15 09:57:06,164 | WARNING | inputs.py::INHOMO_RECO() | You have set USE_MINI_HALOS to True but INHOMO_RECO to False! Automatically setting INHOMO_RECO to True.\n",
      "2024-04-15 09:57:06,165 | WARNING | inputs.py::INHOMO_RECO() | You have set USE_MINI_HALOS to True but INHOMO_RECO to False! Automatically setting INHOMO_RECO to True.\n",
      "2024-04-15 09:57:06,167 | WARNING | inputs.py::INHOMO_RECO() | You have set USE_MINI_HALOS to True but INHOMO_RECO to False! Automatically setting INHOMO_RECO to True.\n",
      "2024-04-15 09:57:06,167 | WARNING | inputs.py::INHOMO_RECO() | You have set USE_MINI_HALOS to True but INHOMO_RECO to False! Automatically setting INHOMO_RECO to True.\n",
      "2024-04-15 09:57:06,168 | WARNING | inputs.py::INHOMO_RECO() | You have set USE_MINI_HALOS to True but INHOMO_RECO to False! Automatically setting INHOMO_RECO to True.\n",
      "2024-04-15 09:57:06,168 | WARNING | inputs.py::validate_all_inputs() | USE_MINI_HALOS needs USE_RELATIVE_VELOCITIES to get the right evolution!\n",
      "2024-04-15 09:57:06,169 | WARNING | inputs.py::INHOMO_RECO() | You have set USE_MINI_HALOS to True but INHOMO_RECO to False! Automatically setting INHOMO_RECO to True.\n",
      "2024-04-15 09:57:06,171 | WARNING | inputs.py::INHOMO_RECO() | You have set USE_MINI_HALOS to True but INHOMO_RECO to False! Automatically setting INHOMO_RECO to True.\n",
      "2024-04-15 09:57:12,944 | WARNING | inputs.py::INHOMO_RECO() | You have set USE_MINI_HALOS to True but INHOMO_RECO to False! Automatically setting INHOMO_RECO to True.\n",
      "2024-04-15 09:57:12,970 | WARNING | inputs.py::INHOMO_RECO() | You have set USE_MINI_HALOS to True but INHOMO_RECO to False! Automatically setting INHOMO_RECO to True.\n",
      "2024-04-15 09:57:12,971 | WARNING | inputs.py::INHOMO_RECO() | You have set USE_MINI_HALOS to True but INHOMO_RECO to False! Automatically setting INHOMO_RECO to True.\n"
     ]
    },
    {
     "name": "stderr",
     "output_type": "stream",
     "text": [
      "2024-04-15 09:57:12,972 | WARNING | inputs.py::INHOMO_RECO() | You have set USE_MINI_HALOS to True but INHOMO_RECO to False! Automatically setting INHOMO_RECO to True.\n",
      "2024-04-15 09:57:12,973 | WARNING | inputs.py::INHOMO_RECO() | You have set USE_MINI_HALOS to True but INHOMO_RECO to False! Automatically setting INHOMO_RECO to True.\n",
      "2024-04-15 09:57:12,974 | WARNING | inputs.py::INHOMO_RECO() | You have set USE_MINI_HALOS to True but INHOMO_RECO to False! Automatically setting INHOMO_RECO to True.\n",
      "2024-04-15 09:57:12,974 | WARNING | inputs.py::validate_all_inputs() | USE_MINI_HALOS needs USE_RELATIVE_VELOCITIES to get the right evolution!\n",
      "2024-04-15 09:57:12,975 | WARNING | inputs.py::INHOMO_RECO() | You have set USE_MINI_HALOS to True but INHOMO_RECO to False! Automatically setting INHOMO_RECO to True.\n",
      "2024-04-15 09:57:12,977 | WARNING | inputs.py::INHOMO_RECO() | You have set USE_MINI_HALOS to True but INHOMO_RECO to False! Automatically setting INHOMO_RECO to True.\n",
      "2024-04-15 09:57:12,977 | WARNING | inputs.py::INHOMO_RECO() | You have set USE_MINI_HALOS to True but INHOMO_RECO to False! Automatically setting INHOMO_RECO to True.\n",
      "2024-04-15 09:57:38,788 | WARNING | inputs.py::INHOMO_RECO() | You have set USE_MINI_HALOS to True but INHOMO_RECO to False! Automatically setting INHOMO_RECO to True.\n",
      "2024-04-15 09:57:38,978 | WARNING | inputs.py::INHOMO_RECO() | You have set USE_MINI_HALOS to True but INHOMO_RECO to False! Automatically setting INHOMO_RECO to True.\n",
      "2024-04-15 09:57:38,979 | WARNING | inputs.py::INHOMO_RECO() | You have set USE_MINI_HALOS to True but INHOMO_RECO to False! Automatically setting INHOMO_RECO to True.\n",
      "2024-04-15 09:57:38,981 | WARNING | inputs.py::INHOMO_RECO() | You have set USE_MINI_HALOS to True but INHOMO_RECO to False! Automatically setting INHOMO_RECO to True.\n",
      "2024-04-15 09:57:38,982 | WARNING | inputs.py::INHOMO_RECO() | You have set USE_MINI_HALOS to True but INHOMO_RECO to False! Automatically setting INHOMO_RECO to True.\n",
      "2024-04-15 09:57:38,983 | WARNING | inputs.py::INHOMO_RECO() | You have set USE_MINI_HALOS to True but INHOMO_RECO to False! Automatically setting INHOMO_RECO to True.\n",
      "2024-04-15 09:57:38,983 | WARNING | inputs.py::validate_all_inputs() | USE_MINI_HALOS needs USE_RELATIVE_VELOCITIES to get the right evolution!\n",
      "2024-04-15 09:57:38,984 | WARNING | inputs.py::INHOMO_RECO() | You have set USE_MINI_HALOS to True but INHOMO_RECO to False! Automatically setting INHOMO_RECO to True.\n",
      "2024-04-15 09:57:38,986 | WARNING | inputs.py::INHOMO_RECO() | You have set USE_MINI_HALOS to True but INHOMO_RECO to False! Automatically setting INHOMO_RECO to True.\n",
      "2024-04-15 09:57:45,711 | WARNING | inputs.py::INHOMO_RECO() | You have set USE_MINI_HALOS to True but INHOMO_RECO to False! Automatically setting INHOMO_RECO to True.\n",
      "2024-04-15 09:57:45,739 | WARNING | inputs.py::INHOMO_RECO() | You have set USE_MINI_HALOS to True but INHOMO_RECO to False! Automatically setting INHOMO_RECO to True.\n",
      "2024-04-15 09:57:45,740 | WARNING | inputs.py::INHOMO_RECO() | You have set USE_MINI_HALOS to True but INHOMO_RECO to False! Automatically setting INHOMO_RECO to True.\n",
      "2024-04-15 09:57:45,741 | WARNING | inputs.py::INHOMO_RECO() | You have set USE_MINI_HALOS to True but INHOMO_RECO to False! Automatically setting INHOMO_RECO to True.\n",
      "2024-04-15 09:57:45,742 | WARNING | inputs.py::INHOMO_RECO() | You have set USE_MINI_HALOS to True but INHOMO_RECO to False! Automatically setting INHOMO_RECO to True.\n",
      "2024-04-15 09:57:45,743 | WARNING | inputs.py::INHOMO_RECO() | You have set USE_MINI_HALOS to True but INHOMO_RECO to False! Automatically setting INHOMO_RECO to True.\n",
      "2024-04-15 09:57:45,743 | WARNING | inputs.py::validate_all_inputs() | USE_MINI_HALOS needs USE_RELATIVE_VELOCITIES to get the right evolution!\n",
      "2024-04-15 09:57:45,744 | WARNING | inputs.py::INHOMO_RECO() | You have set USE_MINI_HALOS to True but INHOMO_RECO to False! Automatically setting INHOMO_RECO to True.\n",
      "2024-04-15 09:57:45,747 | WARNING | inputs.py::INHOMO_RECO() | You have set USE_MINI_HALOS to True but INHOMO_RECO to False! Automatically setting INHOMO_RECO to True.\n",
      "2024-04-15 09:57:45,748 | WARNING | inputs.py::INHOMO_RECO() | You have set USE_MINI_HALOS to True but INHOMO_RECO to False! Automatically setting INHOMO_RECO to True.\n",
      "2024-04-15 09:58:08,936 | WARNING | inputs.py::INHOMO_RECO() | You have set USE_MINI_HALOS to True but INHOMO_RECO to False! Automatically setting INHOMO_RECO to True.\n",
      "2024-04-15 09:58:09,223 | WARNING | inputs.py::INHOMO_RECO() | You have set USE_MINI_HALOS to True but INHOMO_RECO to False! Automatically setting INHOMO_RECO to True.\n",
      "2024-04-15 09:58:09,224 | WARNING | inputs.py::INHOMO_RECO() | You have set USE_MINI_HALOS to True but INHOMO_RECO to False! Automatically setting INHOMO_RECO to True.\n",
      "2024-04-15 09:58:09,227 | WARNING | inputs.py::INHOMO_RECO() | You have set USE_MINI_HALOS to True but INHOMO_RECO to False! Automatically setting INHOMO_RECO to True.\n",
      "2024-04-15 09:58:09,227 | WARNING | inputs.py::INHOMO_RECO() | You have set USE_MINI_HALOS to True but INHOMO_RECO to False! Automatically setting INHOMO_RECO to True.\n",
      "2024-04-15 09:58:09,228 | WARNING | inputs.py::INHOMO_RECO() | You have set USE_MINI_HALOS to True but INHOMO_RECO to False! Automatically setting INHOMO_RECO to True.\n",
      "2024-04-15 09:58:09,229 | WARNING | inputs.py::validate_all_inputs() | USE_MINI_HALOS needs USE_RELATIVE_VELOCITIES to get the right evolution!\n",
      "2024-04-15 09:58:09,229 | WARNING | inputs.py::INHOMO_RECO() | You have set USE_MINI_HALOS to True but INHOMO_RECO to False! Automatically setting INHOMO_RECO to True.\n",
      "2024-04-15 09:58:09,232 | WARNING | inputs.py::INHOMO_RECO() | You have set USE_MINI_HALOS to True but INHOMO_RECO to False! Automatically setting INHOMO_RECO to True.\n",
      "2024-04-15 09:58:15,287 | WARNING | inputs.py::INHOMO_RECO() | You have set USE_MINI_HALOS to True but INHOMO_RECO to False! Automatically setting INHOMO_RECO to True.\n",
      "2024-04-15 09:58:15,315 | WARNING | inputs.py::INHOMO_RECO() | You have set USE_MINI_HALOS to True but INHOMO_RECO to False! Automatically setting INHOMO_RECO to True.\n",
      "2024-04-15 09:58:15,316 | WARNING | inputs.py::INHOMO_RECO() | You have set USE_MINI_HALOS to True but INHOMO_RECO to False! Automatically setting INHOMO_RECO to True.\n",
      "2024-04-15 09:58:15,317 | WARNING | inputs.py::INHOMO_RECO() | You have set USE_MINI_HALOS to True but INHOMO_RECO to False! Automatically setting INHOMO_RECO to True.\n",
      "2024-04-15 09:58:15,317 | WARNING | inputs.py::INHOMO_RECO() | You have set USE_MINI_HALOS to True but INHOMO_RECO to False! Automatically setting INHOMO_RECO to True.\n",
      "2024-04-15 09:58:15,318 | WARNING | inputs.py::INHOMO_RECO() | You have set USE_MINI_HALOS to True but INHOMO_RECO to False! Automatically setting INHOMO_RECO to True.\n",
      "2024-04-15 09:58:15,319 | WARNING | inputs.py::validate_all_inputs() | USE_MINI_HALOS needs USE_RELATIVE_VELOCITIES to get the right evolution!\n",
      "2024-04-15 09:58:15,320 | WARNING | inputs.py::INHOMO_RECO() | You have set USE_MINI_HALOS to True but INHOMO_RECO to False! Automatically setting INHOMO_RECO to True.\n",
      "2024-04-15 09:58:15,322 | WARNING | inputs.py::INHOMO_RECO() | You have set USE_MINI_HALOS to True but INHOMO_RECO to False! Automatically setting INHOMO_RECO to True.\n",
      "2024-04-15 09:58:15,323 | WARNING | inputs.py::INHOMO_RECO() | You have set USE_MINI_HALOS to True but INHOMO_RECO to False! Automatically setting INHOMO_RECO to True.\n",
      "2024-04-15 09:58:38,471 | WARNING | inputs.py::INHOMO_RECO() | You have set USE_MINI_HALOS to True but INHOMO_RECO to False! Automatically setting INHOMO_RECO to True.\n",
      "2024-04-15 09:58:38,755 | WARNING | inputs.py::INHOMO_RECO() | You have set USE_MINI_HALOS to True but INHOMO_RECO to False! Automatically setting INHOMO_RECO to True.\n",
      "2024-04-15 09:58:38,757 | WARNING | inputs.py::INHOMO_RECO() | You have set USE_MINI_HALOS to True but INHOMO_RECO to False! Automatically setting INHOMO_RECO to True.\n",
      "2024-04-15 09:58:38,758 | WARNING | inputs.py::INHOMO_RECO() | You have set USE_MINI_HALOS to True but INHOMO_RECO to False! Automatically setting INHOMO_RECO to True.\n",
      "2024-04-15 09:58:38,759 | WARNING | inputs.py::INHOMO_RECO() | You have set USE_MINI_HALOS to True but INHOMO_RECO to False! Automatically setting INHOMO_RECO to True.\n"
     ]
    },
    {
     "name": "stderr",
     "output_type": "stream",
     "text": [
      "2024-04-15 09:58:38,759 | WARNING | inputs.py::INHOMO_RECO() | You have set USE_MINI_HALOS to True but INHOMO_RECO to False! Automatically setting INHOMO_RECO to True.\n",
      "2024-04-15 09:58:38,760 | WARNING | inputs.py::validate_all_inputs() | USE_MINI_HALOS needs USE_RELATIVE_VELOCITIES to get the right evolution!\n",
      "2024-04-15 09:58:38,760 | WARNING | inputs.py::INHOMO_RECO() | You have set USE_MINI_HALOS to True but INHOMO_RECO to False! Automatically setting INHOMO_RECO to True.\n",
      "2024-04-15 09:58:38,762 | WARNING | inputs.py::INHOMO_RECO() | You have set USE_MINI_HALOS to True but INHOMO_RECO to False! Automatically setting INHOMO_RECO to True.\n",
      "2024-04-15 09:58:44,697 | WARNING | inputs.py::INHOMO_RECO() | You have set USE_MINI_HALOS to True but INHOMO_RECO to False! Automatically setting INHOMO_RECO to True.\n",
      "2024-04-15 09:58:44,728 | WARNING | inputs.py::INHOMO_RECO() | You have set USE_MINI_HALOS to True but INHOMO_RECO to False! Automatically setting INHOMO_RECO to True.\n",
      "2024-04-15 09:58:44,729 | WARNING | inputs.py::INHOMO_RECO() | You have set USE_MINI_HALOS to True but INHOMO_RECO to False! Automatically setting INHOMO_RECO to True.\n",
      "2024-04-15 09:58:44,729 | WARNING | inputs.py::INHOMO_RECO() | You have set USE_MINI_HALOS to True but INHOMO_RECO to False! Automatically setting INHOMO_RECO to True.\n",
      "2024-04-15 09:58:44,730 | WARNING | inputs.py::INHOMO_RECO() | You have set USE_MINI_HALOS to True but INHOMO_RECO to False! Automatically setting INHOMO_RECO to True.\n",
      "2024-04-15 09:58:44,730 | WARNING | inputs.py::INHOMO_RECO() | You have set USE_MINI_HALOS to True but INHOMO_RECO to False! Automatically setting INHOMO_RECO to True.\n",
      "2024-04-15 09:58:44,731 | WARNING | inputs.py::validate_all_inputs() | USE_MINI_HALOS needs USE_RELATIVE_VELOCITIES to get the right evolution!\n",
      "2024-04-15 09:58:44,731 | WARNING | inputs.py::INHOMO_RECO() | You have set USE_MINI_HALOS to True but INHOMO_RECO to False! Automatically setting INHOMO_RECO to True.\n",
      "2024-04-15 09:58:44,733 | WARNING | inputs.py::INHOMO_RECO() | You have set USE_MINI_HALOS to True but INHOMO_RECO to False! Automatically setting INHOMO_RECO to True.\n",
      "2024-04-15 09:58:44,733 | WARNING | inputs.py::INHOMO_RECO() | You have set USE_MINI_HALOS to True but INHOMO_RECO to False! Automatically setting INHOMO_RECO to True.\n",
      "2024-04-15 09:59:09,411 | WARNING | inputs.py::INHOMO_RECO() | You have set USE_MINI_HALOS to True but INHOMO_RECO to False! Automatically setting INHOMO_RECO to True.\n",
      "2024-04-15 09:59:09,688 | WARNING | inputs.py::INHOMO_RECO() | You have set USE_MINI_HALOS to True but INHOMO_RECO to False! Automatically setting INHOMO_RECO to True.\n",
      "2024-04-15 09:59:09,690 | WARNING | inputs.py::INHOMO_RECO() | You have set USE_MINI_HALOS to True but INHOMO_RECO to False! Automatically setting INHOMO_RECO to True.\n",
      "2024-04-15 09:59:09,692 | WARNING | inputs.py::INHOMO_RECO() | You have set USE_MINI_HALOS to True but INHOMO_RECO to False! Automatically setting INHOMO_RECO to True.\n",
      "2024-04-15 09:59:09,693 | WARNING | inputs.py::INHOMO_RECO() | You have set USE_MINI_HALOS to True but INHOMO_RECO to False! Automatically setting INHOMO_RECO to True.\n",
      "2024-04-15 09:59:09,693 | WARNING | inputs.py::INHOMO_RECO() | You have set USE_MINI_HALOS to True but INHOMO_RECO to False! Automatically setting INHOMO_RECO to True.\n",
      "2024-04-15 09:59:09,694 | WARNING | inputs.py::validate_all_inputs() | USE_MINI_HALOS needs USE_RELATIVE_VELOCITIES to get the right evolution!\n",
      "2024-04-15 09:59:09,695 | WARNING | inputs.py::INHOMO_RECO() | You have set USE_MINI_HALOS to True but INHOMO_RECO to False! Automatically setting INHOMO_RECO to True.\n",
      "2024-04-15 09:59:09,698 | WARNING | inputs.py::INHOMO_RECO() | You have set USE_MINI_HALOS to True but INHOMO_RECO to False! Automatically setting INHOMO_RECO to True.\n",
      "2024-04-15 09:59:15,662 | WARNING | inputs.py::INHOMO_RECO() | You have set USE_MINI_HALOS to True but INHOMO_RECO to False! Automatically setting INHOMO_RECO to True.\n",
      "2024-04-15 09:59:15,690 | WARNING | inputs.py::INHOMO_RECO() | You have set USE_MINI_HALOS to True but INHOMO_RECO to False! Automatically setting INHOMO_RECO to True.\n",
      "2024-04-15 09:59:15,691 | WARNING | inputs.py::INHOMO_RECO() | You have set USE_MINI_HALOS to True but INHOMO_RECO to False! Automatically setting INHOMO_RECO to True.\n",
      "2024-04-15 09:59:15,692 | WARNING | inputs.py::INHOMO_RECO() | You have set USE_MINI_HALOS to True but INHOMO_RECO to False! Automatically setting INHOMO_RECO to True.\n",
      "2024-04-15 09:59:15,692 | WARNING | inputs.py::INHOMO_RECO() | You have set USE_MINI_HALOS to True but INHOMO_RECO to False! Automatically setting INHOMO_RECO to True.\n",
      "2024-04-15 09:59:15,693 | WARNING | inputs.py::INHOMO_RECO() | You have set USE_MINI_HALOS to True but INHOMO_RECO to False! Automatically setting INHOMO_RECO to True.\n",
      "2024-04-15 09:59:15,694 | WARNING | inputs.py::validate_all_inputs() | USE_MINI_HALOS needs USE_RELATIVE_VELOCITIES to get the right evolution!\n",
      "2024-04-15 09:59:15,695 | WARNING | inputs.py::INHOMO_RECO() | You have set USE_MINI_HALOS to True but INHOMO_RECO to False! Automatically setting INHOMO_RECO to True.\n",
      "2024-04-15 09:59:15,697 | WARNING | inputs.py::INHOMO_RECO() | You have set USE_MINI_HALOS to True but INHOMO_RECO to False! Automatically setting INHOMO_RECO to True.\n",
      "2024-04-15 09:59:15,698 | WARNING | inputs.py::INHOMO_RECO() | You have set USE_MINI_HALOS to True but INHOMO_RECO to False! Automatically setting INHOMO_RECO to True.\n",
      "2024-04-15 09:59:38,633 | WARNING | inputs.py::INHOMO_RECO() | You have set USE_MINI_HALOS to True but INHOMO_RECO to False! Automatically setting INHOMO_RECO to True.\n",
      "2024-04-15 09:59:38,920 | WARNING | inputs.py::INHOMO_RECO() | You have set USE_MINI_HALOS to True but INHOMO_RECO to False! Automatically setting INHOMO_RECO to True.\n",
      "2024-04-15 09:59:38,921 | WARNING | inputs.py::INHOMO_RECO() | You have set USE_MINI_HALOS to True but INHOMO_RECO to False! Automatically setting INHOMO_RECO to True.\n",
      "2024-04-15 09:59:38,923 | WARNING | inputs.py::INHOMO_RECO() | You have set USE_MINI_HALOS to True but INHOMO_RECO to False! Automatically setting INHOMO_RECO to True.\n",
      "2024-04-15 09:59:38,924 | WARNING | inputs.py::INHOMO_RECO() | You have set USE_MINI_HALOS to True but INHOMO_RECO to False! Automatically setting INHOMO_RECO to True.\n",
      "2024-04-15 09:59:38,925 | WARNING | inputs.py::INHOMO_RECO() | You have set USE_MINI_HALOS to True but INHOMO_RECO to False! Automatically setting INHOMO_RECO to True.\n",
      "2024-04-15 09:59:38,925 | WARNING | inputs.py::validate_all_inputs() | USE_MINI_HALOS needs USE_RELATIVE_VELOCITIES to get the right evolution!\n",
      "2024-04-15 09:59:38,926 | WARNING | inputs.py::INHOMO_RECO() | You have set USE_MINI_HALOS to True but INHOMO_RECO to False! Automatically setting INHOMO_RECO to True.\n",
      "2024-04-15 09:59:38,929 | WARNING | inputs.py::INHOMO_RECO() | You have set USE_MINI_HALOS to True but INHOMO_RECO to False! Automatically setting INHOMO_RECO to True.\n",
      "2024-04-15 09:59:44,693 | WARNING | inputs.py::INHOMO_RECO() | You have set USE_MINI_HALOS to True but INHOMO_RECO to False! Automatically setting INHOMO_RECO to True.\n",
      "2024-04-15 09:59:44,722 | WARNING | inputs.py::INHOMO_RECO() | You have set USE_MINI_HALOS to True but INHOMO_RECO to False! Automatically setting INHOMO_RECO to True.\n",
      "2024-04-15 09:59:44,722 | WARNING | inputs.py::INHOMO_RECO() | You have set USE_MINI_HALOS to True but INHOMO_RECO to False! Automatically setting INHOMO_RECO to True.\n",
      "2024-04-15 09:59:44,723 | WARNING | inputs.py::INHOMO_RECO() | You have set USE_MINI_HALOS to True but INHOMO_RECO to False! Automatically setting INHOMO_RECO to True.\n",
      "2024-04-15 09:59:44,724 | WARNING | inputs.py::INHOMO_RECO() | You have set USE_MINI_HALOS to True but INHOMO_RECO to False! Automatically setting INHOMO_RECO to True.\n",
      "2024-04-15 09:59:44,725 | WARNING | inputs.py::INHOMO_RECO() | You have set USE_MINI_HALOS to True but INHOMO_RECO to False! Automatically setting INHOMO_RECO to True.\n",
      "2024-04-15 09:59:44,726 | WARNING | inputs.py::validate_all_inputs() | USE_MINI_HALOS needs USE_RELATIVE_VELOCITIES to get the right evolution!\n",
      "2024-04-15 09:59:44,727 | WARNING | inputs.py::INHOMO_RECO() | You have set USE_MINI_HALOS to True but INHOMO_RECO to False! Automatically setting INHOMO_RECO to True.\n"
     ]
    },
    {
     "name": "stderr",
     "output_type": "stream",
     "text": [
      "2024-04-15 09:59:44,729 | WARNING | inputs.py::INHOMO_RECO() | You have set USE_MINI_HALOS to True but INHOMO_RECO to False! Automatically setting INHOMO_RECO to True.\n",
      "2024-04-15 09:59:44,730 | WARNING | inputs.py::INHOMO_RECO() | You have set USE_MINI_HALOS to True but INHOMO_RECO to False! Automatically setting INHOMO_RECO to True.\n",
      "2024-04-15 10:00:07,524 | WARNING | inputs.py::INHOMO_RECO() | You have set USE_MINI_HALOS to True but INHOMO_RECO to False! Automatically setting INHOMO_RECO to True.\n",
      "2024-04-15 10:00:07,810 | WARNING | inputs.py::INHOMO_RECO() | You have set USE_MINI_HALOS to True but INHOMO_RECO to False! Automatically setting INHOMO_RECO to True.\n",
      "2024-04-15 10:00:07,811 | WARNING | inputs.py::INHOMO_RECO() | You have set USE_MINI_HALOS to True but INHOMO_RECO to False! Automatically setting INHOMO_RECO to True.\n",
      "2024-04-15 10:00:07,813 | WARNING | inputs.py::INHOMO_RECO() | You have set USE_MINI_HALOS to True but INHOMO_RECO to False! Automatically setting INHOMO_RECO to True.\n",
      "2024-04-15 10:00:07,814 | WARNING | inputs.py::INHOMO_RECO() | You have set USE_MINI_HALOS to True but INHOMO_RECO to False! Automatically setting INHOMO_RECO to True.\n",
      "2024-04-15 10:00:07,814 | WARNING | inputs.py::INHOMO_RECO() | You have set USE_MINI_HALOS to True but INHOMO_RECO to False! Automatically setting INHOMO_RECO to True.\n",
      "2024-04-15 10:00:07,814 | WARNING | inputs.py::validate_all_inputs() | USE_MINI_HALOS needs USE_RELATIVE_VELOCITIES to get the right evolution!\n",
      "2024-04-15 10:00:07,815 | WARNING | inputs.py::INHOMO_RECO() | You have set USE_MINI_HALOS to True but INHOMO_RECO to False! Automatically setting INHOMO_RECO to True.\n",
      "2024-04-15 10:00:07,817 | WARNING | inputs.py::INHOMO_RECO() | You have set USE_MINI_HALOS to True but INHOMO_RECO to False! Automatically setting INHOMO_RECO to True.\n",
      "2024-04-15 10:00:13,604 | WARNING | inputs.py::INHOMO_RECO() | You have set USE_MINI_HALOS to True but INHOMO_RECO to False! Automatically setting INHOMO_RECO to True.\n",
      "2024-04-15 10:00:13,631 | WARNING | inputs.py::INHOMO_RECO() | You have set USE_MINI_HALOS to True but INHOMO_RECO to False! Automatically setting INHOMO_RECO to True.\n",
      "2024-04-15 10:00:13,632 | WARNING | inputs.py::INHOMO_RECO() | You have set USE_MINI_HALOS to True but INHOMO_RECO to False! Automatically setting INHOMO_RECO to True.\n",
      "2024-04-15 10:00:13,633 | WARNING | inputs.py::INHOMO_RECO() | You have set USE_MINI_HALOS to True but INHOMO_RECO to False! Automatically setting INHOMO_RECO to True.\n",
      "2024-04-15 10:00:13,634 | WARNING | inputs.py::INHOMO_RECO() | You have set USE_MINI_HALOS to True but INHOMO_RECO to False! Automatically setting INHOMO_RECO to True.\n",
      "2024-04-15 10:00:13,634 | WARNING | inputs.py::INHOMO_RECO() | You have set USE_MINI_HALOS to True but INHOMO_RECO to False! Automatically setting INHOMO_RECO to True.\n",
      "2024-04-15 10:00:13,635 | WARNING | inputs.py::validate_all_inputs() | USE_MINI_HALOS needs USE_RELATIVE_VELOCITIES to get the right evolution!\n",
      "2024-04-15 10:00:13,636 | WARNING | inputs.py::INHOMO_RECO() | You have set USE_MINI_HALOS to True but INHOMO_RECO to False! Automatically setting INHOMO_RECO to True.\n",
      "2024-04-15 10:00:13,638 | WARNING | inputs.py::INHOMO_RECO() | You have set USE_MINI_HALOS to True but INHOMO_RECO to False! Automatically setting INHOMO_RECO to True.\n",
      "2024-04-15 10:00:13,639 | WARNING | inputs.py::INHOMO_RECO() | You have set USE_MINI_HALOS to True but INHOMO_RECO to False! Automatically setting INHOMO_RECO to True.\n",
      "2024-04-15 10:00:36,658 | WARNING | inputs.py::INHOMO_RECO() | You have set USE_MINI_HALOS to True but INHOMO_RECO to False! Automatically setting INHOMO_RECO to True.\n",
      "2024-04-15 10:00:36,949 | WARNING | inputs.py::INHOMO_RECO() | You have set USE_MINI_HALOS to True but INHOMO_RECO to False! Automatically setting INHOMO_RECO to True.\n",
      "2024-04-15 10:00:36,951 | WARNING | inputs.py::INHOMO_RECO() | You have set USE_MINI_HALOS to True but INHOMO_RECO to False! Automatically setting INHOMO_RECO to True.\n",
      "2024-04-15 10:00:36,953 | WARNING | inputs.py::INHOMO_RECO() | You have set USE_MINI_HALOS to True but INHOMO_RECO to False! Automatically setting INHOMO_RECO to True.\n",
      "2024-04-15 10:00:36,954 | WARNING | inputs.py::INHOMO_RECO() | You have set USE_MINI_HALOS to True but INHOMO_RECO to False! Automatically setting INHOMO_RECO to True.\n",
      "2024-04-15 10:00:36,955 | WARNING | inputs.py::INHOMO_RECO() | You have set USE_MINI_HALOS to True but INHOMO_RECO to False! Automatically setting INHOMO_RECO to True.\n",
      "2024-04-15 10:00:36,956 | WARNING | inputs.py::validate_all_inputs() | USE_MINI_HALOS needs USE_RELATIVE_VELOCITIES to get the right evolution!\n",
      "2024-04-15 10:00:36,957 | WARNING | inputs.py::INHOMO_RECO() | You have set USE_MINI_HALOS to True but INHOMO_RECO to False! Automatically setting INHOMO_RECO to True.\n",
      "2024-04-15 10:00:36,959 | WARNING | inputs.py::INHOMO_RECO() | You have set USE_MINI_HALOS to True but INHOMO_RECO to False! Automatically setting INHOMO_RECO to True.\n",
      "2024-04-15 10:00:42,808 | WARNING | inputs.py::INHOMO_RECO() | You have set USE_MINI_HALOS to True but INHOMO_RECO to False! Automatically setting INHOMO_RECO to True.\n",
      "2024-04-15 10:00:42,840 | WARNING | inputs.py::INHOMO_RECO() | You have set USE_MINI_HALOS to True but INHOMO_RECO to False! Automatically setting INHOMO_RECO to True.\n",
      "2024-04-15 10:00:42,840 | WARNING | inputs.py::INHOMO_RECO() | You have set USE_MINI_HALOS to True but INHOMO_RECO to False! Automatically setting INHOMO_RECO to True.\n",
      "2024-04-15 10:00:42,841 | WARNING | inputs.py::INHOMO_RECO() | You have set USE_MINI_HALOS to True but INHOMO_RECO to False! Automatically setting INHOMO_RECO to True.\n",
      "2024-04-15 10:00:42,842 | WARNING | inputs.py::INHOMO_RECO() | You have set USE_MINI_HALOS to True but INHOMO_RECO to False! Automatically setting INHOMO_RECO to True.\n",
      "2024-04-15 10:00:42,843 | WARNING | inputs.py::INHOMO_RECO() | You have set USE_MINI_HALOS to True but INHOMO_RECO to False! Automatically setting INHOMO_RECO to True.\n",
      "2024-04-15 10:00:42,844 | WARNING | inputs.py::validate_all_inputs() | USE_MINI_HALOS needs USE_RELATIVE_VELOCITIES to get the right evolution!\n",
      "2024-04-15 10:00:42,844 | WARNING | inputs.py::INHOMO_RECO() | You have set USE_MINI_HALOS to True but INHOMO_RECO to False! Automatically setting INHOMO_RECO to True.\n",
      "2024-04-15 10:00:42,846 | WARNING | inputs.py::INHOMO_RECO() | You have set USE_MINI_HALOS to True but INHOMO_RECO to False! Automatically setting INHOMO_RECO to True.\n",
      "2024-04-15 10:00:42,847 | WARNING | inputs.py::INHOMO_RECO() | You have set USE_MINI_HALOS to True but INHOMO_RECO to False! Automatically setting INHOMO_RECO to True.\n",
      "2024-04-15 10:01:05,726 | WARNING | inputs.py::INHOMO_RECO() | You have set USE_MINI_HALOS to True but INHOMO_RECO to False! Automatically setting INHOMO_RECO to True.\n",
      "2024-04-15 10:01:05,993 | WARNING | inputs.py::INHOMO_RECO() | You have set USE_MINI_HALOS to True but INHOMO_RECO to False! Automatically setting INHOMO_RECO to True.\n",
      "2024-04-15 10:01:05,994 | WARNING | inputs.py::INHOMO_RECO() | You have set USE_MINI_HALOS to True but INHOMO_RECO to False! Automatically setting INHOMO_RECO to True.\n",
      "2024-04-15 10:01:05,996 | WARNING | inputs.py::INHOMO_RECO() | You have set USE_MINI_HALOS to True but INHOMO_RECO to False! Automatically setting INHOMO_RECO to True.\n",
      "2024-04-15 10:01:05,997 | WARNING | inputs.py::INHOMO_RECO() | You have set USE_MINI_HALOS to True but INHOMO_RECO to False! Automatically setting INHOMO_RECO to True.\n",
      "2024-04-15 10:01:05,997 | WARNING | inputs.py::INHOMO_RECO() | You have set USE_MINI_HALOS to True but INHOMO_RECO to False! Automatically setting INHOMO_RECO to True.\n",
      "2024-04-15 10:01:05,998 | WARNING | inputs.py::validate_all_inputs() | USE_MINI_HALOS needs USE_RELATIVE_VELOCITIES to get the right evolution!\n",
      "2024-04-15 10:01:05,999 | WARNING | inputs.py::INHOMO_RECO() | You have set USE_MINI_HALOS to True but INHOMO_RECO to False! Automatically setting INHOMO_RECO to True.\n",
      "2024-04-15 10:01:06,001 | WARNING | inputs.py::INHOMO_RECO() | You have set USE_MINI_HALOS to True but INHOMO_RECO to False! Automatically setting INHOMO_RECO to True.\n",
      "2024-04-15 10:01:11,787 | WARNING | inputs.py::INHOMO_RECO() | You have set USE_MINI_HALOS to True but INHOMO_RECO to False! Automatically setting INHOMO_RECO to True.\n"
     ]
    },
    {
     "name": "stderr",
     "output_type": "stream",
     "text": [
      "2024-04-15 10:01:11,816 | WARNING | inputs.py::INHOMO_RECO() | You have set USE_MINI_HALOS to True but INHOMO_RECO to False! Automatically setting INHOMO_RECO to True.\n",
      "2024-04-15 10:01:11,817 | WARNING | inputs.py::INHOMO_RECO() | You have set USE_MINI_HALOS to True but INHOMO_RECO to False! Automatically setting INHOMO_RECO to True.\n",
      "2024-04-15 10:01:11,817 | WARNING | inputs.py::INHOMO_RECO() | You have set USE_MINI_HALOS to True but INHOMO_RECO to False! Automatically setting INHOMO_RECO to True.\n",
      "2024-04-15 10:01:11,818 | WARNING | inputs.py::INHOMO_RECO() | You have set USE_MINI_HALOS to True but INHOMO_RECO to False! Automatically setting INHOMO_RECO to True.\n",
      "2024-04-15 10:01:11,819 | WARNING | inputs.py::INHOMO_RECO() | You have set USE_MINI_HALOS to True but INHOMO_RECO to False! Automatically setting INHOMO_RECO to True.\n",
      "2024-04-15 10:01:11,819 | WARNING | inputs.py::validate_all_inputs() | USE_MINI_HALOS needs USE_RELATIVE_VELOCITIES to get the right evolution!\n",
      "2024-04-15 10:01:11,820 | WARNING | inputs.py::INHOMO_RECO() | You have set USE_MINI_HALOS to True but INHOMO_RECO to False! Automatically setting INHOMO_RECO to True.\n",
      "2024-04-15 10:01:11,823 | WARNING | inputs.py::INHOMO_RECO() | You have set USE_MINI_HALOS to True but INHOMO_RECO to False! Automatically setting INHOMO_RECO to True.\n",
      "2024-04-15 10:01:11,823 | WARNING | inputs.py::INHOMO_RECO() | You have set USE_MINI_HALOS to True but INHOMO_RECO to False! Automatically setting INHOMO_RECO to True.\n",
      "2024-04-15 10:01:35,307 | WARNING | inputs.py::INHOMO_RECO() | You have set USE_MINI_HALOS to True but INHOMO_RECO to False! Automatically setting INHOMO_RECO to True.\n",
      "2024-04-15 10:01:35,588 | WARNING | inputs.py::INHOMO_RECO() | You have set USE_MINI_HALOS to True but INHOMO_RECO to False! Automatically setting INHOMO_RECO to True.\n",
      "2024-04-15 10:01:35,590 | WARNING | inputs.py::INHOMO_RECO() | You have set USE_MINI_HALOS to True but INHOMO_RECO to False! Automatically setting INHOMO_RECO to True.\n",
      "2024-04-15 10:01:35,591 | WARNING | inputs.py::INHOMO_RECO() | You have set USE_MINI_HALOS to True but INHOMO_RECO to False! Automatically setting INHOMO_RECO to True.\n",
      "2024-04-15 10:01:35,592 | WARNING | inputs.py::INHOMO_RECO() | You have set USE_MINI_HALOS to True but INHOMO_RECO to False! Automatically setting INHOMO_RECO to True.\n",
      "2024-04-15 10:01:35,593 | WARNING | inputs.py::INHOMO_RECO() | You have set USE_MINI_HALOS to True but INHOMO_RECO to False! Automatically setting INHOMO_RECO to True.\n",
      "2024-04-15 10:01:35,594 | WARNING | inputs.py::validate_all_inputs() | USE_MINI_HALOS needs USE_RELATIVE_VELOCITIES to get the right evolution!\n",
      "2024-04-15 10:01:35,594 | WARNING | inputs.py::INHOMO_RECO() | You have set USE_MINI_HALOS to True but INHOMO_RECO to False! Automatically setting INHOMO_RECO to True.\n",
      "2024-04-15 10:01:35,596 | WARNING | inputs.py::INHOMO_RECO() | You have set USE_MINI_HALOS to True but INHOMO_RECO to False! Automatically setting INHOMO_RECO to True.\n",
      "2024-04-15 10:01:42,055 | WARNING | inputs.py::INHOMO_RECO() | You have set USE_MINI_HALOS to True but INHOMO_RECO to False! Automatically setting INHOMO_RECO to True.\n",
      "2024-04-15 10:01:42,086 | WARNING | inputs.py::INHOMO_RECO() | You have set USE_MINI_HALOS to True but INHOMO_RECO to False! Automatically setting INHOMO_RECO to True.\n",
      "2024-04-15 10:01:42,087 | WARNING | inputs.py::INHOMO_RECO() | You have set USE_MINI_HALOS to True but INHOMO_RECO to False! Automatically setting INHOMO_RECO to True.\n",
      "2024-04-15 10:01:42,088 | WARNING | inputs.py::INHOMO_RECO() | You have set USE_MINI_HALOS to True but INHOMO_RECO to False! Automatically setting INHOMO_RECO to True.\n",
      "2024-04-15 10:01:42,089 | WARNING | inputs.py::INHOMO_RECO() | You have set USE_MINI_HALOS to True but INHOMO_RECO to False! Automatically setting INHOMO_RECO to True.\n",
      "2024-04-15 10:01:42,090 | WARNING | inputs.py::INHOMO_RECO() | You have set USE_MINI_HALOS to True but INHOMO_RECO to False! Automatically setting INHOMO_RECO to True.\n",
      "2024-04-15 10:01:42,090 | WARNING | inputs.py::validate_all_inputs() | USE_MINI_HALOS needs USE_RELATIVE_VELOCITIES to get the right evolution!\n",
      "2024-04-15 10:01:42,091 | WARNING | inputs.py::INHOMO_RECO() | You have set USE_MINI_HALOS to True but INHOMO_RECO to False! Automatically setting INHOMO_RECO to True.\n",
      "2024-04-15 10:01:42,094 | WARNING | inputs.py::INHOMO_RECO() | You have set USE_MINI_HALOS to True but INHOMO_RECO to False! Automatically setting INHOMO_RECO to True.\n",
      "2024-04-15 10:01:42,094 | WARNING | inputs.py::INHOMO_RECO() | You have set USE_MINI_HALOS to True but INHOMO_RECO to False! Automatically setting INHOMO_RECO to True.\n",
      "2024-04-15 10:02:06,150 | WARNING | inputs.py::INHOMO_RECO() | You have set USE_MINI_HALOS to True but INHOMO_RECO to False! Automatically setting INHOMO_RECO to True.\n",
      "2024-04-15 10:02:06,432 | WARNING | inputs.py::INHOMO_RECO() | You have set USE_MINI_HALOS to True but INHOMO_RECO to False! Automatically setting INHOMO_RECO to True.\n",
      "2024-04-15 10:02:06,433 | WARNING | inputs.py::INHOMO_RECO() | You have set USE_MINI_HALOS to True but INHOMO_RECO to False! Automatically setting INHOMO_RECO to True.\n",
      "2024-04-15 10:02:06,435 | WARNING | inputs.py::INHOMO_RECO() | You have set USE_MINI_HALOS to True but INHOMO_RECO to False! Automatically setting INHOMO_RECO to True.\n",
      "2024-04-15 10:02:06,436 | WARNING | inputs.py::INHOMO_RECO() | You have set USE_MINI_HALOS to True but INHOMO_RECO to False! Automatically setting INHOMO_RECO to True.\n",
      "2024-04-15 10:02:06,437 | WARNING | inputs.py::INHOMO_RECO() | You have set USE_MINI_HALOS to True but INHOMO_RECO to False! Automatically setting INHOMO_RECO to True.\n",
      "2024-04-15 10:02:06,437 | WARNING | inputs.py::validate_all_inputs() | USE_MINI_HALOS needs USE_RELATIVE_VELOCITIES to get the right evolution!\n",
      "2024-04-15 10:02:06,438 | WARNING | inputs.py::INHOMO_RECO() | You have set USE_MINI_HALOS to True but INHOMO_RECO to False! Automatically setting INHOMO_RECO to True.\n",
      "2024-04-15 10:02:06,440 | WARNING | inputs.py::INHOMO_RECO() | You have set USE_MINI_HALOS to True but INHOMO_RECO to False! Automatically setting INHOMO_RECO to True.\n",
      "2024-04-15 10:02:12,175 | WARNING | inputs.py::INHOMO_RECO() | You have set USE_MINI_HALOS to True but INHOMO_RECO to False! Automatically setting INHOMO_RECO to True.\n",
      "2024-04-15 10:02:12,202 | WARNING | inputs.py::INHOMO_RECO() | You have set USE_MINI_HALOS to True but INHOMO_RECO to False! Automatically setting INHOMO_RECO to True.\n",
      "2024-04-15 10:02:12,203 | WARNING | inputs.py::INHOMO_RECO() | You have set USE_MINI_HALOS to True but INHOMO_RECO to False! Automatically setting INHOMO_RECO to True.\n",
      "2024-04-15 10:02:12,204 | WARNING | inputs.py::INHOMO_RECO() | You have set USE_MINI_HALOS to True but INHOMO_RECO to False! Automatically setting INHOMO_RECO to True.\n",
      "2024-04-15 10:02:12,205 | WARNING | inputs.py::INHOMO_RECO() | You have set USE_MINI_HALOS to True but INHOMO_RECO to False! Automatically setting INHOMO_RECO to True.\n",
      "2024-04-15 10:02:12,206 | WARNING | inputs.py::INHOMO_RECO() | You have set USE_MINI_HALOS to True but INHOMO_RECO to False! Automatically setting INHOMO_RECO to True.\n",
      "2024-04-15 10:02:12,206 | WARNING | inputs.py::validate_all_inputs() | USE_MINI_HALOS needs USE_RELATIVE_VELOCITIES to get the right evolution!\n",
      "2024-04-15 10:02:12,207 | WARNING | inputs.py::INHOMO_RECO() | You have set USE_MINI_HALOS to True but INHOMO_RECO to False! Automatically setting INHOMO_RECO to True.\n",
      "2024-04-15 10:02:12,209 | WARNING | inputs.py::INHOMO_RECO() | You have set USE_MINI_HALOS to True but INHOMO_RECO to False! Automatically setting INHOMO_RECO to True.\n",
      "2024-04-15 10:02:12,210 | WARNING | inputs.py::INHOMO_RECO() | You have set USE_MINI_HALOS to True but INHOMO_RECO to False! Automatically setting INHOMO_RECO to True.\n",
      "2024-04-15 10:02:35,320 | WARNING | inputs.py::INHOMO_RECO() | You have set USE_MINI_HALOS to True but INHOMO_RECO to False! Automatically setting INHOMO_RECO to True.\n",
      "2024-04-15 10:02:35,605 | WARNING | inputs.py::INHOMO_RECO() | You have set USE_MINI_HALOS to True but INHOMO_RECO to False! Automatically setting INHOMO_RECO to True.\n",
      "2024-04-15 10:02:35,607 | WARNING | inputs.py::INHOMO_RECO() | You have set USE_MINI_HALOS to True but INHOMO_RECO to False! Automatically setting INHOMO_RECO to True.\n"
     ]
    },
    {
     "name": "stderr",
     "output_type": "stream",
     "text": [
      "2024-04-15 10:02:35,609 | WARNING | inputs.py::INHOMO_RECO() | You have set USE_MINI_HALOS to True but INHOMO_RECO to False! Automatically setting INHOMO_RECO to True.\n",
      "2024-04-15 10:02:35,610 | WARNING | inputs.py::INHOMO_RECO() | You have set USE_MINI_HALOS to True but INHOMO_RECO to False! Automatically setting INHOMO_RECO to True.\n",
      "2024-04-15 10:02:35,610 | WARNING | inputs.py::INHOMO_RECO() | You have set USE_MINI_HALOS to True but INHOMO_RECO to False! Automatically setting INHOMO_RECO to True.\n",
      "2024-04-15 10:02:35,611 | WARNING | inputs.py::validate_all_inputs() | USE_MINI_HALOS needs USE_RELATIVE_VELOCITIES to get the right evolution!\n",
      "2024-04-15 10:02:35,612 | WARNING | inputs.py::INHOMO_RECO() | You have set USE_MINI_HALOS to True but INHOMO_RECO to False! Automatically setting INHOMO_RECO to True.\n",
      "2024-04-15 10:02:35,614 | WARNING | inputs.py::INHOMO_RECO() | You have set USE_MINI_HALOS to True but INHOMO_RECO to False! Automatically setting INHOMO_RECO to True.\n",
      "2024-04-15 10:02:41,371 | WARNING | inputs.py::INHOMO_RECO() | You have set USE_MINI_HALOS to True but INHOMO_RECO to False! Automatically setting INHOMO_RECO to True.\n",
      "2024-04-15 10:02:41,399 | WARNING | inputs.py::INHOMO_RECO() | You have set USE_MINI_HALOS to True but INHOMO_RECO to False! Automatically setting INHOMO_RECO to True.\n",
      "2024-04-15 10:02:41,400 | WARNING | inputs.py::INHOMO_RECO() | You have set USE_MINI_HALOS to True but INHOMO_RECO to False! Automatically setting INHOMO_RECO to True.\n",
      "2024-04-15 10:02:41,401 | WARNING | inputs.py::INHOMO_RECO() | You have set USE_MINI_HALOS to True but INHOMO_RECO to False! Automatically setting INHOMO_RECO to True.\n",
      "2024-04-15 10:02:41,402 | WARNING | inputs.py::INHOMO_RECO() | You have set USE_MINI_HALOS to True but INHOMO_RECO to False! Automatically setting INHOMO_RECO to True.\n",
      "2024-04-15 10:02:41,402 | WARNING | inputs.py::INHOMO_RECO() | You have set USE_MINI_HALOS to True but INHOMO_RECO to False! Automatically setting INHOMO_RECO to True.\n",
      "2024-04-15 10:02:41,403 | WARNING | inputs.py::validate_all_inputs() | USE_MINI_HALOS needs USE_RELATIVE_VELOCITIES to get the right evolution!\n",
      "2024-04-15 10:02:41,404 | WARNING | inputs.py::INHOMO_RECO() | You have set USE_MINI_HALOS to True but INHOMO_RECO to False! Automatically setting INHOMO_RECO to True.\n",
      "2024-04-15 10:02:41,405 | WARNING | inputs.py::INHOMO_RECO() | You have set USE_MINI_HALOS to True but INHOMO_RECO to False! Automatically setting INHOMO_RECO to True.\n",
      "2024-04-15 10:02:41,406 | WARNING | inputs.py::INHOMO_RECO() | You have set USE_MINI_HALOS to True but INHOMO_RECO to False! Automatically setting INHOMO_RECO to True.\n",
      "2024-04-15 10:03:04,710 | WARNING | inputs.py::INHOMO_RECO() | You have set USE_MINI_HALOS to True but INHOMO_RECO to False! Automatically setting INHOMO_RECO to True.\n",
      "2024-04-15 10:03:04,995 | WARNING | inputs.py::INHOMO_RECO() | You have set USE_MINI_HALOS to True but INHOMO_RECO to False! Automatically setting INHOMO_RECO to True.\n",
      "2024-04-15 10:03:04,997 | WARNING | inputs.py::INHOMO_RECO() | You have set USE_MINI_HALOS to True but INHOMO_RECO to False! Automatically setting INHOMO_RECO to True.\n",
      "2024-04-15 10:03:04,999 | WARNING | inputs.py::INHOMO_RECO() | You have set USE_MINI_HALOS to True but INHOMO_RECO to False! Automatically setting INHOMO_RECO to True.\n",
      "2024-04-15 10:03:04,999 | WARNING | inputs.py::INHOMO_RECO() | You have set USE_MINI_HALOS to True but INHOMO_RECO to False! Automatically setting INHOMO_RECO to True.\n",
      "2024-04-15 10:03:05,000 | WARNING | inputs.py::INHOMO_RECO() | You have set USE_MINI_HALOS to True but INHOMO_RECO to False! Automatically setting INHOMO_RECO to True.\n",
      "2024-04-15 10:03:05,001 | WARNING | inputs.py::validate_all_inputs() | USE_MINI_HALOS needs USE_RELATIVE_VELOCITIES to get the right evolution!\n",
      "2024-04-15 10:03:05,001 | WARNING | inputs.py::INHOMO_RECO() | You have set USE_MINI_HALOS to True but INHOMO_RECO to False! Automatically setting INHOMO_RECO to True.\n",
      "2024-04-15 10:03:05,004 | WARNING | inputs.py::INHOMO_RECO() | You have set USE_MINI_HALOS to True but INHOMO_RECO to False! Automatically setting INHOMO_RECO to True.\n",
      "2024-04-15 10:03:10,742 | WARNING | inputs.py::INHOMO_RECO() | You have set USE_MINI_HALOS to True but INHOMO_RECO to False! Automatically setting INHOMO_RECO to True.\n",
      "2024-04-15 10:03:10,768 | WARNING | inputs.py::INHOMO_RECO() | You have set USE_MINI_HALOS to True but INHOMO_RECO to False! Automatically setting INHOMO_RECO to True.\n",
      "2024-04-15 10:03:10,769 | WARNING | inputs.py::INHOMO_RECO() | You have set USE_MINI_HALOS to True but INHOMO_RECO to False! Automatically setting INHOMO_RECO to True.\n",
      "2024-04-15 10:03:10,770 | WARNING | inputs.py::INHOMO_RECO() | You have set USE_MINI_HALOS to True but INHOMO_RECO to False! Automatically setting INHOMO_RECO to True.\n",
      "2024-04-15 10:03:10,771 | WARNING | inputs.py::INHOMO_RECO() | You have set USE_MINI_HALOS to True but INHOMO_RECO to False! Automatically setting INHOMO_RECO to True.\n",
      "2024-04-15 10:03:10,772 | WARNING | inputs.py::INHOMO_RECO() | You have set USE_MINI_HALOS to True but INHOMO_RECO to False! Automatically setting INHOMO_RECO to True.\n",
      "2024-04-15 10:03:10,772 | WARNING | inputs.py::validate_all_inputs() | USE_MINI_HALOS needs USE_RELATIVE_VELOCITIES to get the right evolution!\n",
      "2024-04-15 10:03:10,773 | WARNING | inputs.py::INHOMO_RECO() | You have set USE_MINI_HALOS to True but INHOMO_RECO to False! Automatically setting INHOMO_RECO to True.\n",
      "2024-04-15 10:03:10,776 | WARNING | inputs.py::INHOMO_RECO() | You have set USE_MINI_HALOS to True but INHOMO_RECO to False! Automatically setting INHOMO_RECO to True.\n",
      "2024-04-15 10:03:10,777 | WARNING | inputs.py::INHOMO_RECO() | You have set USE_MINI_HALOS to True but INHOMO_RECO to False! Automatically setting INHOMO_RECO to True.\n",
      "2024-04-15 10:03:33,965 | WARNING | inputs.py::INHOMO_RECO() | You have set USE_MINI_HALOS to True but INHOMO_RECO to False! Automatically setting INHOMO_RECO to True.\n",
      "2024-04-15 10:03:34,247 | WARNING | inputs.py::INHOMO_RECO() | You have set USE_MINI_HALOS to True but INHOMO_RECO to False! Automatically setting INHOMO_RECO to True.\n",
      "2024-04-15 10:03:34,248 | WARNING | inputs.py::INHOMO_RECO() | You have set USE_MINI_HALOS to True but INHOMO_RECO to False! Automatically setting INHOMO_RECO to True.\n",
      "2024-04-15 10:03:34,250 | WARNING | inputs.py::INHOMO_RECO() | You have set USE_MINI_HALOS to True but INHOMO_RECO to False! Automatically setting INHOMO_RECO to True.\n",
      "2024-04-15 10:03:34,251 | WARNING | inputs.py::INHOMO_RECO() | You have set USE_MINI_HALOS to True but INHOMO_RECO to False! Automatically setting INHOMO_RECO to True.\n",
      "2024-04-15 10:03:34,252 | WARNING | inputs.py::INHOMO_RECO() | You have set USE_MINI_HALOS to True but INHOMO_RECO to False! Automatically setting INHOMO_RECO to True.\n",
      "2024-04-15 10:03:34,252 | WARNING | inputs.py::validate_all_inputs() | USE_MINI_HALOS needs USE_RELATIVE_VELOCITIES to get the right evolution!\n",
      "2024-04-15 10:03:34,253 | WARNING | inputs.py::INHOMO_RECO() | You have set USE_MINI_HALOS to True but INHOMO_RECO to False! Automatically setting INHOMO_RECO to True.\n",
      "2024-04-15 10:03:34,256 | WARNING | inputs.py::INHOMO_RECO() | You have set USE_MINI_HALOS to True but INHOMO_RECO to False! Automatically setting INHOMO_RECO to True.\n",
      "2024-04-15 10:03:39,962 | WARNING | inputs.py::INHOMO_RECO() | You have set USE_MINI_HALOS to True but INHOMO_RECO to False! Automatically setting INHOMO_RECO to True.\n",
      "2024-04-15 10:03:39,988 | WARNING | inputs.py::INHOMO_RECO() | You have set USE_MINI_HALOS to True but INHOMO_RECO to False! Automatically setting INHOMO_RECO to True.\n",
      "2024-04-15 10:03:39,989 | WARNING | inputs.py::INHOMO_RECO() | You have set USE_MINI_HALOS to True but INHOMO_RECO to False! Automatically setting INHOMO_RECO to True.\n",
      "2024-04-15 10:03:39,990 | WARNING | inputs.py::INHOMO_RECO() | You have set USE_MINI_HALOS to True but INHOMO_RECO to False! Automatically setting INHOMO_RECO to True.\n",
      "2024-04-15 10:03:39,990 | WARNING | inputs.py::INHOMO_RECO() | You have set USE_MINI_HALOS to True but INHOMO_RECO to False! Automatically setting INHOMO_RECO to True.\n",
      "2024-04-15 10:03:39,991 | WARNING | inputs.py::INHOMO_RECO() | You have set USE_MINI_HALOS to True but INHOMO_RECO to False! Automatically setting INHOMO_RECO to True.\n"
     ]
    },
    {
     "name": "stderr",
     "output_type": "stream",
     "text": [
      "2024-04-15 10:03:39,992 | WARNING | inputs.py::validate_all_inputs() | USE_MINI_HALOS needs USE_RELATIVE_VELOCITIES to get the right evolution!\n",
      "2024-04-15 10:03:39,993 | WARNING | inputs.py::INHOMO_RECO() | You have set USE_MINI_HALOS to True but INHOMO_RECO to False! Automatically setting INHOMO_RECO to True.\n",
      "2024-04-15 10:03:39,995 | WARNING | inputs.py::INHOMO_RECO() | You have set USE_MINI_HALOS to True but INHOMO_RECO to False! Automatically setting INHOMO_RECO to True.\n",
      "2024-04-15 10:03:39,996 | WARNING | inputs.py::INHOMO_RECO() | You have set USE_MINI_HALOS to True but INHOMO_RECO to False! Automatically setting INHOMO_RECO to True.\n",
      "2024-04-15 10:04:03,307 | WARNING | inputs.py::INHOMO_RECO() | You have set USE_MINI_HALOS to True but INHOMO_RECO to False! Automatically setting INHOMO_RECO to True.\n",
      "2024-04-15 10:04:03,591 | WARNING | inputs.py::INHOMO_RECO() | You have set USE_MINI_HALOS to True but INHOMO_RECO to False! Automatically setting INHOMO_RECO to True.\n",
      "2024-04-15 10:04:03,592 | WARNING | inputs.py::INHOMO_RECO() | You have set USE_MINI_HALOS to True but INHOMO_RECO to False! Automatically setting INHOMO_RECO to True.\n",
      "2024-04-15 10:04:03,594 | WARNING | inputs.py::INHOMO_RECO() | You have set USE_MINI_HALOS to True but INHOMO_RECO to False! Automatically setting INHOMO_RECO to True.\n",
      "2024-04-15 10:04:03,595 | WARNING | inputs.py::INHOMO_RECO() | You have set USE_MINI_HALOS to True but INHOMO_RECO to False! Automatically setting INHOMO_RECO to True.\n",
      "2024-04-15 10:04:03,595 | WARNING | inputs.py::INHOMO_RECO() | You have set USE_MINI_HALOS to True but INHOMO_RECO to False! Automatically setting INHOMO_RECO to True.\n",
      "2024-04-15 10:04:03,596 | WARNING | inputs.py::validate_all_inputs() | USE_MINI_HALOS needs USE_RELATIVE_VELOCITIES to get the right evolution!\n",
      "2024-04-15 10:04:03,596 | WARNING | inputs.py::INHOMO_RECO() | You have set USE_MINI_HALOS to True but INHOMO_RECO to False! Automatically setting INHOMO_RECO to True.\n",
      "2024-04-15 10:04:03,598 | WARNING | inputs.py::INHOMO_RECO() | You have set USE_MINI_HALOS to True but INHOMO_RECO to False! Automatically setting INHOMO_RECO to True.\n",
      "2024-04-15 10:04:09,386 | WARNING | inputs.py::INHOMO_RECO() | You have set USE_MINI_HALOS to True but INHOMO_RECO to False! Automatically setting INHOMO_RECO to True.\n",
      "2024-04-15 10:04:09,416 | WARNING | inputs.py::INHOMO_RECO() | You have set USE_MINI_HALOS to True but INHOMO_RECO to False! Automatically setting INHOMO_RECO to True.\n",
      "2024-04-15 10:04:09,417 | WARNING | inputs.py::INHOMO_RECO() | You have set USE_MINI_HALOS to True but INHOMO_RECO to False! Automatically setting INHOMO_RECO to True.\n",
      "2024-04-15 10:04:09,418 | WARNING | inputs.py::INHOMO_RECO() | You have set USE_MINI_HALOS to True but INHOMO_RECO to False! Automatically setting INHOMO_RECO to True.\n",
      "2024-04-15 10:04:09,419 | WARNING | inputs.py::INHOMO_RECO() | You have set USE_MINI_HALOS to True but INHOMO_RECO to False! Automatically setting INHOMO_RECO to True.\n",
      "2024-04-15 10:04:09,420 | WARNING | inputs.py::INHOMO_RECO() | You have set USE_MINI_HALOS to True but INHOMO_RECO to False! Automatically setting INHOMO_RECO to True.\n",
      "2024-04-15 10:04:09,421 | WARNING | inputs.py::validate_all_inputs() | USE_MINI_HALOS needs USE_RELATIVE_VELOCITIES to get the right evolution!\n",
      "2024-04-15 10:04:09,422 | WARNING | inputs.py::INHOMO_RECO() | You have set USE_MINI_HALOS to True but INHOMO_RECO to False! Automatically setting INHOMO_RECO to True.\n",
      "2024-04-15 10:04:09,425 | WARNING | inputs.py::INHOMO_RECO() | You have set USE_MINI_HALOS to True but INHOMO_RECO to False! Automatically setting INHOMO_RECO to True.\n",
      "2024-04-15 10:04:09,426 | WARNING | inputs.py::INHOMO_RECO() | You have set USE_MINI_HALOS to True but INHOMO_RECO to False! Automatically setting INHOMO_RECO to True.\n",
      "2024-04-15 10:04:33,515 | WARNING | inputs.py::INHOMO_RECO() | You have set USE_MINI_HALOS to True but INHOMO_RECO to False! Automatically setting INHOMO_RECO to True.\n",
      "2024-04-15 10:04:33,797 | WARNING | inputs.py::INHOMO_RECO() | You have set USE_MINI_HALOS to True but INHOMO_RECO to False! Automatically setting INHOMO_RECO to True.\n",
      "2024-04-15 10:04:33,798 | WARNING | inputs.py::INHOMO_RECO() | You have set USE_MINI_HALOS to True but INHOMO_RECO to False! Automatically setting INHOMO_RECO to True.\n",
      "2024-04-15 10:04:33,801 | WARNING | inputs.py::INHOMO_RECO() | You have set USE_MINI_HALOS to True but INHOMO_RECO to False! Automatically setting INHOMO_RECO to True.\n",
      "2024-04-15 10:04:33,801 | WARNING | inputs.py::INHOMO_RECO() | You have set USE_MINI_HALOS to True but INHOMO_RECO to False! Automatically setting INHOMO_RECO to True.\n",
      "2024-04-15 10:04:33,802 | WARNING | inputs.py::INHOMO_RECO() | You have set USE_MINI_HALOS to True but INHOMO_RECO to False! Automatically setting INHOMO_RECO to True.\n",
      "2024-04-15 10:04:33,803 | WARNING | inputs.py::validate_all_inputs() | USE_MINI_HALOS needs USE_RELATIVE_VELOCITIES to get the right evolution!\n",
      "2024-04-15 10:04:33,804 | WARNING | inputs.py::INHOMO_RECO() | You have set USE_MINI_HALOS to True but INHOMO_RECO to False! Automatically setting INHOMO_RECO to True.\n",
      "2024-04-15 10:04:33,806 | WARNING | inputs.py::INHOMO_RECO() | You have set USE_MINI_HALOS to True but INHOMO_RECO to False! Automatically setting INHOMO_RECO to True.\n",
      "2024-04-15 10:04:39,530 | WARNING | inputs.py::INHOMO_RECO() | You have set USE_MINI_HALOS to True but INHOMO_RECO to False! Automatically setting INHOMO_RECO to True.\n",
      "2024-04-15 10:04:39,558 | WARNING | inputs.py::INHOMO_RECO() | You have set USE_MINI_HALOS to True but INHOMO_RECO to False! Automatically setting INHOMO_RECO to True.\n",
      "2024-04-15 10:04:39,559 | WARNING | inputs.py::INHOMO_RECO() | You have set USE_MINI_HALOS to True but INHOMO_RECO to False! Automatically setting INHOMO_RECO to True.\n",
      "2024-04-15 10:04:39,560 | WARNING | inputs.py::INHOMO_RECO() | You have set USE_MINI_HALOS to True but INHOMO_RECO to False! Automatically setting INHOMO_RECO to True.\n",
      "2024-04-15 10:04:39,560 | WARNING | inputs.py::INHOMO_RECO() | You have set USE_MINI_HALOS to True but INHOMO_RECO to False! Automatically setting INHOMO_RECO to True.\n",
      "2024-04-15 10:04:39,561 | WARNING | inputs.py::INHOMO_RECO() | You have set USE_MINI_HALOS to True but INHOMO_RECO to False! Automatically setting INHOMO_RECO to True.\n",
      "2024-04-15 10:04:39,562 | WARNING | inputs.py::validate_all_inputs() | USE_MINI_HALOS needs USE_RELATIVE_VELOCITIES to get the right evolution!\n",
      "2024-04-15 10:04:39,563 | WARNING | inputs.py::INHOMO_RECO() | You have set USE_MINI_HALOS to True but INHOMO_RECO to False! Automatically setting INHOMO_RECO to True.\n",
      "2024-04-15 10:04:39,565 | WARNING | inputs.py::INHOMO_RECO() | You have set USE_MINI_HALOS to True but INHOMO_RECO to False! Automatically setting INHOMO_RECO to True.\n",
      "2024-04-15 10:04:39,565 | WARNING | inputs.py::INHOMO_RECO() | You have set USE_MINI_HALOS to True but INHOMO_RECO to False! Automatically setting INHOMO_RECO to True.\n",
      "2024-04-15 10:05:03,542 | WARNING | inputs.py::INHOMO_RECO() | You have set USE_MINI_HALOS to True but INHOMO_RECO to False! Automatically setting INHOMO_RECO to True.\n",
      "2024-04-15 10:05:03,831 | WARNING | inputs.py::INHOMO_RECO() | You have set USE_MINI_HALOS to True but INHOMO_RECO to False! Automatically setting INHOMO_RECO to True.\n",
      "2024-04-15 10:05:03,832 | WARNING | inputs.py::INHOMO_RECO() | You have set USE_MINI_HALOS to True but INHOMO_RECO to False! Automatically setting INHOMO_RECO to True.\n",
      "2024-04-15 10:05:03,834 | WARNING | inputs.py::INHOMO_RECO() | You have set USE_MINI_HALOS to True but INHOMO_RECO to False! Automatically setting INHOMO_RECO to True.\n",
      "2024-04-15 10:05:03,835 | WARNING | inputs.py::INHOMO_RECO() | You have set USE_MINI_HALOS to True but INHOMO_RECO to False! Automatically setting INHOMO_RECO to True.\n",
      "2024-04-15 10:05:03,836 | WARNING | inputs.py::INHOMO_RECO() | You have set USE_MINI_HALOS to True but INHOMO_RECO to False! Automatically setting INHOMO_RECO to True.\n",
      "2024-04-15 10:05:03,836 | WARNING | inputs.py::validate_all_inputs() | USE_MINI_HALOS needs USE_RELATIVE_VELOCITIES to get the right evolution!\n",
      "2024-04-15 10:05:03,837 | WARNING | inputs.py::INHOMO_RECO() | You have set USE_MINI_HALOS to True but INHOMO_RECO to False! Automatically setting INHOMO_RECO to True.\n"
     ]
    },
    {
     "name": "stderr",
     "output_type": "stream",
     "text": [
      "2024-04-15 10:05:03,839 | WARNING | inputs.py::INHOMO_RECO() | You have set USE_MINI_HALOS to True but INHOMO_RECO to False! Automatically setting INHOMO_RECO to True.\n",
      "2024-04-15 10:05:09,607 | WARNING | inputs.py::INHOMO_RECO() | You have set USE_MINI_HALOS to True but INHOMO_RECO to False! Automatically setting INHOMO_RECO to True.\n",
      "2024-04-15 10:05:09,640 | WARNING | inputs.py::INHOMO_RECO() | You have set USE_MINI_HALOS to True but INHOMO_RECO to False! Automatically setting INHOMO_RECO to True.\n",
      "2024-04-15 10:05:09,641 | WARNING | inputs.py::INHOMO_RECO() | You have set USE_MINI_HALOS to True but INHOMO_RECO to False! Automatically setting INHOMO_RECO to True.\n",
      "2024-04-15 10:05:09,642 | WARNING | inputs.py::INHOMO_RECO() | You have set USE_MINI_HALOS to True but INHOMO_RECO to False! Automatically setting INHOMO_RECO to True.\n",
      "2024-04-15 10:05:09,642 | WARNING | inputs.py::INHOMO_RECO() | You have set USE_MINI_HALOS to True but INHOMO_RECO to False! Automatically setting INHOMO_RECO to True.\n",
      "2024-04-15 10:05:09,643 | WARNING | inputs.py::INHOMO_RECO() | You have set USE_MINI_HALOS to True but INHOMO_RECO to False! Automatically setting INHOMO_RECO to True.\n",
      "2024-04-15 10:05:09,644 | WARNING | inputs.py::validate_all_inputs() | USE_MINI_HALOS needs USE_RELATIVE_VELOCITIES to get the right evolution!\n",
      "2024-04-15 10:05:09,645 | WARNING | inputs.py::INHOMO_RECO() | You have set USE_MINI_HALOS to True but INHOMO_RECO to False! Automatically setting INHOMO_RECO to True.\n",
      "2024-04-15 10:05:09,646 | WARNING | inputs.py::INHOMO_RECO() | You have set USE_MINI_HALOS to True but INHOMO_RECO to False! Automatically setting INHOMO_RECO to True.\n",
      "2024-04-15 10:05:09,647 | WARNING | inputs.py::INHOMO_RECO() | You have set USE_MINI_HALOS to True but INHOMO_RECO to False! Automatically setting INHOMO_RECO to True.\n",
      "2024-04-15 10:05:33,661 | WARNING | inputs.py::INHOMO_RECO() | You have set USE_MINI_HALOS to True but INHOMO_RECO to False! Automatically setting INHOMO_RECO to True.\n",
      "2024-04-15 10:05:33,939 | WARNING | inputs.py::INHOMO_RECO() | You have set USE_MINI_HALOS to True but INHOMO_RECO to False! Automatically setting INHOMO_RECO to True.\n",
      "2024-04-15 10:05:33,941 | WARNING | inputs.py::INHOMO_RECO() | You have set USE_MINI_HALOS to True but INHOMO_RECO to False! Automatically setting INHOMO_RECO to True.\n",
      "2024-04-15 10:05:33,942 | WARNING | inputs.py::INHOMO_RECO() | You have set USE_MINI_HALOS to True but INHOMO_RECO to False! Automatically setting INHOMO_RECO to True.\n",
      "2024-04-15 10:05:33,943 | WARNING | inputs.py::INHOMO_RECO() | You have set USE_MINI_HALOS to True but INHOMO_RECO to False! Automatically setting INHOMO_RECO to True.\n",
      "2024-04-15 10:05:33,944 | WARNING | inputs.py::INHOMO_RECO() | You have set USE_MINI_HALOS to True but INHOMO_RECO to False! Automatically setting INHOMO_RECO to True.\n",
      "2024-04-15 10:05:33,945 | WARNING | inputs.py::validate_all_inputs() | USE_MINI_HALOS needs USE_RELATIVE_VELOCITIES to get the right evolution!\n",
      "2024-04-15 10:05:33,945 | WARNING | inputs.py::INHOMO_RECO() | You have set USE_MINI_HALOS to True but INHOMO_RECO to False! Automatically setting INHOMO_RECO to True.\n",
      "2024-04-15 10:05:33,948 | WARNING | inputs.py::INHOMO_RECO() | You have set USE_MINI_HALOS to True but INHOMO_RECO to False! Automatically setting INHOMO_RECO to True.\n",
      "2024-04-15 10:05:39,604 | WARNING | inputs.py::INHOMO_RECO() | You have set USE_MINI_HALOS to True but INHOMO_RECO to False! Automatically setting INHOMO_RECO to True.\n",
      "2024-04-15 10:05:39,626 | WARNING | inputs.py::INHOMO_RECO() | You have set USE_MINI_HALOS to True but INHOMO_RECO to False! Automatically setting INHOMO_RECO to True.\n",
      "2024-04-15 10:05:39,626 | WARNING | inputs.py::INHOMO_RECO() | You have set USE_MINI_HALOS to True but INHOMO_RECO to False! Automatically setting INHOMO_RECO to True.\n",
      "2024-04-15 10:05:39,627 | WARNING | inputs.py::INHOMO_RECO() | You have set USE_MINI_HALOS to True but INHOMO_RECO to False! Automatically setting INHOMO_RECO to True.\n",
      "2024-04-15 10:05:39,628 | WARNING | inputs.py::INHOMO_RECO() | You have set USE_MINI_HALOS to True but INHOMO_RECO to False! Automatically setting INHOMO_RECO to True.\n",
      "2024-04-15 10:05:39,629 | WARNING | inputs.py::INHOMO_RECO() | You have set USE_MINI_HALOS to True but INHOMO_RECO to False! Automatically setting INHOMO_RECO to True.\n",
      "2024-04-15 10:05:39,629 | WARNING | inputs.py::validate_all_inputs() | USE_MINI_HALOS needs USE_RELATIVE_VELOCITIES to get the right evolution!\n",
      "2024-04-15 10:05:39,630 | WARNING | inputs.py::INHOMO_RECO() | You have set USE_MINI_HALOS to True but INHOMO_RECO to False! Automatically setting INHOMO_RECO to True.\n",
      "2024-04-15 10:05:39,633 | WARNING | inputs.py::INHOMO_RECO() | You have set USE_MINI_HALOS to True but INHOMO_RECO to False! Automatically setting INHOMO_RECO to True.\n",
      "2024-04-15 10:05:39,633 | WARNING | inputs.py::INHOMO_RECO() | You have set USE_MINI_HALOS to True but INHOMO_RECO to False! Automatically setting INHOMO_RECO to True.\n",
      "2024-04-15 10:06:04,108 | WARNING | inputs.py::INHOMO_RECO() | You have set USE_MINI_HALOS to True but INHOMO_RECO to False! Automatically setting INHOMO_RECO to True.\n",
      "2024-04-15 10:06:04,387 | WARNING | inputs.py::INHOMO_RECO() | You have set USE_MINI_HALOS to True but INHOMO_RECO to False! Automatically setting INHOMO_RECO to True.\n",
      "2024-04-15 10:06:04,388 | WARNING | inputs.py::INHOMO_RECO() | You have set USE_MINI_HALOS to True but INHOMO_RECO to False! Automatically setting INHOMO_RECO to True.\n",
      "2024-04-15 10:06:04,390 | WARNING | inputs.py::INHOMO_RECO() | You have set USE_MINI_HALOS to True but INHOMO_RECO to False! Automatically setting INHOMO_RECO to True.\n",
      "2024-04-15 10:06:04,391 | WARNING | inputs.py::INHOMO_RECO() | You have set USE_MINI_HALOS to True but INHOMO_RECO to False! Automatically setting INHOMO_RECO to True.\n",
      "2024-04-15 10:06:04,392 | WARNING | inputs.py::INHOMO_RECO() | You have set USE_MINI_HALOS to True but INHOMO_RECO to False! Automatically setting INHOMO_RECO to True.\n",
      "2024-04-15 10:06:04,392 | WARNING | inputs.py::validate_all_inputs() | USE_MINI_HALOS needs USE_RELATIVE_VELOCITIES to get the right evolution!\n",
      "2024-04-15 10:06:04,393 | WARNING | inputs.py::INHOMO_RECO() | You have set USE_MINI_HALOS to True but INHOMO_RECO to False! Automatically setting INHOMO_RECO to True.\n",
      "2024-04-15 10:06:04,395 | WARNING | inputs.py::INHOMO_RECO() | You have set USE_MINI_HALOS to True but INHOMO_RECO to False! Automatically setting INHOMO_RECO to True.\n",
      "2024-04-15 10:06:10,070 | WARNING | inputs.py::INHOMO_RECO() | You have set USE_MINI_HALOS to True but INHOMO_RECO to False! Automatically setting INHOMO_RECO to True.\n",
      "2024-04-15 10:06:10,101 | WARNING | inputs.py::INHOMO_RECO() | You have set USE_MINI_HALOS to True but INHOMO_RECO to False! Automatically setting INHOMO_RECO to True.\n",
      "2024-04-15 10:06:10,102 | WARNING | inputs.py::INHOMO_RECO() | You have set USE_MINI_HALOS to True but INHOMO_RECO to False! Automatically setting INHOMO_RECO to True.\n",
      "2024-04-15 10:06:10,103 | WARNING | inputs.py::INHOMO_RECO() | You have set USE_MINI_HALOS to True but INHOMO_RECO to False! Automatically setting INHOMO_RECO to True.\n",
      "2024-04-15 10:06:10,104 | WARNING | inputs.py::INHOMO_RECO() | You have set USE_MINI_HALOS to True but INHOMO_RECO to False! Automatically setting INHOMO_RECO to True.\n",
      "2024-04-15 10:06:10,105 | WARNING | inputs.py::INHOMO_RECO() | You have set USE_MINI_HALOS to True but INHOMO_RECO to False! Automatically setting INHOMO_RECO to True.\n",
      "2024-04-15 10:06:10,105 | WARNING | inputs.py::validate_all_inputs() | USE_MINI_HALOS needs USE_RELATIVE_VELOCITIES to get the right evolution!\n",
      "2024-04-15 10:06:10,106 | WARNING | inputs.py::INHOMO_RECO() | You have set USE_MINI_HALOS to True but INHOMO_RECO to False! Automatically setting INHOMO_RECO to True.\n",
      "2024-04-15 10:06:10,109 | WARNING | inputs.py::INHOMO_RECO() | You have set USE_MINI_HALOS to True but INHOMO_RECO to False! Automatically setting INHOMO_RECO to True.\n",
      "2024-04-15 10:06:10,109 | WARNING | inputs.py::INHOMO_RECO() | You have set USE_MINI_HALOS to True but INHOMO_RECO to False! Automatically setting INHOMO_RECO to True.\n",
      "2024-04-15 10:06:34,597 | WARNING | inputs.py::INHOMO_RECO() | You have set USE_MINI_HALOS to True but INHOMO_RECO to False! Automatically setting INHOMO_RECO to True.\n"
     ]
    },
    {
     "name": "stderr",
     "output_type": "stream",
     "text": [
      "2024-04-15 10:06:34,883 | WARNING | inputs.py::INHOMO_RECO() | You have set USE_MINI_HALOS to True but INHOMO_RECO to False! Automatically setting INHOMO_RECO to True.\n",
      "2024-04-15 10:06:34,884 | WARNING | inputs.py::INHOMO_RECO() | You have set USE_MINI_HALOS to True but INHOMO_RECO to False! Automatically setting INHOMO_RECO to True.\n",
      "2024-04-15 10:06:34,886 | WARNING | inputs.py::INHOMO_RECO() | You have set USE_MINI_HALOS to True but INHOMO_RECO to False! Automatically setting INHOMO_RECO to True.\n",
      "2024-04-15 10:06:34,887 | WARNING | inputs.py::INHOMO_RECO() | You have set USE_MINI_HALOS to True but INHOMO_RECO to False! Automatically setting INHOMO_RECO to True.\n",
      "2024-04-15 10:06:34,888 | WARNING | inputs.py::INHOMO_RECO() | You have set USE_MINI_HALOS to True but INHOMO_RECO to False! Automatically setting INHOMO_RECO to True.\n",
      "2024-04-15 10:06:34,888 | WARNING | inputs.py::validate_all_inputs() | USE_MINI_HALOS needs USE_RELATIVE_VELOCITIES to get the right evolution!\n",
      "2024-04-15 10:06:34,889 | WARNING | inputs.py::INHOMO_RECO() | You have set USE_MINI_HALOS to True but INHOMO_RECO to False! Automatically setting INHOMO_RECO to True.\n",
      "2024-04-15 10:06:34,891 | WARNING | inputs.py::INHOMO_RECO() | You have set USE_MINI_HALOS to True but INHOMO_RECO to False! Automatically setting INHOMO_RECO to True.\n",
      "2024-04-15 10:06:40,645 | WARNING | inputs.py::INHOMO_RECO() | You have set USE_MINI_HALOS to True but INHOMO_RECO to False! Automatically setting INHOMO_RECO to True.\n",
      "2024-04-15 10:06:40,672 | WARNING | inputs.py::INHOMO_RECO() | You have set USE_MINI_HALOS to True but INHOMO_RECO to False! Automatically setting INHOMO_RECO to True.\n",
      "2024-04-15 10:06:40,672 | WARNING | inputs.py::INHOMO_RECO() | You have set USE_MINI_HALOS to True but INHOMO_RECO to False! Automatically setting INHOMO_RECO to True.\n",
      "2024-04-15 10:06:40,673 | WARNING | inputs.py::INHOMO_RECO() | You have set USE_MINI_HALOS to True but INHOMO_RECO to False! Automatically setting INHOMO_RECO to True.\n",
      "2024-04-15 10:06:40,674 | WARNING | inputs.py::INHOMO_RECO() | You have set USE_MINI_HALOS to True but INHOMO_RECO to False! Automatically setting INHOMO_RECO to True.\n",
      "2024-04-15 10:06:40,675 | WARNING | inputs.py::INHOMO_RECO() | You have set USE_MINI_HALOS to True but INHOMO_RECO to False! Automatically setting INHOMO_RECO to True.\n",
      "2024-04-15 10:06:40,675 | WARNING | inputs.py::validate_all_inputs() | USE_MINI_HALOS needs USE_RELATIVE_VELOCITIES to get the right evolution!\n",
      "2024-04-15 10:06:40,676 | WARNING | inputs.py::INHOMO_RECO() | You have set USE_MINI_HALOS to True but INHOMO_RECO to False! Automatically setting INHOMO_RECO to True.\n",
      "2024-04-15 10:06:40,678 | WARNING | inputs.py::INHOMO_RECO() | You have set USE_MINI_HALOS to True but INHOMO_RECO to False! Automatically setting INHOMO_RECO to True.\n",
      "2024-04-15 10:06:40,678 | WARNING | inputs.py::INHOMO_RECO() | You have set USE_MINI_HALOS to True but INHOMO_RECO to False! Automatically setting INHOMO_RECO to True.\n",
      "2024-04-15 10:07:05,327 | WARNING | inputs.py::INHOMO_RECO() | You have set USE_MINI_HALOS to True but INHOMO_RECO to False! Automatically setting INHOMO_RECO to True.\n",
      "2024-04-15 10:07:05,606 | WARNING | inputs.py::INHOMO_RECO() | You have set USE_MINI_HALOS to True but INHOMO_RECO to False! Automatically setting INHOMO_RECO to True.\n",
      "2024-04-15 10:07:05,608 | WARNING | inputs.py::INHOMO_RECO() | You have set USE_MINI_HALOS to True but INHOMO_RECO to False! Automatically setting INHOMO_RECO to True.\n",
      "2024-04-15 10:07:05,610 | WARNING | inputs.py::INHOMO_RECO() | You have set USE_MINI_HALOS to True but INHOMO_RECO to False! Automatically setting INHOMO_RECO to True.\n",
      "2024-04-15 10:07:05,611 | WARNING | inputs.py::INHOMO_RECO() | You have set USE_MINI_HALOS to True but INHOMO_RECO to False! Automatically setting INHOMO_RECO to True.\n",
      "2024-04-15 10:07:05,612 | WARNING | inputs.py::INHOMO_RECO() | You have set USE_MINI_HALOS to True but INHOMO_RECO to False! Automatically setting INHOMO_RECO to True.\n",
      "2024-04-15 10:07:05,613 | WARNING | inputs.py::validate_all_inputs() | USE_MINI_HALOS needs USE_RELATIVE_VELOCITIES to get the right evolution!\n",
      "2024-04-15 10:07:05,614 | WARNING | inputs.py::INHOMO_RECO() | You have set USE_MINI_HALOS to True but INHOMO_RECO to False! Automatically setting INHOMO_RECO to True.\n",
      "2024-04-15 10:07:05,616 | WARNING | inputs.py::INHOMO_RECO() | You have set USE_MINI_HALOS to True but INHOMO_RECO to False! Automatically setting INHOMO_RECO to True.\n",
      "2024-04-15 10:07:11,737 | WARNING | inputs.py::INHOMO_RECO() | You have set USE_MINI_HALOS to True but INHOMO_RECO to False! Automatically setting INHOMO_RECO to True.\n",
      "2024-04-15 10:07:11,766 | WARNING | inputs.py::INHOMO_RECO() | You have set USE_MINI_HALOS to True but INHOMO_RECO to False! Automatically setting INHOMO_RECO to True.\n",
      "2024-04-15 10:07:11,767 | WARNING | inputs.py::INHOMO_RECO() | You have set USE_MINI_HALOS to True but INHOMO_RECO to False! Automatically setting INHOMO_RECO to True.\n",
      "2024-04-15 10:07:11,768 | WARNING | inputs.py::INHOMO_RECO() | You have set USE_MINI_HALOS to True but INHOMO_RECO to False! Automatically setting INHOMO_RECO to True.\n",
      "2024-04-15 10:07:11,769 | WARNING | inputs.py::INHOMO_RECO() | You have set USE_MINI_HALOS to True but INHOMO_RECO to False! Automatically setting INHOMO_RECO to True.\n",
      "2024-04-15 10:07:11,769 | WARNING | inputs.py::INHOMO_RECO() | You have set USE_MINI_HALOS to True but INHOMO_RECO to False! Automatically setting INHOMO_RECO to True.\n",
      "2024-04-15 10:07:11,770 | WARNING | inputs.py::validate_all_inputs() | USE_MINI_HALOS needs USE_RELATIVE_VELOCITIES to get the right evolution!\n",
      "2024-04-15 10:07:11,771 | WARNING | inputs.py::INHOMO_RECO() | You have set USE_MINI_HALOS to True but INHOMO_RECO to False! Automatically setting INHOMO_RECO to True.\n",
      "2024-04-15 10:07:11,773 | WARNING | inputs.py::INHOMO_RECO() | You have set USE_MINI_HALOS to True but INHOMO_RECO to False! Automatically setting INHOMO_RECO to True.\n",
      "2024-04-15 10:07:11,774 | WARNING | inputs.py::INHOMO_RECO() | You have set USE_MINI_HALOS to True but INHOMO_RECO to False! Automatically setting INHOMO_RECO to True.\n",
      "2024-04-15 10:07:37,579 | WARNING | inputs.py::INHOMO_RECO() | You have set USE_MINI_HALOS to True but INHOMO_RECO to False! Automatically setting INHOMO_RECO to True.\n",
      "2024-04-15 10:07:37,857 | WARNING | inputs.py::INHOMO_RECO() | You have set USE_MINI_HALOS to True but INHOMO_RECO to False! Automatically setting INHOMO_RECO to True.\n",
      "2024-04-15 10:07:37,859 | WARNING | inputs.py::INHOMO_RECO() | You have set USE_MINI_HALOS to True but INHOMO_RECO to False! Automatically setting INHOMO_RECO to True.\n",
      "2024-04-15 10:07:37,861 | WARNING | inputs.py::INHOMO_RECO() | You have set USE_MINI_HALOS to True but INHOMO_RECO to False! Automatically setting INHOMO_RECO to True.\n",
      "2024-04-15 10:07:37,861 | WARNING | inputs.py::INHOMO_RECO() | You have set USE_MINI_HALOS to True but INHOMO_RECO to False! Automatically setting INHOMO_RECO to True.\n",
      "2024-04-15 10:07:37,862 | WARNING | inputs.py::INHOMO_RECO() | You have set USE_MINI_HALOS to True but INHOMO_RECO to False! Automatically setting INHOMO_RECO to True.\n",
      "2024-04-15 10:07:37,863 | WARNING | inputs.py::validate_all_inputs() | USE_MINI_HALOS needs USE_RELATIVE_VELOCITIES to get the right evolution!\n",
      "2024-04-15 10:07:37,864 | WARNING | inputs.py::INHOMO_RECO() | You have set USE_MINI_HALOS to True but INHOMO_RECO to False! Automatically setting INHOMO_RECO to True.\n",
      "2024-04-15 10:07:37,866 | WARNING | inputs.py::INHOMO_RECO() | You have set USE_MINI_HALOS to True but INHOMO_RECO to False! Automatically setting INHOMO_RECO to True.\n",
      "2024-04-15 10:07:43,839 | WARNING | inputs.py::INHOMO_RECO() | You have set USE_MINI_HALOS to True but INHOMO_RECO to False! Automatically setting INHOMO_RECO to True.\n",
      "2024-04-15 10:07:43,867 | WARNING | inputs.py::INHOMO_RECO() | You have set USE_MINI_HALOS to True but INHOMO_RECO to False! Automatically setting INHOMO_RECO to True.\n",
      "2024-04-15 10:07:43,868 | WARNING | inputs.py::INHOMO_RECO() | You have set USE_MINI_HALOS to True but INHOMO_RECO to False! Automatically setting INHOMO_RECO to True.\n",
      "2024-04-15 10:07:43,869 | WARNING | inputs.py::INHOMO_RECO() | You have set USE_MINI_HALOS to True but INHOMO_RECO to False! Automatically setting INHOMO_RECO to True.\n"
     ]
    },
    {
     "name": "stderr",
     "output_type": "stream",
     "text": [
      "2024-04-15 10:07:43,869 | WARNING | inputs.py::INHOMO_RECO() | You have set USE_MINI_HALOS to True but INHOMO_RECO to False! Automatically setting INHOMO_RECO to True.\n",
      "2024-04-15 10:07:43,870 | WARNING | inputs.py::INHOMO_RECO() | You have set USE_MINI_HALOS to True but INHOMO_RECO to False! Automatically setting INHOMO_RECO to True.\n",
      "2024-04-15 10:07:43,870 | WARNING | inputs.py::validate_all_inputs() | USE_MINI_HALOS needs USE_RELATIVE_VELOCITIES to get the right evolution!\n",
      "2024-04-15 10:07:43,871 | WARNING | inputs.py::INHOMO_RECO() | You have set USE_MINI_HALOS to True but INHOMO_RECO to False! Automatically setting INHOMO_RECO to True.\n",
      "2024-04-15 10:07:43,874 | WARNING | inputs.py::INHOMO_RECO() | You have set USE_MINI_HALOS to True but INHOMO_RECO to False! Automatically setting INHOMO_RECO to True.\n",
      "2024-04-15 10:07:43,874 | WARNING | inputs.py::INHOMO_RECO() | You have set USE_MINI_HALOS to True but INHOMO_RECO to False! Automatically setting INHOMO_RECO to True.\n",
      "2024-04-15 10:08:09,002 | WARNING | inputs.py::INHOMO_RECO() | You have set USE_MINI_HALOS to True but INHOMO_RECO to False! Automatically setting INHOMO_RECO to True.\n",
      "2024-04-15 10:08:09,283 | WARNING | inputs.py::INHOMO_RECO() | You have set USE_MINI_HALOS to True but INHOMO_RECO to False! Automatically setting INHOMO_RECO to True.\n",
      "2024-04-15 10:08:09,285 | WARNING | inputs.py::INHOMO_RECO() | You have set USE_MINI_HALOS to True but INHOMO_RECO to False! Automatically setting INHOMO_RECO to True.\n",
      "2024-04-15 10:08:09,287 | WARNING | inputs.py::INHOMO_RECO() | You have set USE_MINI_HALOS to True but INHOMO_RECO to False! Automatically setting INHOMO_RECO to True.\n",
      "2024-04-15 10:08:09,288 | WARNING | inputs.py::INHOMO_RECO() | You have set USE_MINI_HALOS to True but INHOMO_RECO to False! Automatically setting INHOMO_RECO to True.\n",
      "2024-04-15 10:08:09,288 | WARNING | inputs.py::INHOMO_RECO() | You have set USE_MINI_HALOS to True but INHOMO_RECO to False! Automatically setting INHOMO_RECO to True.\n",
      "2024-04-15 10:08:09,289 | WARNING | inputs.py::validate_all_inputs() | USE_MINI_HALOS needs USE_RELATIVE_VELOCITIES to get the right evolution!\n",
      "2024-04-15 10:08:09,290 | WARNING | inputs.py::INHOMO_RECO() | You have set USE_MINI_HALOS to True but INHOMO_RECO to False! Automatically setting INHOMO_RECO to True.\n",
      "2024-04-15 10:08:09,292 | WARNING | inputs.py::INHOMO_RECO() | You have set USE_MINI_HALOS to True but INHOMO_RECO to False! Automatically setting INHOMO_RECO to True.\n",
      "2024-04-15 10:08:15,652 | WARNING | inputs.py::INHOMO_RECO() | You have set USE_MINI_HALOS to True but INHOMO_RECO to False! Automatically setting INHOMO_RECO to True.\n",
      "2024-04-15 10:08:15,679 | WARNING | inputs.py::INHOMO_RECO() | You have set USE_MINI_HALOS to True but INHOMO_RECO to False! Automatically setting INHOMO_RECO to True.\n",
      "2024-04-15 10:08:15,680 | WARNING | inputs.py::INHOMO_RECO() | You have set USE_MINI_HALOS to True but INHOMO_RECO to False! Automatically setting INHOMO_RECO to True.\n",
      "2024-04-15 10:08:15,680 | WARNING | inputs.py::INHOMO_RECO() | You have set USE_MINI_HALOS to True but INHOMO_RECO to False! Automatically setting INHOMO_RECO to True.\n",
      "2024-04-15 10:08:15,681 | WARNING | inputs.py::INHOMO_RECO() | You have set USE_MINI_HALOS to True but INHOMO_RECO to False! Automatically setting INHOMO_RECO to True.\n",
      "2024-04-15 10:08:15,681 | WARNING | inputs.py::INHOMO_RECO() | You have set USE_MINI_HALOS to True but INHOMO_RECO to False! Automatically setting INHOMO_RECO to True.\n",
      "2024-04-15 10:08:15,682 | WARNING | inputs.py::validate_all_inputs() | USE_MINI_HALOS needs USE_RELATIVE_VELOCITIES to get the right evolution!\n",
      "2024-04-15 10:08:15,683 | WARNING | inputs.py::INHOMO_RECO() | You have set USE_MINI_HALOS to True but INHOMO_RECO to False! Automatically setting INHOMO_RECO to True.\n",
      "2024-04-15 10:08:15,684 | WARNING | inputs.py::INHOMO_RECO() | You have set USE_MINI_HALOS to True but INHOMO_RECO to False! Automatically setting INHOMO_RECO to True.\n",
      "2024-04-15 10:08:15,685 | WARNING | inputs.py::INHOMO_RECO() | You have set USE_MINI_HALOS to True but INHOMO_RECO to False! Automatically setting INHOMO_RECO to True.\n",
      "2024-04-15 10:08:41,057 | WARNING | inputs.py::INHOMO_RECO() | You have set USE_MINI_HALOS to True but INHOMO_RECO to False! Automatically setting INHOMO_RECO to True.\n",
      "2024-04-15 10:08:41,327 | WARNING | inputs.py::INHOMO_RECO() | You have set USE_MINI_HALOS to True but INHOMO_RECO to False! Automatically setting INHOMO_RECO to True.\n",
      "2024-04-15 10:08:41,329 | WARNING | inputs.py::INHOMO_RECO() | You have set USE_MINI_HALOS to True but INHOMO_RECO to False! Automatically setting INHOMO_RECO to True.\n",
      "2024-04-15 10:08:41,331 | WARNING | inputs.py::INHOMO_RECO() | You have set USE_MINI_HALOS to True but INHOMO_RECO to False! Automatically setting INHOMO_RECO to True.\n",
      "2024-04-15 10:08:41,332 | WARNING | inputs.py::INHOMO_RECO() | You have set USE_MINI_HALOS to True but INHOMO_RECO to False! Automatically setting INHOMO_RECO to True.\n",
      "2024-04-15 10:08:41,332 | WARNING | inputs.py::INHOMO_RECO() | You have set USE_MINI_HALOS to True but INHOMO_RECO to False! Automatically setting INHOMO_RECO to True.\n",
      "2024-04-15 10:08:41,333 | WARNING | inputs.py::validate_all_inputs() | USE_MINI_HALOS needs USE_RELATIVE_VELOCITIES to get the right evolution!\n",
      "2024-04-15 10:08:41,334 | WARNING | inputs.py::INHOMO_RECO() | You have set USE_MINI_HALOS to True but INHOMO_RECO to False! Automatically setting INHOMO_RECO to True.\n",
      "2024-04-15 10:08:41,336 | WARNING | inputs.py::INHOMO_RECO() | You have set USE_MINI_HALOS to True but INHOMO_RECO to False! Automatically setting INHOMO_RECO to True.\n",
      "2024-04-15 10:08:47,070 | WARNING | inputs.py::INHOMO_RECO() | You have set USE_MINI_HALOS to True but INHOMO_RECO to False! Automatically setting INHOMO_RECO to True.\n",
      "2024-04-15 10:08:47,094 | WARNING | inputs.py::INHOMO_RECO() | You have set USE_MINI_HALOS to True but INHOMO_RECO to False! Automatically setting INHOMO_RECO to True.\n",
      "2024-04-15 10:08:47,095 | WARNING | inputs.py::INHOMO_RECO() | You have set USE_MINI_HALOS to True but INHOMO_RECO to False! Automatically setting INHOMO_RECO to True.\n",
      "2024-04-15 10:08:47,096 | WARNING | inputs.py::INHOMO_RECO() | You have set USE_MINI_HALOS to True but INHOMO_RECO to False! Automatically setting INHOMO_RECO to True.\n",
      "2024-04-15 10:08:47,096 | WARNING | inputs.py::INHOMO_RECO() | You have set USE_MINI_HALOS to True but INHOMO_RECO to False! Automatically setting INHOMO_RECO to True.\n",
      "2024-04-15 10:08:47,097 | WARNING | inputs.py::INHOMO_RECO() | You have set USE_MINI_HALOS to True but INHOMO_RECO to False! Automatically setting INHOMO_RECO to True.\n",
      "2024-04-15 10:08:47,098 | WARNING | inputs.py::validate_all_inputs() | USE_MINI_HALOS needs USE_RELATIVE_VELOCITIES to get the right evolution!\n",
      "2024-04-15 10:08:47,099 | WARNING | inputs.py::INHOMO_RECO() | You have set USE_MINI_HALOS to True but INHOMO_RECO to False! Automatically setting INHOMO_RECO to True.\n",
      "2024-04-15 10:08:47,101 | WARNING | inputs.py::INHOMO_RECO() | You have set USE_MINI_HALOS to True but INHOMO_RECO to False! Automatically setting INHOMO_RECO to True.\n",
      "2024-04-15 10:08:47,102 | WARNING | inputs.py::INHOMO_RECO() | You have set USE_MINI_HALOS to True but INHOMO_RECO to False! Automatically setting INHOMO_RECO to True.\n",
      "2024-04-15 10:09:12,675 | WARNING | inputs.py::INHOMO_RECO() | You have set USE_MINI_HALOS to True but INHOMO_RECO to False! Automatically setting INHOMO_RECO to True.\n",
      "2024-04-15 10:09:12,943 | WARNING | inputs.py::INHOMO_RECO() | You have set USE_MINI_HALOS to True but INHOMO_RECO to False! Automatically setting INHOMO_RECO to True.\n",
      "2024-04-15 10:09:12,945 | WARNING | inputs.py::INHOMO_RECO() | You have set USE_MINI_HALOS to True but INHOMO_RECO to False! Automatically setting INHOMO_RECO to True.\n",
      "2024-04-15 10:09:12,947 | WARNING | inputs.py::INHOMO_RECO() | You have set USE_MINI_HALOS to True but INHOMO_RECO to False! Automatically setting INHOMO_RECO to True.\n",
      "2024-04-15 10:09:12,948 | WARNING | inputs.py::INHOMO_RECO() | You have set USE_MINI_HALOS to True but INHOMO_RECO to False! Automatically setting INHOMO_RECO to True.\n",
      "2024-04-15 10:09:12,948 | WARNING | inputs.py::INHOMO_RECO() | You have set USE_MINI_HALOS to True but INHOMO_RECO to False! Automatically setting INHOMO_RECO to True.\n"
     ]
    },
    {
     "name": "stderr",
     "output_type": "stream",
     "text": [
      "2024-04-15 10:09:12,949 | WARNING | inputs.py::validate_all_inputs() | USE_MINI_HALOS needs USE_RELATIVE_VELOCITIES to get the right evolution!\n",
      "2024-04-15 10:09:12,950 | WARNING | inputs.py::INHOMO_RECO() | You have set USE_MINI_HALOS to True but INHOMO_RECO to False! Automatically setting INHOMO_RECO to True.\n",
      "2024-04-15 10:09:12,952 | WARNING | inputs.py::INHOMO_RECO() | You have set USE_MINI_HALOS to True but INHOMO_RECO to False! Automatically setting INHOMO_RECO to True.\n",
      "2024-04-15 10:09:18,790 | WARNING | inputs.py::INHOMO_RECO() | You have set USE_MINI_HALOS to True but INHOMO_RECO to False! Automatically setting INHOMO_RECO to True.\n",
      "2024-04-15 10:09:18,819 | WARNING | inputs.py::INHOMO_RECO() | You have set USE_MINI_HALOS to True but INHOMO_RECO to False! Automatically setting INHOMO_RECO to True.\n",
      "2024-04-15 10:09:18,819 | WARNING | inputs.py::INHOMO_RECO() | You have set USE_MINI_HALOS to True but INHOMO_RECO to False! Automatically setting INHOMO_RECO to True.\n",
      "2024-04-15 10:09:18,820 | WARNING | inputs.py::INHOMO_RECO() | You have set USE_MINI_HALOS to True but INHOMO_RECO to False! Automatically setting INHOMO_RECO to True.\n",
      "2024-04-15 10:09:18,821 | WARNING | inputs.py::INHOMO_RECO() | You have set USE_MINI_HALOS to True but INHOMO_RECO to False! Automatically setting INHOMO_RECO to True.\n",
      "2024-04-15 10:09:18,822 | WARNING | inputs.py::INHOMO_RECO() | You have set USE_MINI_HALOS to True but INHOMO_RECO to False! Automatically setting INHOMO_RECO to True.\n",
      "2024-04-15 10:09:18,822 | WARNING | inputs.py::validate_all_inputs() | USE_MINI_HALOS needs USE_RELATIVE_VELOCITIES to get the right evolution!\n",
      "2024-04-15 10:09:18,823 | WARNING | inputs.py::INHOMO_RECO() | You have set USE_MINI_HALOS to True but INHOMO_RECO to False! Automatically setting INHOMO_RECO to True.\n",
      "2024-04-15 10:09:18,826 | WARNING | inputs.py::INHOMO_RECO() | You have set USE_MINI_HALOS to True but INHOMO_RECO to False! Automatically setting INHOMO_RECO to True.\n",
      "2024-04-15 10:09:18,826 | WARNING | inputs.py::INHOMO_RECO() | You have set USE_MINI_HALOS to True but INHOMO_RECO to False! Automatically setting INHOMO_RECO to True.\n",
      "2024-04-15 10:09:43,900 | WARNING | inputs.py::INHOMO_RECO() | You have set USE_MINI_HALOS to True but INHOMO_RECO to False! Automatically setting INHOMO_RECO to True.\n",
      "2024-04-15 10:09:44,186 | WARNING | inputs.py::INHOMO_RECO() | You have set USE_MINI_HALOS to True but INHOMO_RECO to False! Automatically setting INHOMO_RECO to True.\n",
      "2024-04-15 10:09:44,188 | WARNING | inputs.py::INHOMO_RECO() | You have set USE_MINI_HALOS to True but INHOMO_RECO to False! Automatically setting INHOMO_RECO to True.\n",
      "2024-04-15 10:09:44,190 | WARNING | inputs.py::INHOMO_RECO() | You have set USE_MINI_HALOS to True but INHOMO_RECO to False! Automatically setting INHOMO_RECO to True.\n",
      "2024-04-15 10:09:44,191 | WARNING | inputs.py::INHOMO_RECO() | You have set USE_MINI_HALOS to True but INHOMO_RECO to False! Automatically setting INHOMO_RECO to True.\n",
      "2024-04-15 10:09:44,191 | WARNING | inputs.py::INHOMO_RECO() | You have set USE_MINI_HALOS to True but INHOMO_RECO to False! Automatically setting INHOMO_RECO to True.\n",
      "2024-04-15 10:09:44,192 | WARNING | inputs.py::validate_all_inputs() | USE_MINI_HALOS needs USE_RELATIVE_VELOCITIES to get the right evolution!\n",
      "2024-04-15 10:09:44,193 | WARNING | inputs.py::INHOMO_RECO() | You have set USE_MINI_HALOS to True but INHOMO_RECO to False! Automatically setting INHOMO_RECO to True.\n",
      "2024-04-15 10:09:44,195 | WARNING | inputs.py::INHOMO_RECO() | You have set USE_MINI_HALOS to True but INHOMO_RECO to False! Automatically setting INHOMO_RECO to True.\n",
      "2024-04-15 10:09:49,835 | WARNING | inputs.py::INHOMO_RECO() | You have set USE_MINI_HALOS to True but INHOMO_RECO to False! Automatically setting INHOMO_RECO to True.\n",
      "2024-04-15 10:09:49,864 | WARNING | inputs.py::INHOMO_RECO() | You have set USE_MINI_HALOS to True but INHOMO_RECO to False! Automatically setting INHOMO_RECO to True.\n",
      "2024-04-15 10:09:49,865 | WARNING | inputs.py::INHOMO_RECO() | You have set USE_MINI_HALOS to True but INHOMO_RECO to False! Automatically setting INHOMO_RECO to True.\n",
      "2024-04-15 10:09:49,865 | WARNING | inputs.py::INHOMO_RECO() | You have set USE_MINI_HALOS to True but INHOMO_RECO to False! Automatically setting INHOMO_RECO to True.\n",
      "2024-04-15 10:09:49,866 | WARNING | inputs.py::INHOMO_RECO() | You have set USE_MINI_HALOS to True but INHOMO_RECO to False! Automatically setting INHOMO_RECO to True.\n",
      "2024-04-15 10:09:49,867 | WARNING | inputs.py::INHOMO_RECO() | You have set USE_MINI_HALOS to True but INHOMO_RECO to False! Automatically setting INHOMO_RECO to True.\n",
      "2024-04-15 10:09:49,867 | WARNING | inputs.py::validate_all_inputs() | USE_MINI_HALOS needs USE_RELATIVE_VELOCITIES to get the right evolution!\n",
      "2024-04-15 10:09:49,868 | WARNING | inputs.py::INHOMO_RECO() | You have set USE_MINI_HALOS to True but INHOMO_RECO to False! Automatically setting INHOMO_RECO to True.\n",
      "2024-04-15 10:09:49,870 | WARNING | inputs.py::INHOMO_RECO() | You have set USE_MINI_HALOS to True but INHOMO_RECO to False! Automatically setting INHOMO_RECO to True.\n",
      "2024-04-15 10:09:49,871 | WARNING | inputs.py::INHOMO_RECO() | You have set USE_MINI_HALOS to True but INHOMO_RECO to False! Automatically setting INHOMO_RECO to True.\n",
      "2024-04-15 10:10:15,766 | WARNING | inputs.py::INHOMO_RECO() | You have set USE_MINI_HALOS to True but INHOMO_RECO to False! Automatically setting INHOMO_RECO to True.\n",
      "2024-04-15 10:10:16,023 | WARNING | inputs.py::INHOMO_RECO() | You have set USE_MINI_HALOS to True but INHOMO_RECO to False! Automatically setting INHOMO_RECO to True.\n",
      "2024-04-15 10:10:16,025 | WARNING | inputs.py::INHOMO_RECO() | You have set USE_MINI_HALOS to True but INHOMO_RECO to False! Automatically setting INHOMO_RECO to True.\n",
      "2024-04-15 10:10:16,027 | WARNING | inputs.py::INHOMO_RECO() | You have set USE_MINI_HALOS to True but INHOMO_RECO to False! Automatically setting INHOMO_RECO to True.\n",
      "2024-04-15 10:10:16,028 | WARNING | inputs.py::INHOMO_RECO() | You have set USE_MINI_HALOS to True but INHOMO_RECO to False! Automatically setting INHOMO_RECO to True.\n",
      "2024-04-15 10:10:16,029 | WARNING | inputs.py::INHOMO_RECO() | You have set USE_MINI_HALOS to True but INHOMO_RECO to False! Automatically setting INHOMO_RECO to True.\n",
      "2024-04-15 10:10:16,030 | WARNING | inputs.py::validate_all_inputs() | USE_MINI_HALOS needs USE_RELATIVE_VELOCITIES to get the right evolution!\n",
      "2024-04-15 10:10:16,030 | WARNING | inputs.py::INHOMO_RECO() | You have set USE_MINI_HALOS to True but INHOMO_RECO to False! Automatically setting INHOMO_RECO to True.\n",
      "2024-04-15 10:10:16,033 | WARNING | inputs.py::INHOMO_RECO() | You have set USE_MINI_HALOS to True but INHOMO_RECO to False! Automatically setting INHOMO_RECO to True.\n",
      "2024-04-15 10:10:21,944 | WARNING | inputs.py::INHOMO_RECO() | You have set USE_MINI_HALOS to True but INHOMO_RECO to False! Automatically setting INHOMO_RECO to True.\n",
      "2024-04-15 10:10:21,969 | WARNING | inputs.py::INHOMO_RECO() | You have set USE_MINI_HALOS to True but INHOMO_RECO to False! Automatically setting INHOMO_RECO to True.\n",
      "2024-04-15 10:10:21,970 | WARNING | inputs.py::INHOMO_RECO() | You have set USE_MINI_HALOS to True but INHOMO_RECO to False! Automatically setting INHOMO_RECO to True.\n",
      "2024-04-15 10:10:21,971 | WARNING | inputs.py::INHOMO_RECO() | You have set USE_MINI_HALOS to True but INHOMO_RECO to False! Automatically setting INHOMO_RECO to True.\n",
      "2024-04-15 10:10:21,971 | WARNING | inputs.py::INHOMO_RECO() | You have set USE_MINI_HALOS to True but INHOMO_RECO to False! Automatically setting INHOMO_RECO to True.\n",
      "2024-04-15 10:10:21,972 | WARNING | inputs.py::INHOMO_RECO() | You have set USE_MINI_HALOS to True but INHOMO_RECO to False! Automatically setting INHOMO_RECO to True.\n",
      "2024-04-15 10:10:21,973 | WARNING | inputs.py::validate_all_inputs() | USE_MINI_HALOS needs USE_RELATIVE_VELOCITIES to get the right evolution!\n",
      "2024-04-15 10:10:21,974 | WARNING | inputs.py::INHOMO_RECO() | You have set USE_MINI_HALOS to True but INHOMO_RECO to False! Automatically setting INHOMO_RECO to True.\n",
      "2024-04-15 10:10:21,976 | WARNING | inputs.py::INHOMO_RECO() | You have set USE_MINI_HALOS to True but INHOMO_RECO to False! Automatically setting INHOMO_RECO to True.\n"
     ]
    },
    {
     "name": "stderr",
     "output_type": "stream",
     "text": [
      "2024-04-15 10:10:21,977 | WARNING | inputs.py::INHOMO_RECO() | You have set USE_MINI_HALOS to True but INHOMO_RECO to False! Automatically setting INHOMO_RECO to True.\n",
      "2024-04-15 10:10:48,563 | WARNING | inputs.py::INHOMO_RECO() | You have set USE_MINI_HALOS to True but INHOMO_RECO to False! Automatically setting INHOMO_RECO to True.\n",
      "2024-04-15 10:10:48,811 | WARNING | inputs.py::INHOMO_RECO() | You have set USE_MINI_HALOS to True but INHOMO_RECO to False! Automatically setting INHOMO_RECO to True.\n",
      "2024-04-15 10:10:48,812 | WARNING | inputs.py::INHOMO_RECO() | You have set USE_MINI_HALOS to True but INHOMO_RECO to False! Automatically setting INHOMO_RECO to True.\n",
      "2024-04-15 10:10:48,815 | WARNING | inputs.py::INHOMO_RECO() | You have set USE_MINI_HALOS to True but INHOMO_RECO to False! Automatically setting INHOMO_RECO to True.\n",
      "2024-04-15 10:10:48,815 | WARNING | inputs.py::INHOMO_RECO() | You have set USE_MINI_HALOS to True but INHOMO_RECO to False! Automatically setting INHOMO_RECO to True.\n",
      "2024-04-15 10:10:48,816 | WARNING | inputs.py::INHOMO_RECO() | You have set USE_MINI_HALOS to True but INHOMO_RECO to False! Automatically setting INHOMO_RECO to True.\n",
      "2024-04-15 10:10:48,816 | WARNING | inputs.py::validate_all_inputs() | USE_MINI_HALOS needs USE_RELATIVE_VELOCITIES to get the right evolution!\n",
      "2024-04-15 10:10:48,818 | WARNING | inputs.py::INHOMO_RECO() | You have set USE_MINI_HALOS to True but INHOMO_RECO to False! Automatically setting INHOMO_RECO to True.\n",
      "2024-04-15 10:10:48,820 | WARNING | inputs.py::INHOMO_RECO() | You have set USE_MINI_HALOS to True but INHOMO_RECO to False! Automatically setting INHOMO_RECO to True.\n",
      "2024-04-15 10:10:55,163 | WARNING | inputs.py::INHOMO_RECO() | You have set USE_MINI_HALOS to True but INHOMO_RECO to False! Automatically setting INHOMO_RECO to True.\n",
      "2024-04-15 10:10:55,185 | WARNING | inputs.py::INHOMO_RECO() | You have set USE_MINI_HALOS to True but INHOMO_RECO to False! Automatically setting INHOMO_RECO to True.\n",
      "2024-04-15 10:10:55,186 | WARNING | inputs.py::INHOMO_RECO() | You have set USE_MINI_HALOS to True but INHOMO_RECO to False! Automatically setting INHOMO_RECO to True.\n",
      "2024-04-15 10:10:55,186 | WARNING | inputs.py::INHOMO_RECO() | You have set USE_MINI_HALOS to True but INHOMO_RECO to False! Automatically setting INHOMO_RECO to True.\n",
      "2024-04-15 10:10:55,187 | WARNING | inputs.py::INHOMO_RECO() | You have set USE_MINI_HALOS to True but INHOMO_RECO to False! Automatically setting INHOMO_RECO to True.\n",
      "2024-04-15 10:10:55,188 | WARNING | inputs.py::INHOMO_RECO() | You have set USE_MINI_HALOS to True but INHOMO_RECO to False! Automatically setting INHOMO_RECO to True.\n",
      "2024-04-15 10:10:55,189 | WARNING | inputs.py::validate_all_inputs() | USE_MINI_HALOS needs USE_RELATIVE_VELOCITIES to get the right evolution!\n",
      "2024-04-15 10:10:55,189 | WARNING | inputs.py::INHOMO_RECO() | You have set USE_MINI_HALOS to True but INHOMO_RECO to False! Automatically setting INHOMO_RECO to True.\n",
      "2024-04-15 10:10:55,192 | WARNING | inputs.py::INHOMO_RECO() | You have set USE_MINI_HALOS to True but INHOMO_RECO to False! Automatically setting INHOMO_RECO to True.\n",
      "2024-04-15 10:10:55,193 | WARNING | inputs.py::INHOMO_RECO() | You have set USE_MINI_HALOS to True but INHOMO_RECO to False! Automatically setting INHOMO_RECO to True.\n",
      "2024-04-15 10:11:22,260 | WARNING | inputs.py::INHOMO_RECO() | You have set USE_MINI_HALOS to True but INHOMO_RECO to False! Automatically setting INHOMO_RECO to True.\n",
      "2024-04-15 10:11:22,546 | WARNING | inputs.py::INHOMO_RECO() | You have set USE_MINI_HALOS to True but INHOMO_RECO to False! Automatically setting INHOMO_RECO to True.\n",
      "2024-04-15 10:11:22,548 | WARNING | inputs.py::INHOMO_RECO() | You have set USE_MINI_HALOS to True but INHOMO_RECO to False! Automatically setting INHOMO_RECO to True.\n",
      "2024-04-15 10:11:22,550 | WARNING | inputs.py::INHOMO_RECO() | You have set USE_MINI_HALOS to True but INHOMO_RECO to False! Automatically setting INHOMO_RECO to True.\n",
      "2024-04-15 10:11:22,550 | WARNING | inputs.py::INHOMO_RECO() | You have set USE_MINI_HALOS to True but INHOMO_RECO to False! Automatically setting INHOMO_RECO to True.\n",
      "2024-04-15 10:11:22,551 | WARNING | inputs.py::INHOMO_RECO() | You have set USE_MINI_HALOS to True but INHOMO_RECO to False! Automatically setting INHOMO_RECO to True.\n",
      "2024-04-15 10:11:22,552 | WARNING | inputs.py::validate_all_inputs() | USE_MINI_HALOS needs USE_RELATIVE_VELOCITIES to get the right evolution!\n",
      "2024-04-15 10:11:22,553 | WARNING | inputs.py::INHOMO_RECO() | You have set USE_MINI_HALOS to True but INHOMO_RECO to False! Automatically setting INHOMO_RECO to True.\n",
      "2024-04-15 10:11:22,555 | WARNING | inputs.py::INHOMO_RECO() | You have set USE_MINI_HALOS to True but INHOMO_RECO to False! Automatically setting INHOMO_RECO to True.\n",
      "2024-04-15 10:11:28,327 | WARNING | inputs.py::INHOMO_RECO() | You have set USE_MINI_HALOS to True but INHOMO_RECO to False! Automatically setting INHOMO_RECO to True.\n",
      "2024-04-15 10:11:28,354 | WARNING | inputs.py::INHOMO_RECO() | You have set USE_MINI_HALOS to True but INHOMO_RECO to False! Automatically setting INHOMO_RECO to True.\n",
      "2024-04-15 10:11:28,354 | WARNING | inputs.py::INHOMO_RECO() | You have set USE_MINI_HALOS to True but INHOMO_RECO to False! Automatically setting INHOMO_RECO to True.\n",
      "2024-04-15 10:11:28,355 | WARNING | inputs.py::INHOMO_RECO() | You have set USE_MINI_HALOS to True but INHOMO_RECO to False! Automatically setting INHOMO_RECO to True.\n",
      "2024-04-15 10:11:28,356 | WARNING | inputs.py::INHOMO_RECO() | You have set USE_MINI_HALOS to True but INHOMO_RECO to False! Automatically setting INHOMO_RECO to True.\n",
      "2024-04-15 10:11:28,357 | WARNING | inputs.py::INHOMO_RECO() | You have set USE_MINI_HALOS to True but INHOMO_RECO to False! Automatically setting INHOMO_RECO to True.\n",
      "2024-04-15 10:11:28,358 | WARNING | inputs.py::validate_all_inputs() | USE_MINI_HALOS needs USE_RELATIVE_VELOCITIES to get the right evolution!\n",
      "2024-04-15 10:11:28,358 | WARNING | inputs.py::INHOMO_RECO() | You have set USE_MINI_HALOS to True but INHOMO_RECO to False! Automatically setting INHOMO_RECO to True.\n",
      "2024-04-15 10:11:28,361 | WARNING | inputs.py::INHOMO_RECO() | You have set USE_MINI_HALOS to True but INHOMO_RECO to False! Automatically setting INHOMO_RECO to True.\n",
      "2024-04-15 10:11:28,362 | WARNING | inputs.py::INHOMO_RECO() | You have set USE_MINI_HALOS to True but INHOMO_RECO to False! Automatically setting INHOMO_RECO to True.\n",
      "2024-04-15 10:11:55,401 | WARNING | inputs.py::INHOMO_RECO() | You have set USE_MINI_HALOS to True but INHOMO_RECO to False! Automatically setting INHOMO_RECO to True.\n",
      "2024-04-15 10:11:55,685 | WARNING | inputs.py::INHOMO_RECO() | You have set USE_MINI_HALOS to True but INHOMO_RECO to False! Automatically setting INHOMO_RECO to True.\n",
      "2024-04-15 10:11:55,686 | WARNING | inputs.py::INHOMO_RECO() | You have set USE_MINI_HALOS to True but INHOMO_RECO to False! Automatically setting INHOMO_RECO to True.\n",
      "2024-04-15 10:11:55,688 | WARNING | inputs.py::INHOMO_RECO() | You have set USE_MINI_HALOS to True but INHOMO_RECO to False! Automatically setting INHOMO_RECO to True.\n",
      "2024-04-15 10:11:55,688 | WARNING | inputs.py::INHOMO_RECO() | You have set USE_MINI_HALOS to True but INHOMO_RECO to False! Automatically setting INHOMO_RECO to True.\n",
      "2024-04-15 10:11:55,689 | WARNING | inputs.py::INHOMO_RECO() | You have set USE_MINI_HALOS to True but INHOMO_RECO to False! Automatically setting INHOMO_RECO to True.\n",
      "2024-04-15 10:11:55,689 | WARNING | inputs.py::validate_all_inputs() | USE_MINI_HALOS needs USE_RELATIVE_VELOCITIES to get the right evolution!\n",
      "2024-04-15 10:11:55,690 | WARNING | inputs.py::INHOMO_RECO() | You have set USE_MINI_HALOS to True but INHOMO_RECO to False! Automatically setting INHOMO_RECO to True.\n",
      "2024-04-15 10:11:55,692 | WARNING | inputs.py::INHOMO_RECO() | You have set USE_MINI_HALOS to True but INHOMO_RECO to False! Automatically setting INHOMO_RECO to True.\n",
      "2024-04-15 10:12:01,652 | WARNING | inputs.py::INHOMO_RECO() | You have set USE_MINI_HALOS to True but INHOMO_RECO to False! Automatically setting INHOMO_RECO to True.\n",
      "2024-04-15 10:12:01,673 | WARNING | inputs.py::INHOMO_RECO() | You have set USE_MINI_HALOS to True but INHOMO_RECO to False! Automatically setting INHOMO_RECO to True.\n"
     ]
    },
    {
     "name": "stderr",
     "output_type": "stream",
     "text": [
      "2024-04-15 10:12:01,673 | WARNING | inputs.py::INHOMO_RECO() | You have set USE_MINI_HALOS to True but INHOMO_RECO to False! Automatically setting INHOMO_RECO to True.\n",
      "2024-04-15 10:12:01,674 | WARNING | inputs.py::INHOMO_RECO() | You have set USE_MINI_HALOS to True but INHOMO_RECO to False! Automatically setting INHOMO_RECO to True.\n",
      "2024-04-15 10:12:01,675 | WARNING | inputs.py::INHOMO_RECO() | You have set USE_MINI_HALOS to True but INHOMO_RECO to False! Automatically setting INHOMO_RECO to True.\n",
      "2024-04-15 10:12:01,676 | WARNING | inputs.py::INHOMO_RECO() | You have set USE_MINI_HALOS to True but INHOMO_RECO to False! Automatically setting INHOMO_RECO to True.\n",
      "2024-04-15 10:12:01,677 | WARNING | inputs.py::validate_all_inputs() | USE_MINI_HALOS needs USE_RELATIVE_VELOCITIES to get the right evolution!\n",
      "2024-04-15 10:12:01,677 | WARNING | inputs.py::INHOMO_RECO() | You have set USE_MINI_HALOS to True but INHOMO_RECO to False! Automatically setting INHOMO_RECO to True.\n",
      "2024-04-15 10:12:01,680 | WARNING | inputs.py::INHOMO_RECO() | You have set USE_MINI_HALOS to True but INHOMO_RECO to False! Automatically setting INHOMO_RECO to True.\n",
      "2024-04-15 10:12:01,681 | WARNING | inputs.py::INHOMO_RECO() | You have set USE_MINI_HALOS to True but INHOMO_RECO to False! Automatically setting INHOMO_RECO to True.\n",
      "2024-04-15 10:12:28,996 | WARNING | inputs.py::INHOMO_RECO() | You have set USE_MINI_HALOS to True but INHOMO_RECO to False! Automatically setting INHOMO_RECO to True.\n",
      "2024-04-15 10:12:29,258 | WARNING | inputs.py::INHOMO_RECO() | You have set USE_MINI_HALOS to True but INHOMO_RECO to False! Automatically setting INHOMO_RECO to True.\n",
      "2024-04-15 10:12:29,259 | WARNING | inputs.py::INHOMO_RECO() | You have set USE_MINI_HALOS to True but INHOMO_RECO to False! Automatically setting INHOMO_RECO to True.\n",
      "2024-04-15 10:12:29,261 | WARNING | inputs.py::INHOMO_RECO() | You have set USE_MINI_HALOS to True but INHOMO_RECO to False! Automatically setting INHOMO_RECO to True.\n",
      "2024-04-15 10:12:29,262 | WARNING | inputs.py::INHOMO_RECO() | You have set USE_MINI_HALOS to True but INHOMO_RECO to False! Automatically setting INHOMO_RECO to True.\n",
      "2024-04-15 10:12:29,263 | WARNING | inputs.py::INHOMO_RECO() | You have set USE_MINI_HALOS to True but INHOMO_RECO to False! Automatically setting INHOMO_RECO to True.\n",
      "2024-04-15 10:12:29,263 | WARNING | inputs.py::validate_all_inputs() | USE_MINI_HALOS needs USE_RELATIVE_VELOCITIES to get the right evolution!\n",
      "2024-04-15 10:12:29,264 | WARNING | inputs.py::INHOMO_RECO() | You have set USE_MINI_HALOS to True but INHOMO_RECO to False! Automatically setting INHOMO_RECO to True.\n",
      "2024-04-15 10:12:29,267 | WARNING | inputs.py::INHOMO_RECO() | You have set USE_MINI_HALOS to True but INHOMO_RECO to False! Automatically setting INHOMO_RECO to True.\n",
      "2024-04-15 10:12:34,953 | WARNING | inputs.py::INHOMO_RECO() | You have set USE_MINI_HALOS to True but INHOMO_RECO to False! Automatically setting INHOMO_RECO to True.\n",
      "2024-04-15 10:12:34,986 | WARNING | inputs.py::INHOMO_RECO() | You have set USE_MINI_HALOS to True but INHOMO_RECO to False! Automatically setting INHOMO_RECO to True.\n",
      "2024-04-15 10:12:34,986 | WARNING | inputs.py::INHOMO_RECO() | You have set USE_MINI_HALOS to True but INHOMO_RECO to False! Automatically setting INHOMO_RECO to True.\n",
      "2024-04-15 10:12:34,988 | WARNING | inputs.py::INHOMO_RECO() | You have set USE_MINI_HALOS to True but INHOMO_RECO to False! Automatically setting INHOMO_RECO to True.\n",
      "2024-04-15 10:12:34,988 | WARNING | inputs.py::INHOMO_RECO() | You have set USE_MINI_HALOS to True but INHOMO_RECO to False! Automatically setting INHOMO_RECO to True.\n",
      "2024-04-15 10:12:34,989 | WARNING | inputs.py::INHOMO_RECO() | You have set USE_MINI_HALOS to True but INHOMO_RECO to False! Automatically setting INHOMO_RECO to True.\n",
      "2024-04-15 10:12:34,990 | WARNING | inputs.py::validate_all_inputs() | USE_MINI_HALOS needs USE_RELATIVE_VELOCITIES to get the right evolution!\n",
      "2024-04-15 10:12:34,991 | WARNING | inputs.py::INHOMO_RECO() | You have set USE_MINI_HALOS to True but INHOMO_RECO to False! Automatically setting INHOMO_RECO to True.\n",
      "2024-04-15 10:12:34,995 | WARNING | inputs.py::INHOMO_RECO() | You have set USE_MINI_HALOS to True but INHOMO_RECO to False! Automatically setting INHOMO_RECO to True.\n",
      "2024-04-15 10:12:34,995 | WARNING | inputs.py::INHOMO_RECO() | You have set USE_MINI_HALOS to True but INHOMO_RECO to False! Automatically setting INHOMO_RECO to True.\n",
      "2024-04-15 10:13:02,057 | WARNING | inputs.py::INHOMO_RECO() | You have set USE_MINI_HALOS to True but INHOMO_RECO to False! Automatically setting INHOMO_RECO to True.\n",
      "2024-04-15 10:13:02,357 | WARNING | inputs.py::INHOMO_RECO() | You have set USE_MINI_HALOS to True but INHOMO_RECO to False! Automatically setting INHOMO_RECO to True.\n",
      "2024-04-15 10:13:02,359 | WARNING | inputs.py::INHOMO_RECO() | You have set USE_MINI_HALOS to True but INHOMO_RECO to False! Automatically setting INHOMO_RECO to True.\n",
      "2024-04-15 10:13:02,360 | WARNING | inputs.py::INHOMO_RECO() | You have set USE_MINI_HALOS to True but INHOMO_RECO to False! Automatically setting INHOMO_RECO to True.\n",
      "2024-04-15 10:13:02,361 | WARNING | inputs.py::INHOMO_RECO() | You have set USE_MINI_HALOS to True but INHOMO_RECO to False! Automatically setting INHOMO_RECO to True.\n",
      "2024-04-15 10:13:02,361 | WARNING | inputs.py::INHOMO_RECO() | You have set USE_MINI_HALOS to True but INHOMO_RECO to False! Automatically setting INHOMO_RECO to True.\n",
      "2024-04-15 10:13:02,361 | WARNING | inputs.py::validate_all_inputs() | USE_MINI_HALOS needs USE_RELATIVE_VELOCITIES to get the right evolution!\n",
      "2024-04-15 10:13:02,362 | WARNING | inputs.py::INHOMO_RECO() | You have set USE_MINI_HALOS to True but INHOMO_RECO to False! Automatically setting INHOMO_RECO to True.\n",
      "2024-04-15 10:13:02,363 | WARNING | inputs.py::INHOMO_RECO() | You have set USE_MINI_HALOS to True but INHOMO_RECO to False! Automatically setting INHOMO_RECO to True.\n",
      "2024-04-15 10:13:08,126 | WARNING | inputs.py::INHOMO_RECO() | You have set USE_MINI_HALOS to True but INHOMO_RECO to False! Automatically setting INHOMO_RECO to True.\n",
      "2024-04-15 10:13:08,156 | WARNING | inputs.py::INHOMO_RECO() | You have set USE_MINI_HALOS to True but INHOMO_RECO to False! Automatically setting INHOMO_RECO to True.\n",
      "2024-04-15 10:13:08,157 | WARNING | inputs.py::INHOMO_RECO() | You have set USE_MINI_HALOS to True but INHOMO_RECO to False! Automatically setting INHOMO_RECO to True.\n",
      "2024-04-15 10:13:08,158 | WARNING | inputs.py::INHOMO_RECO() | You have set USE_MINI_HALOS to True but INHOMO_RECO to False! Automatically setting INHOMO_RECO to True.\n",
      "2024-04-15 10:13:08,158 | WARNING | inputs.py::INHOMO_RECO() | You have set USE_MINI_HALOS to True but INHOMO_RECO to False! Automatically setting INHOMO_RECO to True.\n",
      "2024-04-15 10:13:08,159 | WARNING | inputs.py::INHOMO_RECO() | You have set USE_MINI_HALOS to True but INHOMO_RECO to False! Automatically setting INHOMO_RECO to True.\n",
      "2024-04-15 10:13:08,160 | WARNING | inputs.py::validate_all_inputs() | USE_MINI_HALOS needs USE_RELATIVE_VELOCITIES to get the right evolution!\n",
      "2024-04-15 10:13:08,161 | WARNING | inputs.py::INHOMO_RECO() | You have set USE_MINI_HALOS to True but INHOMO_RECO to False! Automatically setting INHOMO_RECO to True.\n",
      "2024-04-15 10:13:08,163 | WARNING | inputs.py::INHOMO_RECO() | You have set USE_MINI_HALOS to True but INHOMO_RECO to False! Automatically setting INHOMO_RECO to True.\n",
      "2024-04-15 10:13:08,164 | WARNING | inputs.py::INHOMO_RECO() | You have set USE_MINI_HALOS to True but INHOMO_RECO to False! Automatically setting INHOMO_RECO to True.\n",
      "2024-04-15 10:13:35,266 | WARNING | inputs.py::INHOMO_RECO() | You have set USE_MINI_HALOS to True but INHOMO_RECO to False! Automatically setting INHOMO_RECO to True.\n",
      "2024-04-15 10:13:35,530 | WARNING | inputs.py::INHOMO_RECO() | You have set USE_MINI_HALOS to True but INHOMO_RECO to False! Automatically setting INHOMO_RECO to True.\n",
      "2024-04-15 10:13:35,532 | WARNING | inputs.py::INHOMO_RECO() | You have set USE_MINI_HALOS to True but INHOMO_RECO to False! Automatically setting INHOMO_RECO to True.\n",
      "2024-04-15 10:13:35,534 | WARNING | inputs.py::INHOMO_RECO() | You have set USE_MINI_HALOS to True but INHOMO_RECO to False! Automatically setting INHOMO_RECO to True.\n"
     ]
    },
    {
     "name": "stderr",
     "output_type": "stream",
     "text": [
      "2024-04-15 10:13:35,535 | WARNING | inputs.py::INHOMO_RECO() | You have set USE_MINI_HALOS to True but INHOMO_RECO to False! Automatically setting INHOMO_RECO to True.\n",
      "2024-04-15 10:13:35,536 | WARNING | inputs.py::INHOMO_RECO() | You have set USE_MINI_HALOS to True but INHOMO_RECO to False! Automatically setting INHOMO_RECO to True.\n",
      "2024-04-15 10:13:35,536 | WARNING | inputs.py::validate_all_inputs() | USE_MINI_HALOS needs USE_RELATIVE_VELOCITIES to get the right evolution!\n",
      "2024-04-15 10:13:35,537 | WARNING | inputs.py::INHOMO_RECO() | You have set USE_MINI_HALOS to True but INHOMO_RECO to False! Automatically setting INHOMO_RECO to True.\n",
      "2024-04-15 10:13:35,539 | WARNING | inputs.py::INHOMO_RECO() | You have set USE_MINI_HALOS to True but INHOMO_RECO to False! Automatically setting INHOMO_RECO to True.\n",
      "2024-04-15 10:13:41,368 | WARNING | inputs.py::INHOMO_RECO() | You have set USE_MINI_HALOS to True but INHOMO_RECO to False! Automatically setting INHOMO_RECO to True.\n",
      "2024-04-15 10:13:41,394 | WARNING | inputs.py::INHOMO_RECO() | You have set USE_MINI_HALOS to True but INHOMO_RECO to False! Automatically setting INHOMO_RECO to True.\n",
      "2024-04-15 10:13:41,394 | WARNING | inputs.py::INHOMO_RECO() | You have set USE_MINI_HALOS to True but INHOMO_RECO to False! Automatically setting INHOMO_RECO to True.\n",
      "2024-04-15 10:13:41,395 | WARNING | inputs.py::INHOMO_RECO() | You have set USE_MINI_HALOS to True but INHOMO_RECO to False! Automatically setting INHOMO_RECO to True.\n",
      "2024-04-15 10:13:41,396 | WARNING | inputs.py::INHOMO_RECO() | You have set USE_MINI_HALOS to True but INHOMO_RECO to False! Automatically setting INHOMO_RECO to True.\n",
      "2024-04-15 10:13:41,397 | WARNING | inputs.py::INHOMO_RECO() | You have set USE_MINI_HALOS to True but INHOMO_RECO to False! Automatically setting INHOMO_RECO to True.\n",
      "2024-04-15 10:13:41,397 | WARNING | inputs.py::validate_all_inputs() | USE_MINI_HALOS needs USE_RELATIVE_VELOCITIES to get the right evolution!\n",
      "2024-04-15 10:13:41,398 | WARNING | inputs.py::INHOMO_RECO() | You have set USE_MINI_HALOS to True but INHOMO_RECO to False! Automatically setting INHOMO_RECO to True.\n",
      "2024-04-15 10:13:41,400 | WARNING | inputs.py::INHOMO_RECO() | You have set USE_MINI_HALOS to True but INHOMO_RECO to False! Automatically setting INHOMO_RECO to True.\n",
      "2024-04-15 10:13:41,401 | WARNING | inputs.py::INHOMO_RECO() | You have set USE_MINI_HALOS to True but INHOMO_RECO to False! Automatically setting INHOMO_RECO to True.\n",
      "2024-04-15 10:14:09,028 | WARNING | inputs.py::INHOMO_RECO() | You have set USE_MINI_HALOS to True but INHOMO_RECO to False! Automatically setting INHOMO_RECO to True.\n",
      "2024-04-15 10:14:09,319 | WARNING | inputs.py::INHOMO_RECO() | You have set USE_MINI_HALOS to True but INHOMO_RECO to False! Automatically setting INHOMO_RECO to True.\n",
      "2024-04-15 10:14:09,320 | WARNING | inputs.py::INHOMO_RECO() | You have set USE_MINI_HALOS to True but INHOMO_RECO to False! Automatically setting INHOMO_RECO to True.\n",
      "2024-04-15 10:14:09,323 | WARNING | inputs.py::INHOMO_RECO() | You have set USE_MINI_HALOS to True but INHOMO_RECO to False! Automatically setting INHOMO_RECO to True.\n",
      "2024-04-15 10:14:09,323 | WARNING | inputs.py::INHOMO_RECO() | You have set USE_MINI_HALOS to True but INHOMO_RECO to False! Automatically setting INHOMO_RECO to True.\n",
      "2024-04-15 10:14:09,325 | WARNING | inputs.py::INHOMO_RECO() | You have set USE_MINI_HALOS to True but INHOMO_RECO to False! Automatically setting INHOMO_RECO to True.\n",
      "2024-04-15 10:14:09,325 | WARNING | inputs.py::validate_all_inputs() | USE_MINI_HALOS needs USE_RELATIVE_VELOCITIES to get the right evolution!\n",
      "2024-04-15 10:14:09,326 | WARNING | inputs.py::INHOMO_RECO() | You have set USE_MINI_HALOS to True but INHOMO_RECO to False! Automatically setting INHOMO_RECO to True.\n",
      "2024-04-15 10:14:09,328 | WARNING | inputs.py::INHOMO_RECO() | You have set USE_MINI_HALOS to True but INHOMO_RECO to False! Automatically setting INHOMO_RECO to True.\n",
      "2024-04-15 10:14:15,211 | WARNING | inputs.py::INHOMO_RECO() | You have set USE_MINI_HALOS to True but INHOMO_RECO to False! Automatically setting INHOMO_RECO to True.\n",
      "2024-04-15 10:14:15,239 | WARNING | inputs.py::INHOMO_RECO() | You have set USE_MINI_HALOS to True but INHOMO_RECO to False! Automatically setting INHOMO_RECO to True.\n",
      "2024-04-15 10:14:15,240 | WARNING | inputs.py::INHOMO_RECO() | You have set USE_MINI_HALOS to True but INHOMO_RECO to False! Automatically setting INHOMO_RECO to True.\n",
      "2024-04-15 10:14:15,240 | WARNING | inputs.py::INHOMO_RECO() | You have set USE_MINI_HALOS to True but INHOMO_RECO to False! Automatically setting INHOMO_RECO to True.\n",
      "2024-04-15 10:14:15,241 | WARNING | inputs.py::INHOMO_RECO() | You have set USE_MINI_HALOS to True but INHOMO_RECO to False! Automatically setting INHOMO_RECO to True.\n",
      "2024-04-15 10:14:15,241 | WARNING | inputs.py::INHOMO_RECO() | You have set USE_MINI_HALOS to True but INHOMO_RECO to False! Automatically setting INHOMO_RECO to True.\n",
      "2024-04-15 10:14:15,242 | WARNING | inputs.py::validate_all_inputs() | USE_MINI_HALOS needs USE_RELATIVE_VELOCITIES to get the right evolution!\n",
      "2024-04-15 10:14:15,242 | WARNING | inputs.py::INHOMO_RECO() | You have set USE_MINI_HALOS to True but INHOMO_RECO to False! Automatically setting INHOMO_RECO to True.\n",
      "2024-04-15 10:14:15,244 | WARNING | inputs.py::INHOMO_RECO() | You have set USE_MINI_HALOS to True but INHOMO_RECO to False! Automatically setting INHOMO_RECO to True.\n",
      "2024-04-15 10:14:15,245 | WARNING | inputs.py::INHOMO_RECO() | You have set USE_MINI_HALOS to True but INHOMO_RECO to False! Automatically setting INHOMO_RECO to True.\n",
      "2024-04-15 10:14:43,463 | WARNING | inputs.py::INHOMO_RECO() | You have set USE_MINI_HALOS to True but INHOMO_RECO to False! Automatically setting INHOMO_RECO to True.\n",
      "2024-04-15 10:14:43,756 | WARNING | inputs.py::INHOMO_RECO() | You have set USE_MINI_HALOS to True but INHOMO_RECO to False! Automatically setting INHOMO_RECO to True.\n",
      "2024-04-15 10:14:43,757 | WARNING | inputs.py::INHOMO_RECO() | You have set USE_MINI_HALOS to True but INHOMO_RECO to False! Automatically setting INHOMO_RECO to True.\n",
      "2024-04-15 10:14:43,759 | WARNING | inputs.py::INHOMO_RECO() | You have set USE_MINI_HALOS to True but INHOMO_RECO to False! Automatically setting INHOMO_RECO to True.\n",
      "2024-04-15 10:14:43,760 | WARNING | inputs.py::INHOMO_RECO() | You have set USE_MINI_HALOS to True but INHOMO_RECO to False! Automatically setting INHOMO_RECO to True.\n",
      "2024-04-15 10:14:43,760 | WARNING | inputs.py::INHOMO_RECO() | You have set USE_MINI_HALOS to True but INHOMO_RECO to False! Automatically setting INHOMO_RECO to True.\n",
      "2024-04-15 10:14:43,761 | WARNING | inputs.py::validate_all_inputs() | USE_MINI_HALOS needs USE_RELATIVE_VELOCITIES to get the right evolution!\n",
      "2024-04-15 10:14:43,762 | WARNING | inputs.py::INHOMO_RECO() | You have set USE_MINI_HALOS to True but INHOMO_RECO to False! Automatically setting INHOMO_RECO to True.\n",
      "2024-04-15 10:14:43,764 | WARNING | inputs.py::INHOMO_RECO() | You have set USE_MINI_HALOS to True but INHOMO_RECO to False! Automatically setting INHOMO_RECO to True.\n",
      "2024-04-15 10:14:49,575 | WARNING | inputs.py::INHOMO_RECO() | You have set USE_MINI_HALOS to True but INHOMO_RECO to False! Automatically setting INHOMO_RECO to True.\n",
      "2024-04-15 10:14:49,605 | WARNING | inputs.py::INHOMO_RECO() | You have set USE_MINI_HALOS to True but INHOMO_RECO to False! Automatically setting INHOMO_RECO to True.\n",
      "2024-04-15 10:14:49,606 | WARNING | inputs.py::INHOMO_RECO() | You have set USE_MINI_HALOS to True but INHOMO_RECO to False! Automatically setting INHOMO_RECO to True.\n",
      "2024-04-15 10:14:49,607 | WARNING | inputs.py::INHOMO_RECO() | You have set USE_MINI_HALOS to True but INHOMO_RECO to False! Automatically setting INHOMO_RECO to True.\n",
      "2024-04-15 10:14:49,607 | WARNING | inputs.py::INHOMO_RECO() | You have set USE_MINI_HALOS to True but INHOMO_RECO to False! Automatically setting INHOMO_RECO to True.\n",
      "2024-04-15 10:14:49,608 | WARNING | inputs.py::INHOMO_RECO() | You have set USE_MINI_HALOS to True but INHOMO_RECO to False! Automatically setting INHOMO_RECO to True.\n",
      "2024-04-15 10:14:49,609 | WARNING | inputs.py::validate_all_inputs() | USE_MINI_HALOS needs USE_RELATIVE_VELOCITIES to get the right evolution!\n"
     ]
    },
    {
     "name": "stderr",
     "output_type": "stream",
     "text": [
      "2024-04-15 10:14:49,609 | WARNING | inputs.py::INHOMO_RECO() | You have set USE_MINI_HALOS to True but INHOMO_RECO to False! Automatically setting INHOMO_RECO to True.\n",
      "2024-04-15 10:14:49,612 | WARNING | inputs.py::INHOMO_RECO() | You have set USE_MINI_HALOS to True but INHOMO_RECO to False! Automatically setting INHOMO_RECO to True.\n",
      "2024-04-15 10:14:49,613 | WARNING | inputs.py::INHOMO_RECO() | You have set USE_MINI_HALOS to True but INHOMO_RECO to False! Automatically setting INHOMO_RECO to True.\n",
      "2024-04-15 10:15:17,873 | WARNING | inputs.py::INHOMO_RECO() | You have set USE_MINI_HALOS to True but INHOMO_RECO to False! Automatically setting INHOMO_RECO to True.\n",
      "2024-04-15 10:15:18,173 | WARNING | inputs.py::INHOMO_RECO() | You have set USE_MINI_HALOS to True but INHOMO_RECO to False! Automatically setting INHOMO_RECO to True.\n",
      "2024-04-15 10:15:18,174 | WARNING | inputs.py::INHOMO_RECO() | You have set USE_MINI_HALOS to True but INHOMO_RECO to False! Automatically setting INHOMO_RECO to True.\n",
      "2024-04-15 10:15:18,176 | WARNING | inputs.py::INHOMO_RECO() | You have set USE_MINI_HALOS to True but INHOMO_RECO to False! Automatically setting INHOMO_RECO to True.\n",
      "2024-04-15 10:15:18,176 | WARNING | inputs.py::INHOMO_RECO() | You have set USE_MINI_HALOS to True but INHOMO_RECO to False! Automatically setting INHOMO_RECO to True.\n",
      "2024-04-15 10:15:18,177 | WARNING | inputs.py::INHOMO_RECO() | You have set USE_MINI_HALOS to True but INHOMO_RECO to False! Automatically setting INHOMO_RECO to True.\n",
      "2024-04-15 10:15:18,177 | WARNING | inputs.py::validate_all_inputs() | USE_MINI_HALOS needs USE_RELATIVE_VELOCITIES to get the right evolution!\n",
      "2024-04-15 10:15:18,178 | WARNING | inputs.py::INHOMO_RECO() | You have set USE_MINI_HALOS to True but INHOMO_RECO to False! Automatically setting INHOMO_RECO to True.\n",
      "2024-04-15 10:15:18,179 | WARNING | inputs.py::INHOMO_RECO() | You have set USE_MINI_HALOS to True but INHOMO_RECO to False! Automatically setting INHOMO_RECO to True.\n",
      "2024-04-15 10:15:24,088 | WARNING | inputs.py::INHOMO_RECO() | You have set USE_MINI_HALOS to True but INHOMO_RECO to False! Automatically setting INHOMO_RECO to True.\n",
      "2024-04-15 10:15:24,114 | WARNING | inputs.py::INHOMO_RECO() | You have set USE_MINI_HALOS to True but INHOMO_RECO to False! Automatically setting INHOMO_RECO to True.\n",
      "2024-04-15 10:15:24,115 | WARNING | inputs.py::INHOMO_RECO() | You have set USE_MINI_HALOS to True but INHOMO_RECO to False! Automatically setting INHOMO_RECO to True.\n",
      "2024-04-15 10:15:24,116 | WARNING | inputs.py::INHOMO_RECO() | You have set USE_MINI_HALOS to True but INHOMO_RECO to False! Automatically setting INHOMO_RECO to True.\n",
      "2024-04-15 10:15:24,116 | WARNING | inputs.py::INHOMO_RECO() | You have set USE_MINI_HALOS to True but INHOMO_RECO to False! Automatically setting INHOMO_RECO to True.\n",
      "2024-04-15 10:15:24,117 | WARNING | inputs.py::INHOMO_RECO() | You have set USE_MINI_HALOS to True but INHOMO_RECO to False! Automatically setting INHOMO_RECO to True.\n",
      "2024-04-15 10:15:24,118 | WARNING | inputs.py::validate_all_inputs() | USE_MINI_HALOS needs USE_RELATIVE_VELOCITIES to get the right evolution!\n",
      "2024-04-15 10:15:24,118 | WARNING | inputs.py::INHOMO_RECO() | You have set USE_MINI_HALOS to True but INHOMO_RECO to False! Automatically setting INHOMO_RECO to True.\n",
      "2024-04-15 10:15:24,121 | WARNING | inputs.py::INHOMO_RECO() | You have set USE_MINI_HALOS to True but INHOMO_RECO to False! Automatically setting INHOMO_RECO to True.\n",
      "2024-04-15 10:15:24,122 | WARNING | inputs.py::INHOMO_RECO() | You have set USE_MINI_HALOS to True but INHOMO_RECO to False! Automatically setting INHOMO_RECO to True.\n",
      "2024-04-15 10:15:52,175 | WARNING | inputs.py::INHOMO_RECO() | You have set USE_MINI_HALOS to True but INHOMO_RECO to False! Automatically setting INHOMO_RECO to True.\n",
      "2024-04-15 10:15:52,483 | WARNING | inputs.py::INHOMO_RECO() | You have set USE_MINI_HALOS to True but INHOMO_RECO to False! Automatically setting INHOMO_RECO to True.\n",
      "2024-04-15 10:15:52,484 | WARNING | inputs.py::INHOMO_RECO() | You have set USE_MINI_HALOS to True but INHOMO_RECO to False! Automatically setting INHOMO_RECO to True.\n",
      "2024-04-15 10:15:52,486 | WARNING | inputs.py::INHOMO_RECO() | You have set USE_MINI_HALOS to True but INHOMO_RECO to False! Automatically setting INHOMO_RECO to True.\n",
      "2024-04-15 10:15:52,487 | WARNING | inputs.py::INHOMO_RECO() | You have set USE_MINI_HALOS to True but INHOMO_RECO to False! Automatically setting INHOMO_RECO to True.\n",
      "2024-04-15 10:15:52,487 | WARNING | inputs.py::INHOMO_RECO() | You have set USE_MINI_HALOS to True but INHOMO_RECO to False! Automatically setting INHOMO_RECO to True.\n",
      "2024-04-15 10:15:52,488 | WARNING | inputs.py::validate_all_inputs() | USE_MINI_HALOS needs USE_RELATIVE_VELOCITIES to get the right evolution!\n",
      "2024-04-15 10:15:52,488 | WARNING | inputs.py::INHOMO_RECO() | You have set USE_MINI_HALOS to True but INHOMO_RECO to False! Automatically setting INHOMO_RECO to True.\n",
      "2024-04-15 10:15:52,490 | WARNING | inputs.py::INHOMO_RECO() | You have set USE_MINI_HALOS to True but INHOMO_RECO to False! Automatically setting INHOMO_RECO to True.\n",
      "2024-04-15 10:15:58,273 | WARNING | inputs.py::INHOMO_RECO() | You have set USE_MINI_HALOS to True but INHOMO_RECO to False! Automatically setting INHOMO_RECO to True.\n",
      "2024-04-15 10:15:58,295 | WARNING | inputs.py::INHOMO_RECO() | You have set USE_MINI_HALOS to True but INHOMO_RECO to False! Automatically setting INHOMO_RECO to True.\n",
      "2024-04-15 10:15:58,296 | WARNING | inputs.py::INHOMO_RECO() | You have set USE_MINI_HALOS to True but INHOMO_RECO to False! Automatically setting INHOMO_RECO to True.\n",
      "2024-04-15 10:15:58,296 | WARNING | inputs.py::INHOMO_RECO() | You have set USE_MINI_HALOS to True but INHOMO_RECO to False! Automatically setting INHOMO_RECO to True.\n",
      "2024-04-15 10:15:58,297 | WARNING | inputs.py::INHOMO_RECO() | You have set USE_MINI_HALOS to True but INHOMO_RECO to False! Automatically setting INHOMO_RECO to True.\n",
      "2024-04-15 10:15:58,298 | WARNING | inputs.py::INHOMO_RECO() | You have set USE_MINI_HALOS to True but INHOMO_RECO to False! Automatically setting INHOMO_RECO to True.\n",
      "2024-04-15 10:15:58,299 | WARNING | inputs.py::validate_all_inputs() | USE_MINI_HALOS needs USE_RELATIVE_VELOCITIES to get the right evolution!\n",
      "2024-04-15 10:15:58,299 | WARNING | inputs.py::INHOMO_RECO() | You have set USE_MINI_HALOS to True but INHOMO_RECO to False! Automatically setting INHOMO_RECO to True.\n",
      "2024-04-15 10:15:58,302 | WARNING | inputs.py::INHOMO_RECO() | You have set USE_MINI_HALOS to True but INHOMO_RECO to False! Automatically setting INHOMO_RECO to True.\n",
      "2024-04-15 10:15:58,303 | WARNING | inputs.py::INHOMO_RECO() | You have set USE_MINI_HALOS to True but INHOMO_RECO to False! Automatically setting INHOMO_RECO to True.\n",
      "2024-04-15 10:16:26,924 | WARNING | inputs.py::INHOMO_RECO() | You have set USE_MINI_HALOS to True but INHOMO_RECO to False! Automatically setting INHOMO_RECO to True.\n",
      "2024-04-15 10:16:27,220 | WARNING | inputs.py::INHOMO_RECO() | You have set USE_MINI_HALOS to True but INHOMO_RECO to False! Automatically setting INHOMO_RECO to True.\n",
      "2024-04-15 10:16:27,221 | WARNING | inputs.py::INHOMO_RECO() | You have set USE_MINI_HALOS to True but INHOMO_RECO to False! Automatically setting INHOMO_RECO to True.\n",
      "2024-04-15 10:16:27,223 | WARNING | inputs.py::INHOMO_RECO() | You have set USE_MINI_HALOS to True but INHOMO_RECO to False! Automatically setting INHOMO_RECO to True.\n",
      "2024-04-15 10:16:27,224 | WARNING | inputs.py::INHOMO_RECO() | You have set USE_MINI_HALOS to True but INHOMO_RECO to False! Automatically setting INHOMO_RECO to True.\n",
      "2024-04-15 10:16:27,224 | WARNING | inputs.py::INHOMO_RECO() | You have set USE_MINI_HALOS to True but INHOMO_RECO to False! Automatically setting INHOMO_RECO to True.\n",
      "2024-04-15 10:16:27,225 | WARNING | inputs.py::validate_all_inputs() | USE_MINI_HALOS needs USE_RELATIVE_VELOCITIES to get the right evolution!\n",
      "2024-04-15 10:16:27,226 | WARNING | inputs.py::INHOMO_RECO() | You have set USE_MINI_HALOS to True but INHOMO_RECO to False! Automatically setting INHOMO_RECO to True.\n",
      "2024-04-15 10:16:27,228 | WARNING | inputs.py::INHOMO_RECO() | You have set USE_MINI_HALOS to True but INHOMO_RECO to False! Automatically setting INHOMO_RECO to True.\n"
     ]
    },
    {
     "name": "stderr",
     "output_type": "stream",
     "text": [
      "2024-04-15 10:16:32,960 | WARNING | inputs.py::INHOMO_RECO() | You have set USE_MINI_HALOS to True but INHOMO_RECO to False! Automatically setting INHOMO_RECO to True.\n",
      "2024-04-15 10:16:32,990 | WARNING | inputs.py::INHOMO_RECO() | You have set USE_MINI_HALOS to True but INHOMO_RECO to False! Automatically setting INHOMO_RECO to True.\n",
      "2024-04-15 10:16:32,990 | WARNING | inputs.py::INHOMO_RECO() | You have set USE_MINI_HALOS to True but INHOMO_RECO to False! Automatically setting INHOMO_RECO to True.\n",
      "2024-04-15 10:16:32,991 | WARNING | inputs.py::INHOMO_RECO() | You have set USE_MINI_HALOS to True but INHOMO_RECO to False! Automatically setting INHOMO_RECO to True.\n",
      "2024-04-15 10:16:32,991 | WARNING | inputs.py::INHOMO_RECO() | You have set USE_MINI_HALOS to True but INHOMO_RECO to False! Automatically setting INHOMO_RECO to True.\n",
      "2024-04-15 10:16:32,992 | WARNING | inputs.py::INHOMO_RECO() | You have set USE_MINI_HALOS to True but INHOMO_RECO to False! Automatically setting INHOMO_RECO to True.\n",
      "2024-04-15 10:16:32,992 | WARNING | inputs.py::validate_all_inputs() | USE_MINI_HALOS needs USE_RELATIVE_VELOCITIES to get the right evolution!\n",
      "2024-04-15 10:16:32,993 | WARNING | inputs.py::INHOMO_RECO() | You have set USE_MINI_HALOS to True but INHOMO_RECO to False! Automatically setting INHOMO_RECO to True.\n",
      "2024-04-15 10:16:32,994 | WARNING | inputs.py::INHOMO_RECO() | You have set USE_MINI_HALOS to True but INHOMO_RECO to False! Automatically setting INHOMO_RECO to True.\n",
      "2024-04-15 10:16:32,995 | WARNING | inputs.py::INHOMO_RECO() | You have set USE_MINI_HALOS to True but INHOMO_RECO to False! Automatically setting INHOMO_RECO to True.\n",
      "2024-04-15 10:17:02,803 | WARNING | inputs.py::INHOMO_RECO() | You have set USE_MINI_HALOS to True but INHOMO_RECO to False! Automatically setting INHOMO_RECO to True.\n",
      "2024-04-15 10:17:02,990 | WARNING | inputs.py::INHOMO_RECO() | You have set USE_MINI_HALOS to True but INHOMO_RECO to False! Automatically setting INHOMO_RECO to True.\n",
      "2024-04-15 10:17:02,992 | WARNING | inputs.py::INHOMO_RECO() | You have set USE_MINI_HALOS to True but INHOMO_RECO to False! Automatically setting INHOMO_RECO to True.\n",
      "2024-04-15 10:17:02,994 | WARNING | inputs.py::INHOMO_RECO() | You have set USE_MINI_HALOS to True but INHOMO_RECO to False! Automatically setting INHOMO_RECO to True.\n",
      "2024-04-15 10:17:02,995 | WARNING | inputs.py::INHOMO_RECO() | You have set USE_MINI_HALOS to True but INHOMO_RECO to False! Automatically setting INHOMO_RECO to True.\n",
      "2024-04-15 10:17:02,996 | WARNING | inputs.py::INHOMO_RECO() | You have set USE_MINI_HALOS to True but INHOMO_RECO to False! Automatically setting INHOMO_RECO to True.\n",
      "2024-04-15 10:17:02,997 | WARNING | inputs.py::validate_all_inputs() | USE_MINI_HALOS needs USE_RELATIVE_VELOCITIES to get the right evolution!\n",
      "2024-04-15 10:17:02,998 | WARNING | inputs.py::INHOMO_RECO() | You have set USE_MINI_HALOS to True but INHOMO_RECO to False! Automatically setting INHOMO_RECO to True.\n",
      "2024-04-15 10:17:03,000 | WARNING | inputs.py::INHOMO_RECO() | You have set USE_MINI_HALOS to True but INHOMO_RECO to False! Automatically setting INHOMO_RECO to True.\n",
      "2024-04-15 10:17:09,160 | WARNING | inputs.py::INHOMO_RECO() | You have set USE_MINI_HALOS to True but INHOMO_RECO to False! Automatically setting INHOMO_RECO to True.\n",
      "2024-04-15 10:17:09,189 | WARNING | inputs.py::INHOMO_RECO() | You have set USE_MINI_HALOS to True but INHOMO_RECO to False! Automatically setting INHOMO_RECO to True.\n",
      "2024-04-15 10:17:09,189 | WARNING | inputs.py::INHOMO_RECO() | You have set USE_MINI_HALOS to True but INHOMO_RECO to False! Automatically setting INHOMO_RECO to True.\n",
      "2024-04-15 10:17:09,190 | WARNING | inputs.py::INHOMO_RECO() | You have set USE_MINI_HALOS to True but INHOMO_RECO to False! Automatically setting INHOMO_RECO to True.\n",
      "2024-04-15 10:17:09,191 | WARNING | inputs.py::INHOMO_RECO() | You have set USE_MINI_HALOS to True but INHOMO_RECO to False! Automatically setting INHOMO_RECO to True.\n",
      "2024-04-15 10:17:09,192 | WARNING | inputs.py::INHOMO_RECO() | You have set USE_MINI_HALOS to True but INHOMO_RECO to False! Automatically setting INHOMO_RECO to True.\n",
      "2024-04-15 10:17:09,192 | WARNING | inputs.py::validate_all_inputs() | USE_MINI_HALOS needs USE_RELATIVE_VELOCITIES to get the right evolution!\n",
      "2024-04-15 10:17:09,193 | WARNING | inputs.py::INHOMO_RECO() | You have set USE_MINI_HALOS to True but INHOMO_RECO to False! Automatically setting INHOMO_RECO to True.\n",
      "2024-04-15 10:17:09,196 | WARNING | inputs.py::INHOMO_RECO() | You have set USE_MINI_HALOS to True but INHOMO_RECO to False! Automatically setting INHOMO_RECO to True.\n",
      "2024-04-15 10:17:09,196 | WARNING | inputs.py::INHOMO_RECO() | You have set USE_MINI_HALOS to True but INHOMO_RECO to False! Automatically setting INHOMO_RECO to True.\n",
      "2024-04-15 10:17:38,592 | WARNING | inputs.py::INHOMO_RECO() | You have set USE_MINI_HALOS to True but INHOMO_RECO to False! Automatically setting INHOMO_RECO to True.\n",
      "2024-04-15 10:17:38,788 | WARNING | inputs.py::INHOMO_RECO() | You have set USE_MINI_HALOS to True but INHOMO_RECO to False! Automatically setting INHOMO_RECO to True.\n",
      "2024-04-15 10:17:38,789 | WARNING | inputs.py::INHOMO_RECO() | You have set USE_MINI_HALOS to True but INHOMO_RECO to False! Automatically setting INHOMO_RECO to True.\n",
      "2024-04-15 10:17:38,791 | WARNING | inputs.py::INHOMO_RECO() | You have set USE_MINI_HALOS to True but INHOMO_RECO to False! Automatically setting INHOMO_RECO to True.\n",
      "2024-04-15 10:17:38,791 | WARNING | inputs.py::INHOMO_RECO() | You have set USE_MINI_HALOS to True but INHOMO_RECO to False! Automatically setting INHOMO_RECO to True.\n",
      "2024-04-15 10:17:38,792 | WARNING | inputs.py::INHOMO_RECO() | You have set USE_MINI_HALOS to True but INHOMO_RECO to False! Automatically setting INHOMO_RECO to True.\n",
      "2024-04-15 10:17:38,792 | WARNING | inputs.py::validate_all_inputs() | USE_MINI_HALOS needs USE_RELATIVE_VELOCITIES to get the right evolution!\n",
      "2024-04-15 10:17:38,792 | WARNING | inputs.py::INHOMO_RECO() | You have set USE_MINI_HALOS to True but INHOMO_RECO to False! Automatically setting INHOMO_RECO to True.\n",
      "2024-04-15 10:17:38,794 | WARNING | inputs.py::INHOMO_RECO() | You have set USE_MINI_HALOS to True but INHOMO_RECO to False! Automatically setting INHOMO_RECO to True.\n",
      "2024-04-15 10:17:44,686 | WARNING | inputs.py::INHOMO_RECO() | You have set USE_MINI_HALOS to True but INHOMO_RECO to False! Automatically setting INHOMO_RECO to True.\n",
      "2024-04-15 10:17:44,714 | WARNING | inputs.py::INHOMO_RECO() | You have set USE_MINI_HALOS to True but INHOMO_RECO to False! Automatically setting INHOMO_RECO to True.\n",
      "2024-04-15 10:17:44,715 | WARNING | inputs.py::INHOMO_RECO() | You have set USE_MINI_HALOS to True but INHOMO_RECO to False! Automatically setting INHOMO_RECO to True.\n",
      "2024-04-15 10:17:44,716 | WARNING | inputs.py::INHOMO_RECO() | You have set USE_MINI_HALOS to True but INHOMO_RECO to False! Automatically setting INHOMO_RECO to True.\n",
      "2024-04-15 10:17:44,716 | WARNING | inputs.py::INHOMO_RECO() | You have set USE_MINI_HALOS to True but INHOMO_RECO to False! Automatically setting INHOMO_RECO to True.\n",
      "2024-04-15 10:17:44,717 | WARNING | inputs.py::INHOMO_RECO() | You have set USE_MINI_HALOS to True but INHOMO_RECO to False! Automatically setting INHOMO_RECO to True.\n",
      "2024-04-15 10:17:44,718 | WARNING | inputs.py::validate_all_inputs() | USE_MINI_HALOS needs USE_RELATIVE_VELOCITIES to get the right evolution!\n",
      "2024-04-15 10:17:44,719 | WARNING | inputs.py::INHOMO_RECO() | You have set USE_MINI_HALOS to True but INHOMO_RECO to False! Automatically setting INHOMO_RECO to True.\n",
      "2024-04-15 10:17:44,721 | WARNING | inputs.py::INHOMO_RECO() | You have set USE_MINI_HALOS to True but INHOMO_RECO to False! Automatically setting INHOMO_RECO to True.\n",
      "2024-04-15 10:17:44,722 | WARNING | inputs.py::INHOMO_RECO() | You have set USE_MINI_HALOS to True but INHOMO_RECO to False! Automatically setting INHOMO_RECO to True.\n",
      "2024-04-15 10:18:14,095 | WARNING | inputs.py::INHOMO_RECO() | You have set USE_MINI_HALOS to True but INHOMO_RECO to False! Automatically setting INHOMO_RECO to True.\n",
      "2024-04-15 10:18:14,306 | WARNING | inputs.py::INHOMO_RECO() | You have set USE_MINI_HALOS to True but INHOMO_RECO to False! Automatically setting INHOMO_RECO to True.\n"
     ]
    },
    {
     "name": "stderr",
     "output_type": "stream",
     "text": [
      "2024-04-15 10:18:14,307 | WARNING | inputs.py::INHOMO_RECO() | You have set USE_MINI_HALOS to True but INHOMO_RECO to False! Automatically setting INHOMO_RECO to True.\n",
      "2024-04-15 10:18:14,309 | WARNING | inputs.py::INHOMO_RECO() | You have set USE_MINI_HALOS to True but INHOMO_RECO to False! Automatically setting INHOMO_RECO to True.\n",
      "2024-04-15 10:18:14,310 | WARNING | inputs.py::INHOMO_RECO() | You have set USE_MINI_HALOS to True but INHOMO_RECO to False! Automatically setting INHOMO_RECO to True.\n",
      "2024-04-15 10:18:14,310 | WARNING | inputs.py::INHOMO_RECO() | You have set USE_MINI_HALOS to True but INHOMO_RECO to False! Automatically setting INHOMO_RECO to True.\n",
      "2024-04-15 10:18:14,311 | WARNING | inputs.py::validate_all_inputs() | USE_MINI_HALOS needs USE_RELATIVE_VELOCITIES to get the right evolution!\n",
      "2024-04-15 10:18:14,312 | WARNING | inputs.py::INHOMO_RECO() | You have set USE_MINI_HALOS to True but INHOMO_RECO to False! Automatically setting INHOMO_RECO to True.\n",
      "2024-04-15 10:18:14,314 | WARNING | inputs.py::INHOMO_RECO() | You have set USE_MINI_HALOS to True but INHOMO_RECO to False! Automatically setting INHOMO_RECO to True.\n",
      "2024-04-15 10:18:20,464 | WARNING | inputs.py::INHOMO_RECO() | You have set USE_MINI_HALOS to True but INHOMO_RECO to False! Automatically setting INHOMO_RECO to True.\n",
      "2024-04-15 10:18:20,491 | WARNING | inputs.py::INHOMO_RECO() | You have set USE_MINI_HALOS to True but INHOMO_RECO to False! Automatically setting INHOMO_RECO to True.\n",
      "2024-04-15 10:18:20,492 | WARNING | inputs.py::INHOMO_RECO() | You have set USE_MINI_HALOS to True but INHOMO_RECO to False! Automatically setting INHOMO_RECO to True.\n",
      "2024-04-15 10:18:20,493 | WARNING | inputs.py::INHOMO_RECO() | You have set USE_MINI_HALOS to True but INHOMO_RECO to False! Automatically setting INHOMO_RECO to True.\n",
      "2024-04-15 10:18:20,493 | WARNING | inputs.py::INHOMO_RECO() | You have set USE_MINI_HALOS to True but INHOMO_RECO to False! Automatically setting INHOMO_RECO to True.\n",
      "2024-04-15 10:18:20,493 | WARNING | inputs.py::INHOMO_RECO() | You have set USE_MINI_HALOS to True but INHOMO_RECO to False! Automatically setting INHOMO_RECO to True.\n",
      "2024-04-15 10:18:20,494 | WARNING | inputs.py::validate_all_inputs() | USE_MINI_HALOS needs USE_RELATIVE_VELOCITIES to get the right evolution!\n",
      "2024-04-15 10:18:20,495 | WARNING | inputs.py::INHOMO_RECO() | You have set USE_MINI_HALOS to True but INHOMO_RECO to False! Automatically setting INHOMO_RECO to True.\n",
      "2024-04-15 10:18:20,497 | WARNING | inputs.py::INHOMO_RECO() | You have set USE_MINI_HALOS to True but INHOMO_RECO to False! Automatically setting INHOMO_RECO to True.\n",
      "2024-04-15 10:18:20,497 | WARNING | inputs.py::INHOMO_RECO() | You have set USE_MINI_HALOS to True but INHOMO_RECO to False! Automatically setting INHOMO_RECO to True.\n",
      "2024-04-15 10:18:51,419 | WARNING | inputs.py::INHOMO_RECO() | You have set USE_MINI_HALOS to True but INHOMO_RECO to False! Automatically setting INHOMO_RECO to True.\n",
      "2024-04-15 10:18:51,624 | WARNING | inputs.py::INHOMO_RECO() | You have set USE_MINI_HALOS to True but INHOMO_RECO to False! Automatically setting INHOMO_RECO to True.\n",
      "2024-04-15 10:18:51,625 | WARNING | inputs.py::INHOMO_RECO() | You have set USE_MINI_HALOS to True but INHOMO_RECO to False! Automatically setting INHOMO_RECO to True.\n",
      "2024-04-15 10:18:51,627 | WARNING | inputs.py::INHOMO_RECO() | You have set USE_MINI_HALOS to True but INHOMO_RECO to False! Automatically setting INHOMO_RECO to True.\n",
      "2024-04-15 10:18:51,628 | WARNING | inputs.py::INHOMO_RECO() | You have set USE_MINI_HALOS to True but INHOMO_RECO to False! Automatically setting INHOMO_RECO to True.\n",
      "2024-04-15 10:18:51,628 | WARNING | inputs.py::INHOMO_RECO() | You have set USE_MINI_HALOS to True but INHOMO_RECO to False! Automatically setting INHOMO_RECO to True.\n",
      "2024-04-15 10:18:51,628 | WARNING | inputs.py::validate_all_inputs() | USE_MINI_HALOS needs USE_RELATIVE_VELOCITIES to get the right evolution!\n",
      "2024-04-15 10:18:51,629 | WARNING | inputs.py::INHOMO_RECO() | You have set USE_MINI_HALOS to True but INHOMO_RECO to False! Automatically setting INHOMO_RECO to True.\n",
      "2024-04-15 10:18:51,631 | WARNING | inputs.py::INHOMO_RECO() | You have set USE_MINI_HALOS to True but INHOMO_RECO to False! Automatically setting INHOMO_RECO to True.\n",
      "2024-04-15 10:18:57,374 | WARNING | inputs.py::INHOMO_RECO() | You have set USE_MINI_HALOS to True but INHOMO_RECO to False! Automatically setting INHOMO_RECO to True.\n",
      "2024-04-15 10:18:57,399 | WARNING | inputs.py::INHOMO_RECO() | You have set USE_MINI_HALOS to True but INHOMO_RECO to False! Automatically setting INHOMO_RECO to True.\n",
      "2024-04-15 10:18:57,400 | WARNING | inputs.py::INHOMO_RECO() | You have set USE_MINI_HALOS to True but INHOMO_RECO to False! Automatically setting INHOMO_RECO to True.\n",
      "2024-04-15 10:18:57,400 | WARNING | inputs.py::INHOMO_RECO() | You have set USE_MINI_HALOS to True but INHOMO_RECO to False! Automatically setting INHOMO_RECO to True.\n",
      "2024-04-15 10:18:57,401 | WARNING | inputs.py::INHOMO_RECO() | You have set USE_MINI_HALOS to True but INHOMO_RECO to False! Automatically setting INHOMO_RECO to True.\n",
      "2024-04-15 10:18:57,402 | WARNING | inputs.py::INHOMO_RECO() | You have set USE_MINI_HALOS to True but INHOMO_RECO to False! Automatically setting INHOMO_RECO to True.\n",
      "2024-04-15 10:18:57,402 | WARNING | inputs.py::validate_all_inputs() | USE_MINI_HALOS needs USE_RELATIVE_VELOCITIES to get the right evolution!\n",
      "2024-04-15 10:18:57,403 | WARNING | inputs.py::INHOMO_RECO() | You have set USE_MINI_HALOS to True but INHOMO_RECO to False! Automatically setting INHOMO_RECO to True.\n",
      "2024-04-15 10:18:57,405 | WARNING | inputs.py::INHOMO_RECO() | You have set USE_MINI_HALOS to True but INHOMO_RECO to False! Automatically setting INHOMO_RECO to True.\n",
      "2024-04-15 10:18:57,406 | WARNING | inputs.py::INHOMO_RECO() | You have set USE_MINI_HALOS to True but INHOMO_RECO to False! Automatically setting INHOMO_RECO to True.\n",
      "2024-04-15 10:19:26,902 | WARNING | inputs.py::INHOMO_RECO() | You have set USE_MINI_HALOS to True but INHOMO_RECO to False! Automatically setting INHOMO_RECO to True.\n",
      "2024-04-15 10:19:27,100 | WARNING | inputs.py::INHOMO_RECO() | You have set USE_MINI_HALOS to True but INHOMO_RECO to False! Automatically setting INHOMO_RECO to True.\n",
      "2024-04-15 10:19:27,101 | WARNING | inputs.py::INHOMO_RECO() | You have set USE_MINI_HALOS to True but INHOMO_RECO to False! Automatically setting INHOMO_RECO to True.\n",
      "2024-04-15 10:19:27,103 | WARNING | inputs.py::INHOMO_RECO() | You have set USE_MINI_HALOS to True but INHOMO_RECO to False! Automatically setting INHOMO_RECO to True.\n",
      "2024-04-15 10:19:27,104 | WARNING | inputs.py::INHOMO_RECO() | You have set USE_MINI_HALOS to True but INHOMO_RECO to False! Automatically setting INHOMO_RECO to True.\n",
      "2024-04-15 10:19:27,104 | WARNING | inputs.py::INHOMO_RECO() | You have set USE_MINI_HALOS to True but INHOMO_RECO to False! Automatically setting INHOMO_RECO to True.\n",
      "2024-04-15 10:19:27,105 | WARNING | inputs.py::validate_all_inputs() | USE_MINI_HALOS needs USE_RELATIVE_VELOCITIES to get the right evolution!\n",
      "2024-04-15 10:19:27,105 | WARNING | inputs.py::INHOMO_RECO() | You have set USE_MINI_HALOS to True but INHOMO_RECO to False! Automatically setting INHOMO_RECO to True.\n",
      "2024-04-15 10:19:27,107 | WARNING | inputs.py::INHOMO_RECO() | You have set USE_MINI_HALOS to True but INHOMO_RECO to False! Automatically setting INHOMO_RECO to True.\n",
      "2024-04-15 10:19:32,861 | WARNING | inputs.py::INHOMO_RECO() | You have set USE_MINI_HALOS to True but INHOMO_RECO to False! Automatically setting INHOMO_RECO to True.\n",
      "2024-04-15 10:19:32,884 | WARNING | inputs.py::INHOMO_RECO() | You have set USE_MINI_HALOS to True but INHOMO_RECO to False! Automatically setting INHOMO_RECO to True.\n",
      "2024-04-15 10:19:32,884 | WARNING | inputs.py::INHOMO_RECO() | You have set USE_MINI_HALOS to True but INHOMO_RECO to False! Automatically setting INHOMO_RECO to True.\n",
      "2024-04-15 10:19:32,885 | WARNING | inputs.py::INHOMO_RECO() | You have set USE_MINI_HALOS to True but INHOMO_RECO to False! Automatically setting INHOMO_RECO to True.\n",
      "2024-04-15 10:19:32,885 | WARNING | inputs.py::INHOMO_RECO() | You have set USE_MINI_HALOS to True but INHOMO_RECO to False! Automatically setting INHOMO_RECO to True.\n"
     ]
    },
    {
     "name": "stderr",
     "output_type": "stream",
     "text": [
      "2024-04-15 10:19:32,886 | WARNING | inputs.py::INHOMO_RECO() | You have set USE_MINI_HALOS to True but INHOMO_RECO to False! Automatically setting INHOMO_RECO to True.\n",
      "2024-04-15 10:19:32,886 | WARNING | inputs.py::validate_all_inputs() | USE_MINI_HALOS needs USE_RELATIVE_VELOCITIES to get the right evolution!\n",
      "2024-04-15 10:19:32,887 | WARNING | inputs.py::INHOMO_RECO() | You have set USE_MINI_HALOS to True but INHOMO_RECO to False! Automatically setting INHOMO_RECO to True.\n",
      "2024-04-15 10:19:32,889 | WARNING | inputs.py::INHOMO_RECO() | You have set USE_MINI_HALOS to True but INHOMO_RECO to False! Automatically setting INHOMO_RECO to True.\n",
      "2024-04-15 10:19:32,890 | WARNING | inputs.py::INHOMO_RECO() | You have set USE_MINI_HALOS to True but INHOMO_RECO to False! Automatically setting INHOMO_RECO to True.\n",
      "2024-04-15 10:20:02,591 | WARNING | inputs.py::INHOMO_RECO() | You have set USE_MINI_HALOS to True but INHOMO_RECO to False! Automatically setting INHOMO_RECO to True.\n",
      "2024-04-15 10:20:02,804 | WARNING | inputs.py::INHOMO_RECO() | You have set USE_MINI_HALOS to True but INHOMO_RECO to False! Automatically setting INHOMO_RECO to True.\n",
      "2024-04-15 10:20:02,805 | WARNING | inputs.py::INHOMO_RECO() | You have set USE_MINI_HALOS to True but INHOMO_RECO to False! Automatically setting INHOMO_RECO to True.\n",
      "2024-04-15 10:20:02,807 | WARNING | inputs.py::INHOMO_RECO() | You have set USE_MINI_HALOS to True but INHOMO_RECO to False! Automatically setting INHOMO_RECO to True.\n",
      "2024-04-15 10:20:02,807 | WARNING | inputs.py::INHOMO_RECO() | You have set USE_MINI_HALOS to True but INHOMO_RECO to False! Automatically setting INHOMO_RECO to True.\n",
      "2024-04-15 10:20:02,808 | WARNING | inputs.py::INHOMO_RECO() | You have set USE_MINI_HALOS to True but INHOMO_RECO to False! Automatically setting INHOMO_RECO to True.\n",
      "2024-04-15 10:20:02,808 | WARNING | inputs.py::validate_all_inputs() | USE_MINI_HALOS needs USE_RELATIVE_VELOCITIES to get the right evolution!\n",
      "2024-04-15 10:20:02,809 | WARNING | inputs.py::INHOMO_RECO() | You have set USE_MINI_HALOS to True but INHOMO_RECO to False! Automatically setting INHOMO_RECO to True.\n",
      "2024-04-15 10:20:02,811 | WARNING | inputs.py::INHOMO_RECO() | You have set USE_MINI_HALOS to True but INHOMO_RECO to False! Automatically setting INHOMO_RECO to True.\n",
      "2024-04-15 10:20:08,536 | WARNING | inputs.py::INHOMO_RECO() | You have set USE_MINI_HALOS to True but INHOMO_RECO to False! Automatically setting INHOMO_RECO to True.\n",
      "2024-04-15 10:20:08,563 | WARNING | inputs.py::INHOMO_RECO() | You have set USE_MINI_HALOS to True but INHOMO_RECO to False! Automatically setting INHOMO_RECO to True.\n",
      "2024-04-15 10:20:08,564 | WARNING | inputs.py::INHOMO_RECO() | You have set USE_MINI_HALOS to True but INHOMO_RECO to False! Automatically setting INHOMO_RECO to True.\n",
      "2024-04-15 10:20:08,565 | WARNING | inputs.py::INHOMO_RECO() | You have set USE_MINI_HALOS to True but INHOMO_RECO to False! Automatically setting INHOMO_RECO to True.\n",
      "2024-04-15 10:20:08,565 | WARNING | inputs.py::INHOMO_RECO() | You have set USE_MINI_HALOS to True but INHOMO_RECO to False! Automatically setting INHOMO_RECO to True.\n",
      "2024-04-15 10:20:08,566 | WARNING | inputs.py::INHOMO_RECO() | You have set USE_MINI_HALOS to True but INHOMO_RECO to False! Automatically setting INHOMO_RECO to True.\n",
      "2024-04-15 10:20:08,566 | WARNING | inputs.py::validate_all_inputs() | USE_MINI_HALOS needs USE_RELATIVE_VELOCITIES to get the right evolution!\n",
      "2024-04-15 10:20:08,567 | WARNING | inputs.py::INHOMO_RECO() | You have set USE_MINI_HALOS to True but INHOMO_RECO to False! Automatically setting INHOMO_RECO to True.\n",
      "2024-04-15 10:20:08,569 | WARNING | inputs.py::INHOMO_RECO() | You have set USE_MINI_HALOS to True but INHOMO_RECO to False! Automatically setting INHOMO_RECO to True.\n",
      "2024-04-15 10:20:08,570 | WARNING | inputs.py::INHOMO_RECO() | You have set USE_MINI_HALOS to True but INHOMO_RECO to False! Automatically setting INHOMO_RECO to True.\n",
      "2024-04-15 10:20:38,583 | WARNING | inputs.py::INHOMO_RECO() | You have set USE_MINI_HALOS to True but INHOMO_RECO to False! Automatically setting INHOMO_RECO to True.\n",
      "2024-04-15 10:20:38,762 | WARNING | inputs.py::INHOMO_RECO() | You have set USE_MINI_HALOS to True but INHOMO_RECO to False! Automatically setting INHOMO_RECO to True.\n",
      "2024-04-15 10:20:38,763 | WARNING | inputs.py::INHOMO_RECO() | You have set USE_MINI_HALOS to True but INHOMO_RECO to False! Automatically setting INHOMO_RECO to True.\n",
      "2024-04-15 10:20:38,765 | WARNING | inputs.py::INHOMO_RECO() | You have set USE_MINI_HALOS to True but INHOMO_RECO to False! Automatically setting INHOMO_RECO to True.\n",
      "2024-04-15 10:20:38,766 | WARNING | inputs.py::INHOMO_RECO() | You have set USE_MINI_HALOS to True but INHOMO_RECO to False! Automatically setting INHOMO_RECO to True.\n",
      "2024-04-15 10:20:38,766 | WARNING | inputs.py::INHOMO_RECO() | You have set USE_MINI_HALOS to True but INHOMO_RECO to False! Automatically setting INHOMO_RECO to True.\n",
      "2024-04-15 10:20:38,767 | WARNING | inputs.py::validate_all_inputs() | USE_MINI_HALOS needs USE_RELATIVE_VELOCITIES to get the right evolution!\n",
      "2024-04-15 10:20:38,768 | WARNING | inputs.py::INHOMO_RECO() | You have set USE_MINI_HALOS to True but INHOMO_RECO to False! Automatically setting INHOMO_RECO to True.\n",
      "2024-04-15 10:20:38,770 | WARNING | inputs.py::INHOMO_RECO() | You have set USE_MINI_HALOS to True but INHOMO_RECO to False! Automatically setting INHOMO_RECO to True.\n",
      "2024-04-15 10:20:44,454 | WARNING | inputs.py::INHOMO_RECO() | You have set USE_MINI_HALOS to True but INHOMO_RECO to False! Automatically setting INHOMO_RECO to True.\n",
      "2024-04-15 10:20:44,481 | WARNING | inputs.py::INHOMO_RECO() | You have set USE_MINI_HALOS to True but INHOMO_RECO to False! Automatically setting INHOMO_RECO to True.\n",
      "2024-04-15 10:20:44,482 | WARNING | inputs.py::INHOMO_RECO() | You have set USE_MINI_HALOS to True but INHOMO_RECO to False! Automatically setting INHOMO_RECO to True.\n",
      "2024-04-15 10:20:44,483 | WARNING | inputs.py::INHOMO_RECO() | You have set USE_MINI_HALOS to True but INHOMO_RECO to False! Automatically setting INHOMO_RECO to True.\n",
      "2024-04-15 10:20:44,483 | WARNING | inputs.py::INHOMO_RECO() | You have set USE_MINI_HALOS to True but INHOMO_RECO to False! Automatically setting INHOMO_RECO to True.\n",
      "2024-04-15 10:20:44,484 | WARNING | inputs.py::INHOMO_RECO() | You have set USE_MINI_HALOS to True but INHOMO_RECO to False! Automatically setting INHOMO_RECO to True.\n",
      "2024-04-15 10:20:44,485 | WARNING | inputs.py::validate_all_inputs() | USE_MINI_HALOS needs USE_RELATIVE_VELOCITIES to get the right evolution!\n",
      "2024-04-15 10:20:44,486 | WARNING | inputs.py::INHOMO_RECO() | You have set USE_MINI_HALOS to True but INHOMO_RECO to False! Automatically setting INHOMO_RECO to True.\n",
      "2024-04-15 10:20:44,489 | WARNING | inputs.py::INHOMO_RECO() | You have set USE_MINI_HALOS to True but INHOMO_RECO to False! Automatically setting INHOMO_RECO to True.\n",
      "2024-04-15 10:20:44,489 | WARNING | inputs.py::INHOMO_RECO() | You have set USE_MINI_HALOS to True but INHOMO_RECO to False! Automatically setting INHOMO_RECO to True.\n",
      "2024-04-15 10:21:15,373 | WARNING | inputs.py::INHOMO_RECO() | You have set USE_MINI_HALOS to True but INHOMO_RECO to False! Automatically setting INHOMO_RECO to True.\n",
      "2024-04-15 10:21:15,574 | WARNING | inputs.py::INHOMO_RECO() | You have set USE_MINI_HALOS to True but INHOMO_RECO to False! Automatically setting INHOMO_RECO to True.\n",
      "2024-04-15 10:21:15,576 | WARNING | inputs.py::INHOMO_RECO() | You have set USE_MINI_HALOS to True but INHOMO_RECO to False! Automatically setting INHOMO_RECO to True.\n",
      "2024-04-15 10:21:15,577 | WARNING | inputs.py::INHOMO_RECO() | You have set USE_MINI_HALOS to True but INHOMO_RECO to False! Automatically setting INHOMO_RECO to True.\n",
      "2024-04-15 10:21:15,578 | WARNING | inputs.py::INHOMO_RECO() | You have set USE_MINI_HALOS to True but INHOMO_RECO to False! Automatically setting INHOMO_RECO to True.\n",
      "2024-04-15 10:21:15,578 | WARNING | inputs.py::INHOMO_RECO() | You have set USE_MINI_HALOS to True but INHOMO_RECO to False! Automatically setting INHOMO_RECO to True.\n",
      "2024-04-15 10:21:15,579 | WARNING | inputs.py::validate_all_inputs() | USE_MINI_HALOS needs USE_RELATIVE_VELOCITIES to get the right evolution!\n"
     ]
    },
    {
     "name": "stderr",
     "output_type": "stream",
     "text": [
      "2024-04-15 10:21:15,579 | WARNING | inputs.py::INHOMO_RECO() | You have set USE_MINI_HALOS to True but INHOMO_RECO to False! Automatically setting INHOMO_RECO to True.\n",
      "2024-04-15 10:21:15,581 | WARNING | inputs.py::INHOMO_RECO() | You have set USE_MINI_HALOS to True but INHOMO_RECO to False! Automatically setting INHOMO_RECO to True.\n",
      "2024-04-15 10:21:21,364 | WARNING | inputs.py::INHOMO_RECO() | You have set USE_MINI_HALOS to True but INHOMO_RECO to False! Automatically setting INHOMO_RECO to True.\n",
      "2024-04-15 10:21:21,387 | WARNING | inputs.py::INHOMO_RECO() | You have set USE_MINI_HALOS to True but INHOMO_RECO to False! Automatically setting INHOMO_RECO to True.\n",
      "2024-04-15 10:21:21,388 | WARNING | inputs.py::INHOMO_RECO() | You have set USE_MINI_HALOS to True but INHOMO_RECO to False! Automatically setting INHOMO_RECO to True.\n",
      "2024-04-15 10:21:21,389 | WARNING | inputs.py::INHOMO_RECO() | You have set USE_MINI_HALOS to True but INHOMO_RECO to False! Automatically setting INHOMO_RECO to True.\n",
      "2024-04-15 10:21:21,389 | WARNING | inputs.py::INHOMO_RECO() | You have set USE_MINI_HALOS to True but INHOMO_RECO to False! Automatically setting INHOMO_RECO to True.\n",
      "2024-04-15 10:21:21,390 | WARNING | inputs.py::INHOMO_RECO() | You have set USE_MINI_HALOS to True but INHOMO_RECO to False! Automatically setting INHOMO_RECO to True.\n",
      "2024-04-15 10:21:21,391 | WARNING | inputs.py::validate_all_inputs() | USE_MINI_HALOS needs USE_RELATIVE_VELOCITIES to get the right evolution!\n",
      "2024-04-15 10:21:21,391 | WARNING | inputs.py::INHOMO_RECO() | You have set USE_MINI_HALOS to True but INHOMO_RECO to False! Automatically setting INHOMO_RECO to True.\n",
      "2024-04-15 10:21:21,394 | WARNING | inputs.py::INHOMO_RECO() | You have set USE_MINI_HALOS to True but INHOMO_RECO to False! Automatically setting INHOMO_RECO to True.\n",
      "2024-04-15 10:21:21,394 | WARNING | inputs.py::INHOMO_RECO() | You have set USE_MINI_HALOS to True but INHOMO_RECO to False! Automatically setting INHOMO_RECO to True.\n",
      "2024-04-15 10:21:52,203 | WARNING | inputs.py::INHOMO_RECO() | You have set USE_MINI_HALOS to True but INHOMO_RECO to False! Automatically setting INHOMO_RECO to True.\n",
      "2024-04-15 10:21:52,409 | WARNING | inputs.py::INHOMO_RECO() | You have set USE_MINI_HALOS to True but INHOMO_RECO to False! Automatically setting INHOMO_RECO to True.\n",
      "2024-04-15 10:21:52,412 | WARNING | inputs.py::INHOMO_RECO() | You have set USE_MINI_HALOS to True but INHOMO_RECO to False! Automatically setting INHOMO_RECO to True.\n",
      "2024-04-15 10:21:52,414 | WARNING | inputs.py::INHOMO_RECO() | You have set USE_MINI_HALOS to True but INHOMO_RECO to False! Automatically setting INHOMO_RECO to True.\n",
      "2024-04-15 10:21:52,415 | WARNING | inputs.py::INHOMO_RECO() | You have set USE_MINI_HALOS to True but INHOMO_RECO to False! Automatically setting INHOMO_RECO to True.\n",
      "2024-04-15 10:21:52,416 | WARNING | inputs.py::INHOMO_RECO() | You have set USE_MINI_HALOS to True but INHOMO_RECO to False! Automatically setting INHOMO_RECO to True.\n",
      "2024-04-15 10:21:52,416 | WARNING | inputs.py::validate_all_inputs() | USE_MINI_HALOS needs USE_RELATIVE_VELOCITIES to get the right evolution!\n",
      "2024-04-15 10:21:52,417 | WARNING | inputs.py::INHOMO_RECO() | You have set USE_MINI_HALOS to True but INHOMO_RECO to False! Automatically setting INHOMO_RECO to True.\n",
      "2024-04-15 10:21:52,419 | WARNING | inputs.py::INHOMO_RECO() | You have set USE_MINI_HALOS to True but INHOMO_RECO to False! Automatically setting INHOMO_RECO to True.\n",
      "2024-04-15 10:21:58,188 | WARNING | inputs.py::INHOMO_RECO() | You have set USE_MINI_HALOS to True but INHOMO_RECO to False! Automatically setting INHOMO_RECO to True.\n",
      "2024-04-15 10:21:58,214 | WARNING | inputs.py::INHOMO_RECO() | You have set USE_MINI_HALOS to True but INHOMO_RECO to False! Automatically setting INHOMO_RECO to True.\n",
      "2024-04-15 10:21:58,215 | WARNING | inputs.py::INHOMO_RECO() | You have set USE_MINI_HALOS to True but INHOMO_RECO to False! Automatically setting INHOMO_RECO to True.\n",
      "2024-04-15 10:21:58,216 | WARNING | inputs.py::INHOMO_RECO() | You have set USE_MINI_HALOS to True but INHOMO_RECO to False! Automatically setting INHOMO_RECO to True.\n",
      "2024-04-15 10:21:58,216 | WARNING | inputs.py::INHOMO_RECO() | You have set USE_MINI_HALOS to True but INHOMO_RECO to False! Automatically setting INHOMO_RECO to True.\n",
      "2024-04-15 10:21:58,217 | WARNING | inputs.py::INHOMO_RECO() | You have set USE_MINI_HALOS to True but INHOMO_RECO to False! Automatically setting INHOMO_RECO to True.\n",
      "2024-04-15 10:21:58,218 | WARNING | inputs.py::validate_all_inputs() | USE_MINI_HALOS needs USE_RELATIVE_VELOCITIES to get the right evolution!\n",
      "2024-04-15 10:21:58,219 | WARNING | inputs.py::INHOMO_RECO() | You have set USE_MINI_HALOS to True but INHOMO_RECO to False! Automatically setting INHOMO_RECO to True.\n",
      "2024-04-15 10:21:58,221 | WARNING | inputs.py::INHOMO_RECO() | You have set USE_MINI_HALOS to True but INHOMO_RECO to False! Automatically setting INHOMO_RECO to True.\n",
      "2024-04-15 10:21:58,222 | WARNING | inputs.py::INHOMO_RECO() | You have set USE_MINI_HALOS to True but INHOMO_RECO to False! Automatically setting INHOMO_RECO to True.\n",
      "2024-04-15 10:22:28,877 | WARNING | inputs.py::INHOMO_RECO() | You have set USE_MINI_HALOS to True but INHOMO_RECO to False! Automatically setting INHOMO_RECO to True.\n",
      "2024-04-15 10:22:29,063 | WARNING | inputs.py::INHOMO_RECO() | You have set USE_MINI_HALOS to True but INHOMO_RECO to False! Automatically setting INHOMO_RECO to True.\n",
      "2024-04-15 10:22:29,064 | WARNING | inputs.py::INHOMO_RECO() | You have set USE_MINI_HALOS to True but INHOMO_RECO to False! Automatically setting INHOMO_RECO to True.\n",
      "2024-04-15 10:22:29,066 | WARNING | inputs.py::INHOMO_RECO() | You have set USE_MINI_HALOS to True but INHOMO_RECO to False! Automatically setting INHOMO_RECO to True.\n",
      "2024-04-15 10:22:29,067 | WARNING | inputs.py::INHOMO_RECO() | You have set USE_MINI_HALOS to True but INHOMO_RECO to False! Automatically setting INHOMO_RECO to True.\n",
      "2024-04-15 10:22:29,068 | WARNING | inputs.py::INHOMO_RECO() | You have set USE_MINI_HALOS to True but INHOMO_RECO to False! Automatically setting INHOMO_RECO to True.\n",
      "2024-04-15 10:22:29,068 | WARNING | inputs.py::validate_all_inputs() | USE_MINI_HALOS needs USE_RELATIVE_VELOCITIES to get the right evolution!\n",
      "2024-04-15 10:22:29,069 | WARNING | inputs.py::INHOMO_RECO() | You have set USE_MINI_HALOS to True but INHOMO_RECO to False! Automatically setting INHOMO_RECO to True.\n",
      "2024-04-15 10:22:29,071 | WARNING | inputs.py::INHOMO_RECO() | You have set USE_MINI_HALOS to True but INHOMO_RECO to False! Automatically setting INHOMO_RECO to True.\n",
      "2024-04-15 10:22:34,713 | WARNING | inputs.py::INHOMO_RECO() | You have set USE_MINI_HALOS to True but INHOMO_RECO to False! Automatically setting INHOMO_RECO to True.\n",
      "2024-04-15 10:22:34,740 | WARNING | inputs.py::INHOMO_RECO() | You have set USE_MINI_HALOS to True but INHOMO_RECO to False! Automatically setting INHOMO_RECO to True.\n",
      "2024-04-15 10:22:34,741 | WARNING | inputs.py::INHOMO_RECO() | You have set USE_MINI_HALOS to True but INHOMO_RECO to False! Automatically setting INHOMO_RECO to True.\n",
      "2024-04-15 10:22:34,742 | WARNING | inputs.py::INHOMO_RECO() | You have set USE_MINI_HALOS to True but INHOMO_RECO to False! Automatically setting INHOMO_RECO to True.\n",
      "2024-04-15 10:22:34,742 | WARNING | inputs.py::INHOMO_RECO() | You have set USE_MINI_HALOS to True but INHOMO_RECO to False! Automatically setting INHOMO_RECO to True.\n",
      "2024-04-15 10:22:34,743 | WARNING | inputs.py::INHOMO_RECO() | You have set USE_MINI_HALOS to True but INHOMO_RECO to False! Automatically setting INHOMO_RECO to True.\n",
      "2024-04-15 10:22:34,744 | WARNING | inputs.py::validate_all_inputs() | USE_MINI_HALOS needs USE_RELATIVE_VELOCITIES to get the right evolution!\n",
      "2024-04-15 10:22:34,744 | WARNING | inputs.py::INHOMO_RECO() | You have set USE_MINI_HALOS to True but INHOMO_RECO to False! Automatically setting INHOMO_RECO to True.\n",
      "2024-04-15 10:22:34,747 | WARNING | inputs.py::INHOMO_RECO() | You have set USE_MINI_HALOS to True but INHOMO_RECO to False! Automatically setting INHOMO_RECO to True.\n",
      "2024-04-15 10:22:34,747 | WARNING | inputs.py::INHOMO_RECO() | You have set USE_MINI_HALOS to True but INHOMO_RECO to False! Automatically setting INHOMO_RECO to True.\n"
     ]
    },
    {
     "name": "stderr",
     "output_type": "stream",
     "text": [
      "2024-04-15 10:23:05,722 | WARNING | inputs.py::INHOMO_RECO() | You have set USE_MINI_HALOS to True but INHOMO_RECO to False! Automatically setting INHOMO_RECO to True.\n",
      "2024-04-15 10:23:05,916 | WARNING | inputs.py::INHOMO_RECO() | You have set USE_MINI_HALOS to True but INHOMO_RECO to False! Automatically setting INHOMO_RECO to True.\n",
      "2024-04-15 10:23:05,917 | WARNING | inputs.py::INHOMO_RECO() | You have set USE_MINI_HALOS to True but INHOMO_RECO to False! Automatically setting INHOMO_RECO to True.\n",
      "2024-04-15 10:23:05,919 | WARNING | inputs.py::INHOMO_RECO() | You have set USE_MINI_HALOS to True but INHOMO_RECO to False! Automatically setting INHOMO_RECO to True.\n",
      "2024-04-15 10:23:05,919 | WARNING | inputs.py::INHOMO_RECO() | You have set USE_MINI_HALOS to True but INHOMO_RECO to False! Automatically setting INHOMO_RECO to True.\n",
      "2024-04-15 10:23:05,920 | WARNING | inputs.py::INHOMO_RECO() | You have set USE_MINI_HALOS to True but INHOMO_RECO to False! Automatically setting INHOMO_RECO to True.\n",
      "2024-04-15 10:23:05,920 | WARNING | inputs.py::validate_all_inputs() | USE_MINI_HALOS needs USE_RELATIVE_VELOCITIES to get the right evolution!\n",
      "2024-04-15 10:23:05,921 | WARNING | inputs.py::INHOMO_RECO() | You have set USE_MINI_HALOS to True but INHOMO_RECO to False! Automatically setting INHOMO_RECO to True.\n",
      "2024-04-15 10:23:05,922 | WARNING | inputs.py::INHOMO_RECO() | You have set USE_MINI_HALOS to True but INHOMO_RECO to False! Automatically setting INHOMO_RECO to True.\n",
      "2024-04-15 10:23:11,575 | WARNING | inputs.py::INHOMO_RECO() | You have set USE_MINI_HALOS to True but INHOMO_RECO to False! Automatically setting INHOMO_RECO to True.\n",
      "2024-04-15 10:23:11,602 | WARNING | inputs.py::INHOMO_RECO() | You have set USE_MINI_HALOS to True but INHOMO_RECO to False! Automatically setting INHOMO_RECO to True.\n",
      "2024-04-15 10:23:11,602 | WARNING | inputs.py::INHOMO_RECO() | You have set USE_MINI_HALOS to True but INHOMO_RECO to False! Automatically setting INHOMO_RECO to True.\n",
      "2024-04-15 10:23:11,603 | WARNING | inputs.py::INHOMO_RECO() | You have set USE_MINI_HALOS to True but INHOMO_RECO to False! Automatically setting INHOMO_RECO to True.\n",
      "2024-04-15 10:23:11,604 | WARNING | inputs.py::INHOMO_RECO() | You have set USE_MINI_HALOS to True but INHOMO_RECO to False! Automatically setting INHOMO_RECO to True.\n",
      "2024-04-15 10:23:11,604 | WARNING | inputs.py::INHOMO_RECO() | You have set USE_MINI_HALOS to True but INHOMO_RECO to False! Automatically setting INHOMO_RECO to True.\n",
      "2024-04-15 10:23:11,605 | WARNING | inputs.py::validate_all_inputs() | USE_MINI_HALOS needs USE_RELATIVE_VELOCITIES to get the right evolution!\n",
      "2024-04-15 10:23:11,606 | WARNING | inputs.py::INHOMO_RECO() | You have set USE_MINI_HALOS to True but INHOMO_RECO to False! Automatically setting INHOMO_RECO to True.\n",
      "2024-04-15 10:23:11,608 | WARNING | inputs.py::INHOMO_RECO() | You have set USE_MINI_HALOS to True but INHOMO_RECO to False! Automatically setting INHOMO_RECO to True.\n",
      "2024-04-15 10:23:11,609 | WARNING | inputs.py::INHOMO_RECO() | You have set USE_MINI_HALOS to True but INHOMO_RECO to False! Automatically setting INHOMO_RECO to True.\n",
      "2024-04-15 10:23:42,992 | WARNING | inputs.py::INHOMO_RECO() | You have set USE_MINI_HALOS to True but INHOMO_RECO to False! Automatically setting INHOMO_RECO to True.\n",
      "2024-04-15 10:23:43,192 | WARNING | inputs.py::INHOMO_RECO() | You have set USE_MINI_HALOS to True but INHOMO_RECO to False! Automatically setting INHOMO_RECO to True.\n",
      "2024-04-15 10:23:43,194 | WARNING | inputs.py::INHOMO_RECO() | You have set USE_MINI_HALOS to True but INHOMO_RECO to False! Automatically setting INHOMO_RECO to True.\n",
      "2024-04-15 10:23:43,196 | WARNING | inputs.py::INHOMO_RECO() | You have set USE_MINI_HALOS to True but INHOMO_RECO to False! Automatically setting INHOMO_RECO to True.\n",
      "2024-04-15 10:23:43,196 | WARNING | inputs.py::INHOMO_RECO() | You have set USE_MINI_HALOS to True but INHOMO_RECO to False! Automatically setting INHOMO_RECO to True.\n",
      "2024-04-15 10:23:43,197 | WARNING | inputs.py::INHOMO_RECO() | You have set USE_MINI_HALOS to True but INHOMO_RECO to False! Automatically setting INHOMO_RECO to True.\n",
      "2024-04-15 10:23:43,198 | WARNING | inputs.py::validate_all_inputs() | USE_MINI_HALOS needs USE_RELATIVE_VELOCITIES to get the right evolution!\n",
      "2024-04-15 10:23:43,198 | WARNING | inputs.py::INHOMO_RECO() | You have set USE_MINI_HALOS to True but INHOMO_RECO to False! Automatically setting INHOMO_RECO to True.\n",
      "2024-04-15 10:23:43,201 | WARNING | inputs.py::INHOMO_RECO() | You have set USE_MINI_HALOS to True but INHOMO_RECO to False! Automatically setting INHOMO_RECO to True.\n",
      "2024-04-15 10:23:48,867 | WARNING | inputs.py::INHOMO_RECO() | You have set USE_MINI_HALOS to True but INHOMO_RECO to False! Automatically setting INHOMO_RECO to True.\n",
      "2024-04-15 10:23:48,894 | WARNING | inputs.py::INHOMO_RECO() | You have set USE_MINI_HALOS to True but INHOMO_RECO to False! Automatically setting INHOMO_RECO to True.\n",
      "2024-04-15 10:23:48,895 | WARNING | inputs.py::INHOMO_RECO() | You have set USE_MINI_HALOS to True but INHOMO_RECO to False! Automatically setting INHOMO_RECO to True.\n",
      "2024-04-15 10:23:48,896 | WARNING | inputs.py::INHOMO_RECO() | You have set USE_MINI_HALOS to True but INHOMO_RECO to False! Automatically setting INHOMO_RECO to True.\n",
      "2024-04-15 10:23:48,897 | WARNING | inputs.py::INHOMO_RECO() | You have set USE_MINI_HALOS to True but INHOMO_RECO to False! Automatically setting INHOMO_RECO to True.\n",
      "2024-04-15 10:23:48,897 | WARNING | inputs.py::INHOMO_RECO() | You have set USE_MINI_HALOS to True but INHOMO_RECO to False! Automatically setting INHOMO_RECO to True.\n",
      "2024-04-15 10:23:48,898 | WARNING | inputs.py::validate_all_inputs() | USE_MINI_HALOS needs USE_RELATIVE_VELOCITIES to get the right evolution!\n",
      "2024-04-15 10:23:48,899 | WARNING | inputs.py::INHOMO_RECO() | You have set USE_MINI_HALOS to True but INHOMO_RECO to False! Automatically setting INHOMO_RECO to True.\n",
      "2024-04-15 10:23:48,902 | WARNING | inputs.py::INHOMO_RECO() | You have set USE_MINI_HALOS to True but INHOMO_RECO to False! Automatically setting INHOMO_RECO to True.\n",
      "2024-04-15 10:23:48,902 | WARNING | inputs.py::INHOMO_RECO() | You have set USE_MINI_HALOS to True but INHOMO_RECO to False! Automatically setting INHOMO_RECO to True.\n",
      "2024-04-15 10:24:20,642 | WARNING | inputs.py::INHOMO_RECO() | You have set USE_MINI_HALOS to True but INHOMO_RECO to False! Automatically setting INHOMO_RECO to True.\n",
      "2024-04-15 10:24:20,881 | WARNING | inputs.py::INHOMO_RECO() | You have set USE_MINI_HALOS to True but INHOMO_RECO to False! Automatically setting INHOMO_RECO to True.\n",
      "2024-04-15 10:24:20,883 | WARNING | inputs.py::INHOMO_RECO() | You have set USE_MINI_HALOS to True but INHOMO_RECO to False! Automatically setting INHOMO_RECO to True.\n",
      "2024-04-15 10:24:20,885 | WARNING | inputs.py::INHOMO_RECO() | You have set USE_MINI_HALOS to True but INHOMO_RECO to False! Automatically setting INHOMO_RECO to True.\n",
      "2024-04-15 10:24:20,885 | WARNING | inputs.py::INHOMO_RECO() | You have set USE_MINI_HALOS to True but INHOMO_RECO to False! Automatically setting INHOMO_RECO to True.\n",
      "2024-04-15 10:24:20,886 | WARNING | inputs.py::INHOMO_RECO() | You have set USE_MINI_HALOS to True but INHOMO_RECO to False! Automatically setting INHOMO_RECO to True.\n",
      "2024-04-15 10:24:20,887 | WARNING | inputs.py::validate_all_inputs() | USE_MINI_HALOS needs USE_RELATIVE_VELOCITIES to get the right evolution!\n",
      "2024-04-15 10:24:20,888 | WARNING | inputs.py::INHOMO_RECO() | You have set USE_MINI_HALOS to True but INHOMO_RECO to False! Automatically setting INHOMO_RECO to True.\n",
      "2024-04-15 10:24:20,890 | WARNING | inputs.py::INHOMO_RECO() | You have set USE_MINI_HALOS to True but INHOMO_RECO to False! Automatically setting INHOMO_RECO to True.\n",
      "2024-04-15 10:24:26,528 | WARNING | inputs.py::INHOMO_RECO() | You have set USE_MINI_HALOS to True but INHOMO_RECO to False! Automatically setting INHOMO_RECO to True.\n",
      "2024-04-15 10:24:26,558 | WARNING | inputs.py::INHOMO_RECO() | You have set USE_MINI_HALOS to True but INHOMO_RECO to False! Automatically setting INHOMO_RECO to True.\n",
      "2024-04-15 10:24:26,559 | WARNING | inputs.py::INHOMO_RECO() | You have set USE_MINI_HALOS to True but INHOMO_RECO to False! Automatically setting INHOMO_RECO to True.\n"
     ]
    },
    {
     "name": "stderr",
     "output_type": "stream",
     "text": [
      "2024-04-15 10:24:26,560 | WARNING | inputs.py::INHOMO_RECO() | You have set USE_MINI_HALOS to True but INHOMO_RECO to False! Automatically setting INHOMO_RECO to True.\n",
      "2024-04-15 10:24:26,561 | WARNING | inputs.py::INHOMO_RECO() | You have set USE_MINI_HALOS to True but INHOMO_RECO to False! Automatically setting INHOMO_RECO to True.\n",
      "2024-04-15 10:24:26,561 | WARNING | inputs.py::INHOMO_RECO() | You have set USE_MINI_HALOS to True but INHOMO_RECO to False! Automatically setting INHOMO_RECO to True.\n",
      "2024-04-15 10:24:26,562 | WARNING | inputs.py::validate_all_inputs() | USE_MINI_HALOS needs USE_RELATIVE_VELOCITIES to get the right evolution!\n",
      "2024-04-15 10:24:26,563 | WARNING | inputs.py::INHOMO_RECO() | You have set USE_MINI_HALOS to True but INHOMO_RECO to False! Automatically setting INHOMO_RECO to True.\n",
      "2024-04-15 10:24:26,565 | WARNING | inputs.py::INHOMO_RECO() | You have set USE_MINI_HALOS to True but INHOMO_RECO to False! Automatically setting INHOMO_RECO to True.\n",
      "2024-04-15 10:24:26,566 | WARNING | inputs.py::INHOMO_RECO() | You have set USE_MINI_HALOS to True but INHOMO_RECO to False! Automatically setting INHOMO_RECO to True.\n",
      "2024-04-15 10:24:58,650 | WARNING | inputs.py::INHOMO_RECO() | You have set USE_MINI_HALOS to True but INHOMO_RECO to False! Automatically setting INHOMO_RECO to True.\n",
      "2024-04-15 10:24:58,838 | WARNING | inputs.py::INHOMO_RECO() | You have set USE_MINI_HALOS to True but INHOMO_RECO to False! Automatically setting INHOMO_RECO to True.\n",
      "2024-04-15 10:24:58,839 | WARNING | inputs.py::INHOMO_RECO() | You have set USE_MINI_HALOS to True but INHOMO_RECO to False! Automatically setting INHOMO_RECO to True.\n",
      "2024-04-15 10:24:58,841 | WARNING | inputs.py::INHOMO_RECO() | You have set USE_MINI_HALOS to True but INHOMO_RECO to False! Automatically setting INHOMO_RECO to True.\n",
      "2024-04-15 10:24:58,842 | WARNING | inputs.py::INHOMO_RECO() | You have set USE_MINI_HALOS to True but INHOMO_RECO to False! Automatically setting INHOMO_RECO to True.\n",
      "2024-04-15 10:24:58,842 | WARNING | inputs.py::INHOMO_RECO() | You have set USE_MINI_HALOS to True but INHOMO_RECO to False! Automatically setting INHOMO_RECO to True.\n",
      "2024-04-15 10:24:58,843 | WARNING | inputs.py::validate_all_inputs() | USE_MINI_HALOS needs USE_RELATIVE_VELOCITIES to get the right evolution!\n",
      "2024-04-15 10:24:58,844 | WARNING | inputs.py::INHOMO_RECO() | You have set USE_MINI_HALOS to True but INHOMO_RECO to False! Automatically setting INHOMO_RECO to True.\n",
      "2024-04-15 10:24:58,846 | WARNING | inputs.py::INHOMO_RECO() | You have set USE_MINI_HALOS to True but INHOMO_RECO to False! Automatically setting INHOMO_RECO to True.\n",
      "2024-04-15 10:25:04,702 | WARNING | inputs.py::INHOMO_RECO() | You have set USE_MINI_HALOS to True but INHOMO_RECO to False! Automatically setting INHOMO_RECO to True.\n",
      "2024-04-15 10:25:04,728 | WARNING | inputs.py::INHOMO_RECO() | You have set USE_MINI_HALOS to True but INHOMO_RECO to False! Automatically setting INHOMO_RECO to True.\n",
      "2024-04-15 10:25:04,729 | WARNING | inputs.py::INHOMO_RECO() | You have set USE_MINI_HALOS to True but INHOMO_RECO to False! Automatically setting INHOMO_RECO to True.\n",
      "2024-04-15 10:25:04,730 | WARNING | inputs.py::INHOMO_RECO() | You have set USE_MINI_HALOS to True but INHOMO_RECO to False! Automatically setting INHOMO_RECO to True.\n",
      "2024-04-15 10:25:04,731 | WARNING | inputs.py::INHOMO_RECO() | You have set USE_MINI_HALOS to True but INHOMO_RECO to False! Automatically setting INHOMO_RECO to True.\n",
      "2024-04-15 10:25:04,731 | WARNING | inputs.py::INHOMO_RECO() | You have set USE_MINI_HALOS to True but INHOMO_RECO to False! Automatically setting INHOMO_RECO to True.\n",
      "2024-04-15 10:25:04,732 | WARNING | inputs.py::validate_all_inputs() | USE_MINI_HALOS needs USE_RELATIVE_VELOCITIES to get the right evolution!\n",
      "2024-04-15 10:25:04,733 | WARNING | inputs.py::INHOMO_RECO() | You have set USE_MINI_HALOS to True but INHOMO_RECO to False! Automatically setting INHOMO_RECO to True.\n",
      "2024-04-15 10:25:04,735 | WARNING | inputs.py::INHOMO_RECO() | You have set USE_MINI_HALOS to True but INHOMO_RECO to False! Automatically setting INHOMO_RECO to True.\n",
      "2024-04-15 10:25:04,736 | WARNING | inputs.py::INHOMO_RECO() | You have set USE_MINI_HALOS to True but INHOMO_RECO to False! Automatically setting INHOMO_RECO to True.\n",
      "2024-04-15 10:25:37,142 | WARNING | inputs.py::INHOMO_RECO() | You have set USE_MINI_HALOS to True but INHOMO_RECO to False! Automatically setting INHOMO_RECO to True.\n",
      "2024-04-15 10:25:37,350 | WARNING | inputs.py::INHOMO_RECO() | You have set USE_MINI_HALOS to True but INHOMO_RECO to False! Automatically setting INHOMO_RECO to True.\n",
      "2024-04-15 10:25:37,352 | WARNING | inputs.py::INHOMO_RECO() | You have set USE_MINI_HALOS to True but INHOMO_RECO to False! Automatically setting INHOMO_RECO to True.\n",
      "2024-04-15 10:25:37,354 | WARNING | inputs.py::INHOMO_RECO() | You have set USE_MINI_HALOS to True but INHOMO_RECO to False! Automatically setting INHOMO_RECO to True.\n",
      "2024-04-15 10:25:37,354 | WARNING | inputs.py::INHOMO_RECO() | You have set USE_MINI_HALOS to True but INHOMO_RECO to False! Automatically setting INHOMO_RECO to True.\n",
      "2024-04-15 10:25:37,355 | WARNING | inputs.py::INHOMO_RECO() | You have set USE_MINI_HALOS to True but INHOMO_RECO to False! Automatically setting INHOMO_RECO to True.\n",
      "2024-04-15 10:25:37,356 | WARNING | inputs.py::validate_all_inputs() | USE_MINI_HALOS needs USE_RELATIVE_VELOCITIES to get the right evolution!\n",
      "2024-04-15 10:25:37,356 | WARNING | inputs.py::INHOMO_RECO() | You have set USE_MINI_HALOS to True but INHOMO_RECO to False! Automatically setting INHOMO_RECO to True.\n",
      "2024-04-15 10:25:37,359 | WARNING | inputs.py::INHOMO_RECO() | You have set USE_MINI_HALOS to True but INHOMO_RECO to False! Automatically setting INHOMO_RECO to True.\n",
      "2024-04-15 10:25:42,821 | WARNING | inputs.py::INHOMO_RECO() | You have set USE_MINI_HALOS to True but INHOMO_RECO to False! Automatically setting INHOMO_RECO to True.\n",
      "2024-04-15 10:25:42,844 | WARNING | inputs.py::INHOMO_RECO() | You have set USE_MINI_HALOS to True but INHOMO_RECO to False! Automatically setting INHOMO_RECO to True.\n",
      "2024-04-15 10:25:42,844 | WARNING | inputs.py::INHOMO_RECO() | You have set USE_MINI_HALOS to True but INHOMO_RECO to False! Automatically setting INHOMO_RECO to True.\n",
      "2024-04-15 10:25:42,845 | WARNING | inputs.py::INHOMO_RECO() | You have set USE_MINI_HALOS to True but INHOMO_RECO to False! Automatically setting INHOMO_RECO to True.\n",
      "2024-04-15 10:25:42,846 | WARNING | inputs.py::INHOMO_RECO() | You have set USE_MINI_HALOS to True but INHOMO_RECO to False! Automatically setting INHOMO_RECO to True.\n",
      "2024-04-15 10:25:42,847 | WARNING | inputs.py::INHOMO_RECO() | You have set USE_MINI_HALOS to True but INHOMO_RECO to False! Automatically setting INHOMO_RECO to True.\n",
      "2024-04-15 10:25:42,847 | WARNING | inputs.py::validate_all_inputs() | USE_MINI_HALOS needs USE_RELATIVE_VELOCITIES to get the right evolution!\n",
      "2024-04-15 10:25:42,848 | WARNING | inputs.py::INHOMO_RECO() | You have set USE_MINI_HALOS to True but INHOMO_RECO to False! Automatically setting INHOMO_RECO to True.\n",
      "2024-04-15 10:25:42,851 | WARNING | inputs.py::INHOMO_RECO() | You have set USE_MINI_HALOS to True but INHOMO_RECO to False! Automatically setting INHOMO_RECO to True.\n",
      "2024-04-15 10:25:42,852 | WARNING | inputs.py::INHOMO_RECO() | You have set USE_MINI_HALOS to True but INHOMO_RECO to False! Automatically setting INHOMO_RECO to True.\n",
      "2024-04-15 10:26:15,910 | WARNING | inputs.py::INHOMO_RECO() | You have set USE_MINI_HALOS to True but INHOMO_RECO to False! Automatically setting INHOMO_RECO to True.\n",
      "2024-04-15 10:26:16,165 | WARNING | inputs.py::INHOMO_RECO() | You have set USE_MINI_HALOS to True but INHOMO_RECO to False! Automatically setting INHOMO_RECO to True.\n",
      "2024-04-15 10:26:16,167 | WARNING | inputs.py::INHOMO_RECO() | You have set USE_MINI_HALOS to True but INHOMO_RECO to False! Automatically setting INHOMO_RECO to True.\n",
      "2024-04-15 10:26:16,169 | WARNING | inputs.py::INHOMO_RECO() | You have set USE_MINI_HALOS to True but INHOMO_RECO to False! Automatically setting INHOMO_RECO to True.\n",
      "2024-04-15 10:26:16,170 | WARNING | inputs.py::INHOMO_RECO() | You have set USE_MINI_HALOS to True but INHOMO_RECO to False! Automatically setting INHOMO_RECO to True.\n"
     ]
    },
    {
     "name": "stderr",
     "output_type": "stream",
     "text": [
      "2024-04-15 10:26:16,171 | WARNING | inputs.py::INHOMO_RECO() | You have set USE_MINI_HALOS to True but INHOMO_RECO to False! Automatically setting INHOMO_RECO to True.\n",
      "2024-04-15 10:26:16,171 | WARNING | inputs.py::validate_all_inputs() | USE_MINI_HALOS needs USE_RELATIVE_VELOCITIES to get the right evolution!\n",
      "2024-04-15 10:26:16,172 | WARNING | inputs.py::INHOMO_RECO() | You have set USE_MINI_HALOS to True but INHOMO_RECO to False! Automatically setting INHOMO_RECO to True.\n",
      "2024-04-15 10:26:16,174 | WARNING | inputs.py::INHOMO_RECO() | You have set USE_MINI_HALOS to True but INHOMO_RECO to False! Automatically setting INHOMO_RECO to True.\n",
      "2024-04-15 10:26:21,897 | WARNING | inputs.py::INHOMO_RECO() | You have set USE_MINI_HALOS to True but INHOMO_RECO to False! Automatically setting INHOMO_RECO to True.\n",
      "2024-04-15 10:26:21,927 | WARNING | inputs.py::INHOMO_RECO() | You have set USE_MINI_HALOS to True but INHOMO_RECO to False! Automatically setting INHOMO_RECO to True.\n",
      "2024-04-15 10:26:21,928 | WARNING | inputs.py::INHOMO_RECO() | You have set USE_MINI_HALOS to True but INHOMO_RECO to False! Automatically setting INHOMO_RECO to True.\n",
      "2024-04-15 10:26:21,929 | WARNING | inputs.py::INHOMO_RECO() | You have set USE_MINI_HALOS to True but INHOMO_RECO to False! Automatically setting INHOMO_RECO to True.\n",
      "2024-04-15 10:26:21,930 | WARNING | inputs.py::INHOMO_RECO() | You have set USE_MINI_HALOS to True but INHOMO_RECO to False! Automatically setting INHOMO_RECO to True.\n",
      "2024-04-15 10:26:21,930 | WARNING | inputs.py::INHOMO_RECO() | You have set USE_MINI_HALOS to True but INHOMO_RECO to False! Automatically setting INHOMO_RECO to True.\n",
      "2024-04-15 10:26:21,931 | WARNING | inputs.py::validate_all_inputs() | USE_MINI_HALOS needs USE_RELATIVE_VELOCITIES to get the right evolution!\n",
      "2024-04-15 10:26:21,932 | WARNING | inputs.py::INHOMO_RECO() | You have set USE_MINI_HALOS to True but INHOMO_RECO to False! Automatically setting INHOMO_RECO to True.\n",
      "2024-04-15 10:26:21,934 | WARNING | inputs.py::INHOMO_RECO() | You have set USE_MINI_HALOS to True but INHOMO_RECO to False! Automatically setting INHOMO_RECO to True.\n",
      "2024-04-15 10:26:21,935 | WARNING | inputs.py::INHOMO_RECO() | You have set USE_MINI_HALOS to True but INHOMO_RECO to False! Automatically setting INHOMO_RECO to True.\n",
      "2024-04-15 10:26:53,945 | WARNING | inputs.py::INHOMO_RECO() | You have set USE_MINI_HALOS to True but INHOMO_RECO to False! Automatically setting INHOMO_RECO to True.\n",
      "2024-04-15 10:26:54,185 | WARNING | inputs.py::INHOMO_RECO() | You have set USE_MINI_HALOS to True but INHOMO_RECO to False! Automatically setting INHOMO_RECO to True.\n",
      "2024-04-15 10:26:54,187 | WARNING | inputs.py::INHOMO_RECO() | You have set USE_MINI_HALOS to True but INHOMO_RECO to False! Automatically setting INHOMO_RECO to True.\n",
      "2024-04-15 10:26:54,189 | WARNING | inputs.py::INHOMO_RECO() | You have set USE_MINI_HALOS to True but INHOMO_RECO to False! Automatically setting INHOMO_RECO to True.\n",
      "2024-04-15 10:26:54,190 | WARNING | inputs.py::INHOMO_RECO() | You have set USE_MINI_HALOS to True but INHOMO_RECO to False! Automatically setting INHOMO_RECO to True.\n",
      "2024-04-15 10:26:54,191 | WARNING | inputs.py::INHOMO_RECO() | You have set USE_MINI_HALOS to True but INHOMO_RECO to False! Automatically setting INHOMO_RECO to True.\n",
      "2024-04-15 10:26:54,192 | WARNING | inputs.py::validate_all_inputs() | USE_MINI_HALOS needs USE_RELATIVE_VELOCITIES to get the right evolution!\n",
      "2024-04-15 10:26:54,192 | WARNING | inputs.py::INHOMO_RECO() | You have set USE_MINI_HALOS to True but INHOMO_RECO to False! Automatically setting INHOMO_RECO to True.\n",
      "2024-04-15 10:26:54,195 | WARNING | inputs.py::INHOMO_RECO() | You have set USE_MINI_HALOS to True but INHOMO_RECO to False! Automatically setting INHOMO_RECO to True.\n",
      "2024-04-15 10:26:59,684 | WARNING | inputs.py::INHOMO_RECO() | You have set USE_MINI_HALOS to True but INHOMO_RECO to False! Automatically setting INHOMO_RECO to True.\n",
      "2024-04-15 10:26:59,708 | WARNING | inputs.py::INHOMO_RECO() | You have set USE_MINI_HALOS to True but INHOMO_RECO to False! Automatically setting INHOMO_RECO to True.\n",
      "2024-04-15 10:26:59,709 | WARNING | inputs.py::INHOMO_RECO() | You have set USE_MINI_HALOS to True but INHOMO_RECO to False! Automatically setting INHOMO_RECO to True.\n",
      "2024-04-15 10:26:59,710 | WARNING | inputs.py::INHOMO_RECO() | You have set USE_MINI_HALOS to True but INHOMO_RECO to False! Automatically setting INHOMO_RECO to True.\n",
      "2024-04-15 10:26:59,711 | WARNING | inputs.py::INHOMO_RECO() | You have set USE_MINI_HALOS to True but INHOMO_RECO to False! Automatically setting INHOMO_RECO to True.\n",
      "2024-04-15 10:26:59,711 | WARNING | inputs.py::INHOMO_RECO() | You have set USE_MINI_HALOS to True but INHOMO_RECO to False! Automatically setting INHOMO_RECO to True.\n",
      "2024-04-15 10:26:59,712 | WARNING | inputs.py::validate_all_inputs() | USE_MINI_HALOS needs USE_RELATIVE_VELOCITIES to get the right evolution!\n",
      "2024-04-15 10:26:59,713 | WARNING | inputs.py::INHOMO_RECO() | You have set USE_MINI_HALOS to True but INHOMO_RECO to False! Automatically setting INHOMO_RECO to True.\n",
      "2024-04-15 10:26:59,715 | WARNING | inputs.py::INHOMO_RECO() | You have set USE_MINI_HALOS to True but INHOMO_RECO to False! Automatically setting INHOMO_RECO to True.\n",
      "2024-04-15 10:26:59,716 | WARNING | inputs.py::INHOMO_RECO() | You have set USE_MINI_HALOS to True but INHOMO_RECO to False! Automatically setting INHOMO_RECO to True.\n",
      "2024-04-15 10:27:32,014 | WARNING | inputs.py::INHOMO_RECO() | You have set USE_MINI_HALOS to True but INHOMO_RECO to False! Automatically setting INHOMO_RECO to True.\n",
      "2024-04-15 10:27:32,255 | WARNING | inputs.py::INHOMO_RECO() | You have set USE_MINI_HALOS to True but INHOMO_RECO to False! Automatically setting INHOMO_RECO to True.\n",
      "2024-04-15 10:27:32,256 | WARNING | inputs.py::INHOMO_RECO() | You have set USE_MINI_HALOS to True but INHOMO_RECO to False! Automatically setting INHOMO_RECO to True.\n",
      "2024-04-15 10:27:32,258 | WARNING | inputs.py::INHOMO_RECO() | You have set USE_MINI_HALOS to True but INHOMO_RECO to False! Automatically setting INHOMO_RECO to True.\n",
      "2024-04-15 10:27:32,259 | WARNING | inputs.py::INHOMO_RECO() | You have set USE_MINI_HALOS to True but INHOMO_RECO to False! Automatically setting INHOMO_RECO to True.\n",
      "2024-04-15 10:27:32,259 | WARNING | inputs.py::INHOMO_RECO() | You have set USE_MINI_HALOS to True but INHOMO_RECO to False! Automatically setting INHOMO_RECO to True.\n",
      "2024-04-15 10:27:32,260 | WARNING | inputs.py::validate_all_inputs() | USE_MINI_HALOS needs USE_RELATIVE_VELOCITIES to get the right evolution!\n",
      "2024-04-15 10:27:32,261 | WARNING | inputs.py::INHOMO_RECO() | You have set USE_MINI_HALOS to True but INHOMO_RECO to False! Automatically setting INHOMO_RECO to True.\n",
      "2024-04-15 10:27:32,263 | WARNING | inputs.py::INHOMO_RECO() | You have set USE_MINI_HALOS to True but INHOMO_RECO to False! Automatically setting INHOMO_RECO to True.\n",
      "2024-04-15 10:27:37,692 | WARNING | inputs.py::INHOMO_RECO() | You have set USE_MINI_HALOS to True but INHOMO_RECO to False! Automatically setting INHOMO_RECO to True.\n",
      "2024-04-15 10:27:37,716 | WARNING | inputs.py::INHOMO_RECO() | You have set USE_MINI_HALOS to True but INHOMO_RECO to False! Automatically setting INHOMO_RECO to True.\n",
      "2024-04-15 10:27:37,717 | WARNING | inputs.py::INHOMO_RECO() | You have set USE_MINI_HALOS to True but INHOMO_RECO to False! Automatically setting INHOMO_RECO to True.\n",
      "2024-04-15 10:27:37,717 | WARNING | inputs.py::INHOMO_RECO() | You have set USE_MINI_HALOS to True but INHOMO_RECO to False! Automatically setting INHOMO_RECO to True.\n",
      "2024-04-15 10:27:37,718 | WARNING | inputs.py::INHOMO_RECO() | You have set USE_MINI_HALOS to True but INHOMO_RECO to False! Automatically setting INHOMO_RECO to True.\n",
      "2024-04-15 10:27:37,719 | WARNING | inputs.py::INHOMO_RECO() | You have set USE_MINI_HALOS to True but INHOMO_RECO to False! Automatically setting INHOMO_RECO to True.\n",
      "2024-04-15 10:27:37,720 | WARNING | inputs.py::validate_all_inputs() | USE_MINI_HALOS needs USE_RELATIVE_VELOCITIES to get the right evolution!\n",
      "2024-04-15 10:27:37,720 | WARNING | inputs.py::INHOMO_RECO() | You have set USE_MINI_HALOS to True but INHOMO_RECO to False! Automatically setting INHOMO_RECO to True.\n"
     ]
    },
    {
     "name": "stderr",
     "output_type": "stream",
     "text": [
      "2024-04-15 10:27:37,723 | WARNING | inputs.py::INHOMO_RECO() | You have set USE_MINI_HALOS to True but INHOMO_RECO to False! Automatically setting INHOMO_RECO to True.\n",
      "2024-04-15 10:27:37,723 | WARNING | inputs.py::INHOMO_RECO() | You have set USE_MINI_HALOS to True but INHOMO_RECO to False! Automatically setting INHOMO_RECO to True.\n",
      "2024-04-15 10:28:11,636 | WARNING | inputs.py::INHOMO_RECO() | You have set USE_MINI_HALOS to True but INHOMO_RECO to False! Automatically setting INHOMO_RECO to True.\n",
      "2024-04-15 10:28:11,845 | WARNING | inputs.py::INHOMO_RECO() | You have set USE_MINI_HALOS to True but INHOMO_RECO to False! Automatically setting INHOMO_RECO to True.\n",
      "2024-04-15 10:28:11,847 | WARNING | inputs.py::INHOMO_RECO() | You have set USE_MINI_HALOS to True but INHOMO_RECO to False! Automatically setting INHOMO_RECO to True.\n",
      "2024-04-15 10:28:11,849 | WARNING | inputs.py::INHOMO_RECO() | You have set USE_MINI_HALOS to True but INHOMO_RECO to False! Automatically setting INHOMO_RECO to True.\n",
      "2024-04-15 10:28:11,850 | WARNING | inputs.py::INHOMO_RECO() | You have set USE_MINI_HALOS to True but INHOMO_RECO to False! Automatically setting INHOMO_RECO to True.\n",
      "2024-04-15 10:28:11,850 | WARNING | inputs.py::INHOMO_RECO() | You have set USE_MINI_HALOS to True but INHOMO_RECO to False! Automatically setting INHOMO_RECO to True.\n",
      "2024-04-15 10:28:11,851 | WARNING | inputs.py::validate_all_inputs() | USE_MINI_HALOS needs USE_RELATIVE_VELOCITIES to get the right evolution!\n",
      "2024-04-15 10:28:11,852 | WARNING | inputs.py::INHOMO_RECO() | You have set USE_MINI_HALOS to True but INHOMO_RECO to False! Automatically setting INHOMO_RECO to True.\n",
      "2024-04-15 10:28:11,854 | WARNING | inputs.py::INHOMO_RECO() | You have set USE_MINI_HALOS to True but INHOMO_RECO to False! Automatically setting INHOMO_RECO to True.\n",
      "2024-04-15 10:28:17,337 | WARNING | inputs.py::INHOMO_RECO() | You have set USE_MINI_HALOS to True but INHOMO_RECO to False! Automatically setting INHOMO_RECO to True.\n",
      "2024-04-15 10:28:17,363 | WARNING | inputs.py::INHOMO_RECO() | You have set USE_MINI_HALOS to True but INHOMO_RECO to False! Automatically setting INHOMO_RECO to True.\n",
      "2024-04-15 10:28:17,363 | WARNING | inputs.py::INHOMO_RECO() | You have set USE_MINI_HALOS to True but INHOMO_RECO to False! Automatically setting INHOMO_RECO to True.\n",
      "2024-04-15 10:28:17,364 | WARNING | inputs.py::INHOMO_RECO() | You have set USE_MINI_HALOS to True but INHOMO_RECO to False! Automatically setting INHOMO_RECO to True.\n",
      "2024-04-15 10:28:17,365 | WARNING | inputs.py::INHOMO_RECO() | You have set USE_MINI_HALOS to True but INHOMO_RECO to False! Automatically setting INHOMO_RECO to True.\n",
      "2024-04-15 10:28:17,366 | WARNING | inputs.py::INHOMO_RECO() | You have set USE_MINI_HALOS to True but INHOMO_RECO to False! Automatically setting INHOMO_RECO to True.\n",
      "2024-04-15 10:28:17,366 | WARNING | inputs.py::validate_all_inputs() | USE_MINI_HALOS needs USE_RELATIVE_VELOCITIES to get the right evolution!\n",
      "2024-04-15 10:28:17,367 | WARNING | inputs.py::INHOMO_RECO() | You have set USE_MINI_HALOS to True but INHOMO_RECO to False! Automatically setting INHOMO_RECO to True.\n",
      "2024-04-15 10:28:17,369 | WARNING | inputs.py::INHOMO_RECO() | You have set USE_MINI_HALOS to True but INHOMO_RECO to False! Automatically setting INHOMO_RECO to True.\n",
      "2024-04-15 10:28:17,370 | WARNING | inputs.py::INHOMO_RECO() | You have set USE_MINI_HALOS to True but INHOMO_RECO to False! Automatically setting INHOMO_RECO to True.\n",
      "2024-04-15 10:28:49,868 | WARNING | inputs.py::INHOMO_RECO() | You have set USE_MINI_HALOS to True but INHOMO_RECO to False! Automatically setting INHOMO_RECO to True.\n",
      "2024-04-15 10:28:50,055 | WARNING | inputs.py::INHOMO_RECO() | You have set USE_MINI_HALOS to True but INHOMO_RECO to False! Automatically setting INHOMO_RECO to True.\n",
      "2024-04-15 10:28:50,056 | WARNING | inputs.py::INHOMO_RECO() | You have set USE_MINI_HALOS to True but INHOMO_RECO to False! Automatically setting INHOMO_RECO to True.\n",
      "2024-04-15 10:28:50,058 | WARNING | inputs.py::INHOMO_RECO() | You have set USE_MINI_HALOS to True but INHOMO_RECO to False! Automatically setting INHOMO_RECO to True.\n",
      "2024-04-15 10:28:50,059 | WARNING | inputs.py::INHOMO_RECO() | You have set USE_MINI_HALOS to True but INHOMO_RECO to False! Automatically setting INHOMO_RECO to True.\n",
      "2024-04-15 10:28:50,060 | WARNING | inputs.py::INHOMO_RECO() | You have set USE_MINI_HALOS to True but INHOMO_RECO to False! Automatically setting INHOMO_RECO to True.\n",
      "2024-04-15 10:28:50,060 | WARNING | inputs.py::validate_all_inputs() | USE_MINI_HALOS needs USE_RELATIVE_VELOCITIES to get the right evolution!\n",
      "2024-04-15 10:28:50,061 | WARNING | inputs.py::INHOMO_RECO() | You have set USE_MINI_HALOS to True but INHOMO_RECO to False! Automatically setting INHOMO_RECO to True.\n",
      "2024-04-15 10:28:50,063 | WARNING | inputs.py::INHOMO_RECO() | You have set USE_MINI_HALOS to True but INHOMO_RECO to False! Automatically setting INHOMO_RECO to True.\n",
      "2024-04-15 10:28:55,518 | WARNING | inputs.py::INHOMO_RECO() | You have set USE_MINI_HALOS to True but INHOMO_RECO to False! Automatically setting INHOMO_RECO to True.\n",
      "2024-04-15 10:28:55,550 | WARNING | inputs.py::INHOMO_RECO() | You have set USE_MINI_HALOS to True but INHOMO_RECO to False! Automatically setting INHOMO_RECO to True.\n",
      "2024-04-15 10:28:55,551 | WARNING | inputs.py::INHOMO_RECO() | You have set USE_MINI_HALOS to True but INHOMO_RECO to False! Automatically setting INHOMO_RECO to True.\n",
      "2024-04-15 10:28:55,552 | WARNING | inputs.py::INHOMO_RECO() | You have set USE_MINI_HALOS to True but INHOMO_RECO to False! Automatically setting INHOMO_RECO to True.\n",
      "2024-04-15 10:28:55,553 | WARNING | inputs.py::INHOMO_RECO() | You have set USE_MINI_HALOS to True but INHOMO_RECO to False! Automatically setting INHOMO_RECO to True.\n",
      "2024-04-15 10:28:55,554 | WARNING | inputs.py::INHOMO_RECO() | You have set USE_MINI_HALOS to True but INHOMO_RECO to False! Automatically setting INHOMO_RECO to True.\n",
      "2024-04-15 10:28:55,555 | WARNING | inputs.py::validate_all_inputs() | USE_MINI_HALOS needs USE_RELATIVE_VELOCITIES to get the right evolution!\n",
      "2024-04-15 10:28:55,556 | WARNING | inputs.py::INHOMO_RECO() | You have set USE_MINI_HALOS to True but INHOMO_RECO to False! Automatically setting INHOMO_RECO to True.\n",
      "2024-04-15 10:28:55,558 | WARNING | inputs.py::INHOMO_RECO() | You have set USE_MINI_HALOS to True but INHOMO_RECO to False! Automatically setting INHOMO_RECO to True.\n",
      "2024-04-15 10:28:55,559 | WARNING | inputs.py::INHOMO_RECO() | You have set USE_MINI_HALOS to True but INHOMO_RECO to False! Automatically setting INHOMO_RECO to True.\n",
      "2024-04-15 10:29:28,489 | WARNING | inputs.py::INHOMO_RECO() | You have set USE_MINI_HALOS to True but INHOMO_RECO to False! Automatically setting INHOMO_RECO to True.\n",
      "2024-04-15 10:29:28,696 | WARNING | inputs.py::INHOMO_RECO() | You have set USE_MINI_HALOS to True but INHOMO_RECO to False! Automatically setting INHOMO_RECO to True.\n",
      "2024-04-15 10:29:28,697 | WARNING | inputs.py::INHOMO_RECO() | You have set USE_MINI_HALOS to True but INHOMO_RECO to False! Automatically setting INHOMO_RECO to True.\n",
      "2024-04-15 10:29:28,699 | WARNING | inputs.py::INHOMO_RECO() | You have set USE_MINI_HALOS to True but INHOMO_RECO to False! Automatically setting INHOMO_RECO to True.\n",
      "2024-04-15 10:29:28,700 | WARNING | inputs.py::INHOMO_RECO() | You have set USE_MINI_HALOS to True but INHOMO_RECO to False! Automatically setting INHOMO_RECO to True.\n",
      "2024-04-15 10:29:28,700 | WARNING | inputs.py::INHOMO_RECO() | You have set USE_MINI_HALOS to True but INHOMO_RECO to False! Automatically setting INHOMO_RECO to True.\n",
      "2024-04-15 10:29:28,701 | WARNING | inputs.py::validate_all_inputs() | USE_MINI_HALOS needs USE_RELATIVE_VELOCITIES to get the right evolution!\n",
      "2024-04-15 10:29:28,702 | WARNING | inputs.py::INHOMO_RECO() | You have set USE_MINI_HALOS to True but INHOMO_RECO to False! Automatically setting INHOMO_RECO to True.\n",
      "2024-04-15 10:29:28,704 | WARNING | inputs.py::INHOMO_RECO() | You have set USE_MINI_HALOS to True but INHOMO_RECO to False! Automatically setting INHOMO_RECO to True.\n",
      "2024-04-15 10:29:34,205 | WARNING | inputs.py::INHOMO_RECO() | You have set USE_MINI_HALOS to True but INHOMO_RECO to False! Automatically setting INHOMO_RECO to True.\n"
     ]
    },
    {
     "name": "stderr",
     "output_type": "stream",
     "text": [
      "2024-04-15 10:29:34,232 | WARNING | inputs.py::INHOMO_RECO() | You have set USE_MINI_HALOS to True but INHOMO_RECO to False! Automatically setting INHOMO_RECO to True.\n",
      "2024-04-15 10:29:34,233 | WARNING | inputs.py::INHOMO_RECO() | You have set USE_MINI_HALOS to True but INHOMO_RECO to False! Automatically setting INHOMO_RECO to True.\n",
      "2024-04-15 10:29:34,234 | WARNING | inputs.py::INHOMO_RECO() | You have set USE_MINI_HALOS to True but INHOMO_RECO to False! Automatically setting INHOMO_RECO to True.\n",
      "2024-04-15 10:29:34,235 | WARNING | inputs.py::INHOMO_RECO() | You have set USE_MINI_HALOS to True but INHOMO_RECO to False! Automatically setting INHOMO_RECO to True.\n",
      "2024-04-15 10:29:34,236 | WARNING | inputs.py::INHOMO_RECO() | You have set USE_MINI_HALOS to True but INHOMO_RECO to False! Automatically setting INHOMO_RECO to True.\n",
      "2024-04-15 10:29:34,236 | WARNING | inputs.py::validate_all_inputs() | USE_MINI_HALOS needs USE_RELATIVE_VELOCITIES to get the right evolution!\n",
      "2024-04-15 10:29:34,237 | WARNING | inputs.py::INHOMO_RECO() | You have set USE_MINI_HALOS to True but INHOMO_RECO to False! Automatically setting INHOMO_RECO to True.\n",
      "2024-04-15 10:29:34,240 | WARNING | inputs.py::INHOMO_RECO() | You have set USE_MINI_HALOS to True but INHOMO_RECO to False! Automatically setting INHOMO_RECO to True.\n",
      "2024-04-15 10:29:34,241 | WARNING | inputs.py::INHOMO_RECO() | You have set USE_MINI_HALOS to True but INHOMO_RECO to False! Automatically setting INHOMO_RECO to True.\n",
      "2024-04-15 10:30:08,492 | WARNING | inputs.py::INHOMO_RECO() | You have set USE_MINI_HALOS to True but INHOMO_RECO to False! Automatically setting INHOMO_RECO to True.\n",
      "2024-04-15 10:30:08,699 | WARNING | inputs.py::INHOMO_RECO() | You have set USE_MINI_HALOS to True but INHOMO_RECO to False! Automatically setting INHOMO_RECO to True.\n",
      "2024-04-15 10:30:08,700 | WARNING | inputs.py::INHOMO_RECO() | You have set USE_MINI_HALOS to True but INHOMO_RECO to False! Automatically setting INHOMO_RECO to True.\n",
      "2024-04-15 10:30:08,702 | WARNING | inputs.py::INHOMO_RECO() | You have set USE_MINI_HALOS to True but INHOMO_RECO to False! Automatically setting INHOMO_RECO to True.\n",
      "2024-04-15 10:30:08,703 | WARNING | inputs.py::INHOMO_RECO() | You have set USE_MINI_HALOS to True but INHOMO_RECO to False! Automatically setting INHOMO_RECO to True.\n",
      "2024-04-15 10:30:08,703 | WARNING | inputs.py::INHOMO_RECO() | You have set USE_MINI_HALOS to True but INHOMO_RECO to False! Automatically setting INHOMO_RECO to True.\n",
      "2024-04-15 10:30:08,704 | WARNING | inputs.py::validate_all_inputs() | USE_MINI_HALOS needs USE_RELATIVE_VELOCITIES to get the right evolution!\n",
      "2024-04-15 10:30:08,705 | WARNING | inputs.py::INHOMO_RECO() | You have set USE_MINI_HALOS to True but INHOMO_RECO to False! Automatically setting INHOMO_RECO to True.\n",
      "2024-04-15 10:30:08,707 | WARNING | inputs.py::INHOMO_RECO() | You have set USE_MINI_HALOS to True but INHOMO_RECO to False! Automatically setting INHOMO_RECO to True.\n",
      "2024-04-15 10:30:14,678 | WARNING | inputs.py::INHOMO_RECO() | You have set USE_MINI_HALOS to True but INHOMO_RECO to False! Automatically setting INHOMO_RECO to True.\n",
      "2024-04-15 10:30:14,703 | WARNING | inputs.py::INHOMO_RECO() | You have set USE_MINI_HALOS to True but INHOMO_RECO to False! Automatically setting INHOMO_RECO to True.\n",
      "2024-04-15 10:30:14,704 | WARNING | inputs.py::INHOMO_RECO() | You have set USE_MINI_HALOS to True but INHOMO_RECO to False! Automatically setting INHOMO_RECO to True.\n",
      "2024-04-15 10:30:14,704 | WARNING | inputs.py::INHOMO_RECO() | You have set USE_MINI_HALOS to True but INHOMO_RECO to False! Automatically setting INHOMO_RECO to True.\n",
      "2024-04-15 10:30:14,705 | WARNING | inputs.py::INHOMO_RECO() | You have set USE_MINI_HALOS to True but INHOMO_RECO to False! Automatically setting INHOMO_RECO to True.\n",
      "2024-04-15 10:30:14,706 | WARNING | inputs.py::INHOMO_RECO() | You have set USE_MINI_HALOS to True but INHOMO_RECO to False! Automatically setting INHOMO_RECO to True.\n",
      "2024-04-15 10:30:14,707 | WARNING | inputs.py::validate_all_inputs() | USE_MINI_HALOS needs USE_RELATIVE_VELOCITIES to get the right evolution!\n",
      "2024-04-15 10:30:14,707 | WARNING | inputs.py::INHOMO_RECO() | You have set USE_MINI_HALOS to True but INHOMO_RECO to False! Automatically setting INHOMO_RECO to True.\n",
      "2024-04-15 10:30:14,710 | WARNING | inputs.py::INHOMO_RECO() | You have set USE_MINI_HALOS to True but INHOMO_RECO to False! Automatically setting INHOMO_RECO to True.\n",
      "2024-04-15 10:30:14,710 | WARNING | inputs.py::INHOMO_RECO() | You have set USE_MINI_HALOS to True but INHOMO_RECO to False! Automatically setting INHOMO_RECO to True.\n",
      "2024-04-15 10:30:48,245 | WARNING | inputs.py::INHOMO_RECO() | You have set USE_MINI_HALOS to True but INHOMO_RECO to False! Automatically setting INHOMO_RECO to True.\n",
      "2024-04-15 10:30:48,488 | WARNING | inputs.py::INHOMO_RECO() | You have set USE_MINI_HALOS to True but INHOMO_RECO to False! Automatically setting INHOMO_RECO to True.\n",
      "2024-04-15 10:30:48,490 | WARNING | inputs.py::INHOMO_RECO() | You have set USE_MINI_HALOS to True but INHOMO_RECO to False! Automatically setting INHOMO_RECO to True.\n",
      "2024-04-15 10:30:48,492 | WARNING | inputs.py::INHOMO_RECO() | You have set USE_MINI_HALOS to True but INHOMO_RECO to False! Automatically setting INHOMO_RECO to True.\n",
      "2024-04-15 10:30:48,493 | WARNING | inputs.py::INHOMO_RECO() | You have set USE_MINI_HALOS to True but INHOMO_RECO to False! Automatically setting INHOMO_RECO to True.\n",
      "2024-04-15 10:30:48,494 | WARNING | inputs.py::INHOMO_RECO() | You have set USE_MINI_HALOS to True but INHOMO_RECO to False! Automatically setting INHOMO_RECO to True.\n",
      "2024-04-15 10:30:48,494 | WARNING | inputs.py::validate_all_inputs() | USE_MINI_HALOS needs USE_RELATIVE_VELOCITIES to get the right evolution!\n",
      "2024-04-15 10:30:48,495 | WARNING | inputs.py::INHOMO_RECO() | You have set USE_MINI_HALOS to True but INHOMO_RECO to False! Automatically setting INHOMO_RECO to True.\n",
      "2024-04-15 10:30:48,497 | WARNING | inputs.py::INHOMO_RECO() | You have set USE_MINI_HALOS to True but INHOMO_RECO to False! Automatically setting INHOMO_RECO to True.\n",
      "2024-04-15 10:30:53,961 | WARNING | inputs.py::INHOMO_RECO() | You have set USE_MINI_HALOS to True but INHOMO_RECO to False! Automatically setting INHOMO_RECO to True.\n",
      "2024-04-15 10:30:53,990 | WARNING | inputs.py::INHOMO_RECO() | You have set USE_MINI_HALOS to True but INHOMO_RECO to False! Automatically setting INHOMO_RECO to True.\n",
      "2024-04-15 10:30:53,991 | WARNING | inputs.py::INHOMO_RECO() | You have set USE_MINI_HALOS to True but INHOMO_RECO to False! Automatically setting INHOMO_RECO to True.\n",
      "2024-04-15 10:30:53,992 | WARNING | inputs.py::INHOMO_RECO() | You have set USE_MINI_HALOS to True but INHOMO_RECO to False! Automatically setting INHOMO_RECO to True.\n",
      "2024-04-15 10:30:53,993 | WARNING | inputs.py::INHOMO_RECO() | You have set USE_MINI_HALOS to True but INHOMO_RECO to False! Automatically setting INHOMO_RECO to True.\n",
      "2024-04-15 10:30:53,993 | WARNING | inputs.py::INHOMO_RECO() | You have set USE_MINI_HALOS to True but INHOMO_RECO to False! Automatically setting INHOMO_RECO to True.\n",
      "2024-04-15 10:30:53,994 | WARNING | inputs.py::validate_all_inputs() | USE_MINI_HALOS needs USE_RELATIVE_VELOCITIES to get the right evolution!\n",
      "2024-04-15 10:30:53,995 | WARNING | inputs.py::INHOMO_RECO() | You have set USE_MINI_HALOS to True but INHOMO_RECO to False! Automatically setting INHOMO_RECO to True.\n",
      "2024-04-15 10:30:53,998 | WARNING | inputs.py::INHOMO_RECO() | You have set USE_MINI_HALOS to True but INHOMO_RECO to False! Automatically setting INHOMO_RECO to True.\n",
      "2024-04-15 10:30:53,999 | WARNING | inputs.py::INHOMO_RECO() | You have set USE_MINI_HALOS to True but INHOMO_RECO to False! Automatically setting INHOMO_RECO to True.\n",
      "2024-04-15 10:31:28,480 | WARNING | inputs.py::INHOMO_RECO() | You have set USE_MINI_HALOS to True but INHOMO_RECO to False! Automatically setting INHOMO_RECO to True.\n",
      "2024-04-15 10:31:28,664 | WARNING | inputs.py::INHOMO_RECO() | You have set USE_MINI_HALOS to True but INHOMO_RECO to False! Automatically setting INHOMO_RECO to True.\n",
      "2024-04-15 10:31:28,666 | WARNING | inputs.py::INHOMO_RECO() | You have set USE_MINI_HALOS to True but INHOMO_RECO to False! Automatically setting INHOMO_RECO to True.\n"
     ]
    },
    {
     "name": "stderr",
     "output_type": "stream",
     "text": [
      "2024-04-15 10:31:28,668 | WARNING | inputs.py::INHOMO_RECO() | You have set USE_MINI_HALOS to True but INHOMO_RECO to False! Automatically setting INHOMO_RECO to True.\n",
      "2024-04-15 10:31:28,669 | WARNING | inputs.py::INHOMO_RECO() | You have set USE_MINI_HALOS to True but INHOMO_RECO to False! Automatically setting INHOMO_RECO to True.\n",
      "2024-04-15 10:31:28,670 | WARNING | inputs.py::INHOMO_RECO() | You have set USE_MINI_HALOS to True but INHOMO_RECO to False! Automatically setting INHOMO_RECO to True.\n",
      "2024-04-15 10:31:28,670 | WARNING | inputs.py::validate_all_inputs() | USE_MINI_HALOS needs USE_RELATIVE_VELOCITIES to get the right evolution!\n",
      "2024-04-15 10:31:28,671 | WARNING | inputs.py::INHOMO_RECO() | You have set USE_MINI_HALOS to True but INHOMO_RECO to False! Automatically setting INHOMO_RECO to True.\n",
      "2024-04-15 10:31:28,673 | WARNING | inputs.py::INHOMO_RECO() | You have set USE_MINI_HALOS to True but INHOMO_RECO to False! Automatically setting INHOMO_RECO to True.\n",
      "2024-04-15 10:31:34,400 | WARNING | inputs.py::INHOMO_RECO() | You have set USE_MINI_HALOS to True but INHOMO_RECO to False! Automatically setting INHOMO_RECO to True.\n",
      "2024-04-15 10:31:34,425 | WARNING | inputs.py::INHOMO_RECO() | You have set USE_MINI_HALOS to True but INHOMO_RECO to False! Automatically setting INHOMO_RECO to True.\n",
      "2024-04-15 10:31:34,426 | WARNING | inputs.py::INHOMO_RECO() | You have set USE_MINI_HALOS to True but INHOMO_RECO to False! Automatically setting INHOMO_RECO to True.\n",
      "2024-04-15 10:31:34,426 | WARNING | inputs.py::INHOMO_RECO() | You have set USE_MINI_HALOS to True but INHOMO_RECO to False! Automatically setting INHOMO_RECO to True.\n",
      "2024-04-15 10:31:34,427 | WARNING | inputs.py::INHOMO_RECO() | You have set USE_MINI_HALOS to True but INHOMO_RECO to False! Automatically setting INHOMO_RECO to True.\n",
      "2024-04-15 10:31:34,428 | WARNING | inputs.py::INHOMO_RECO() | You have set USE_MINI_HALOS to True but INHOMO_RECO to False! Automatically setting INHOMO_RECO to True.\n",
      "2024-04-15 10:31:34,428 | WARNING | inputs.py::validate_all_inputs() | USE_MINI_HALOS needs USE_RELATIVE_VELOCITIES to get the right evolution!\n",
      "2024-04-15 10:31:34,429 | WARNING | inputs.py::INHOMO_RECO() | You have set USE_MINI_HALOS to True but INHOMO_RECO to False! Automatically setting INHOMO_RECO to True.\n",
      "2024-04-15 10:31:34,432 | WARNING | inputs.py::INHOMO_RECO() | You have set USE_MINI_HALOS to True but INHOMO_RECO to False! Automatically setting INHOMO_RECO to True.\n",
      "2024-04-15 10:31:34,432 | WARNING | inputs.py::INHOMO_RECO() | You have set USE_MINI_HALOS to True but INHOMO_RECO to False! Automatically setting INHOMO_RECO to True.\n",
      "2024-04-15 10:32:09,662 | WARNING | inputs.py::INHOMO_RECO() | You have set USE_MINI_HALOS to True but INHOMO_RECO to False! Automatically setting INHOMO_RECO to True.\n",
      "2024-04-15 10:32:09,865 | WARNING | inputs.py::INHOMO_RECO() | You have set USE_MINI_HALOS to True but INHOMO_RECO to False! Automatically setting INHOMO_RECO to True.\n",
      "2024-04-15 10:32:09,866 | WARNING | inputs.py::INHOMO_RECO() | You have set USE_MINI_HALOS to True but INHOMO_RECO to False! Automatically setting INHOMO_RECO to True.\n",
      "2024-04-15 10:32:09,868 | WARNING | inputs.py::INHOMO_RECO() | You have set USE_MINI_HALOS to True but INHOMO_RECO to False! Automatically setting INHOMO_RECO to True.\n",
      "2024-04-15 10:32:09,869 | WARNING | inputs.py::INHOMO_RECO() | You have set USE_MINI_HALOS to True but INHOMO_RECO to False! Automatically setting INHOMO_RECO to True.\n",
      "2024-04-15 10:32:09,870 | WARNING | inputs.py::INHOMO_RECO() | You have set USE_MINI_HALOS to True but INHOMO_RECO to False! Automatically setting INHOMO_RECO to True.\n",
      "2024-04-15 10:32:09,870 | WARNING | inputs.py::validate_all_inputs() | USE_MINI_HALOS needs USE_RELATIVE_VELOCITIES to get the right evolution!\n",
      "2024-04-15 10:32:09,871 | WARNING | inputs.py::INHOMO_RECO() | You have set USE_MINI_HALOS to True but INHOMO_RECO to False! Automatically setting INHOMO_RECO to True.\n",
      "2024-04-15 10:32:09,873 | WARNING | inputs.py::INHOMO_RECO() | You have set USE_MINI_HALOS to True but INHOMO_RECO to False! Automatically setting INHOMO_RECO to True.\n",
      "2024-04-15 10:32:15,432 | WARNING | inputs.py::INHOMO_RECO() | You have set USE_MINI_HALOS to True but INHOMO_RECO to False! Automatically setting INHOMO_RECO to True.\n",
      "2024-04-15 10:32:15,458 | WARNING | inputs.py::INHOMO_RECO() | You have set USE_MINI_HALOS to True but INHOMO_RECO to False! Automatically setting INHOMO_RECO to True.\n",
      "2024-04-15 10:32:15,459 | WARNING | inputs.py::INHOMO_RECO() | You have set USE_MINI_HALOS to True but INHOMO_RECO to False! Automatically setting INHOMO_RECO to True.\n",
      "2024-04-15 10:32:15,460 | WARNING | inputs.py::INHOMO_RECO() | You have set USE_MINI_HALOS to True but INHOMO_RECO to False! Automatically setting INHOMO_RECO to True.\n",
      "2024-04-15 10:32:15,461 | WARNING | inputs.py::INHOMO_RECO() | You have set USE_MINI_HALOS to True but INHOMO_RECO to False! Automatically setting INHOMO_RECO to True.\n",
      "2024-04-15 10:32:15,462 | WARNING | inputs.py::INHOMO_RECO() | You have set USE_MINI_HALOS to True but INHOMO_RECO to False! Automatically setting INHOMO_RECO to True.\n",
      "2024-04-15 10:32:15,462 | WARNING | inputs.py::validate_all_inputs() | USE_MINI_HALOS needs USE_RELATIVE_VELOCITIES to get the right evolution!\n",
      "2024-04-15 10:32:15,463 | WARNING | inputs.py::INHOMO_RECO() | You have set USE_MINI_HALOS to True but INHOMO_RECO to False! Automatically setting INHOMO_RECO to True.\n",
      "2024-04-15 10:32:15,466 | WARNING | inputs.py::INHOMO_RECO() | You have set USE_MINI_HALOS to True but INHOMO_RECO to False! Automatically setting INHOMO_RECO to True.\n",
      "2024-04-15 10:32:15,467 | WARNING | inputs.py::INHOMO_RECO() | You have set USE_MINI_HALOS to True but INHOMO_RECO to False! Automatically setting INHOMO_RECO to True.\n",
      "2024-04-15 10:32:52,066 | WARNING | inputs.py::INHOMO_RECO() | You have set USE_MINI_HALOS to True but INHOMO_RECO to False! Automatically setting INHOMO_RECO to True.\n",
      "2024-04-15 10:32:52,272 | WARNING | inputs.py::INHOMO_RECO() | You have set USE_MINI_HALOS to True but INHOMO_RECO to False! Automatically setting INHOMO_RECO to True.\n",
      "2024-04-15 10:32:52,275 | WARNING | inputs.py::INHOMO_RECO() | You have set USE_MINI_HALOS to True but INHOMO_RECO to False! Automatically setting INHOMO_RECO to True.\n",
      "2024-04-15 10:32:52,277 | WARNING | inputs.py::INHOMO_RECO() | You have set USE_MINI_HALOS to True but INHOMO_RECO to False! Automatically setting INHOMO_RECO to True.\n",
      "2024-04-15 10:32:52,278 | WARNING | inputs.py::INHOMO_RECO() | You have set USE_MINI_HALOS to True but INHOMO_RECO to False! Automatically setting INHOMO_RECO to True.\n",
      "2024-04-15 10:32:52,278 | WARNING | inputs.py::INHOMO_RECO() | You have set USE_MINI_HALOS to True but INHOMO_RECO to False! Automatically setting INHOMO_RECO to True.\n",
      "2024-04-15 10:32:52,279 | WARNING | inputs.py::validate_all_inputs() | USE_MINI_HALOS needs USE_RELATIVE_VELOCITIES to get the right evolution!\n",
      "2024-04-15 10:32:52,280 | WARNING | inputs.py::INHOMO_RECO() | You have set USE_MINI_HALOS to True but INHOMO_RECO to False! Automatically setting INHOMO_RECO to True.\n",
      "2024-04-15 10:32:52,282 | WARNING | inputs.py::INHOMO_RECO() | You have set USE_MINI_HALOS to True but INHOMO_RECO to False! Automatically setting INHOMO_RECO to True.\n",
      "2024-04-15 10:32:57,870 | WARNING | inputs.py::INHOMO_RECO() | You have set USE_MINI_HALOS to True but INHOMO_RECO to False! Automatically setting INHOMO_RECO to True.\n",
      "2024-04-15 10:32:57,895 | WARNING | inputs.py::INHOMO_RECO() | You have set USE_MINI_HALOS to True but INHOMO_RECO to False! Automatically setting INHOMO_RECO to True.\n",
      "2024-04-15 10:32:57,896 | WARNING | inputs.py::INHOMO_RECO() | You have set USE_MINI_HALOS to True but INHOMO_RECO to False! Automatically setting INHOMO_RECO to True.\n",
      "2024-04-15 10:32:57,897 | WARNING | inputs.py::INHOMO_RECO() | You have set USE_MINI_HALOS to True but INHOMO_RECO to False! Automatically setting INHOMO_RECO to True.\n",
      "2024-04-15 10:32:57,898 | WARNING | inputs.py::INHOMO_RECO() | You have set USE_MINI_HALOS to True but INHOMO_RECO to False! Automatically setting INHOMO_RECO to True.\n",
      "2024-04-15 10:32:57,899 | WARNING | inputs.py::INHOMO_RECO() | You have set USE_MINI_HALOS to True but INHOMO_RECO to False! Automatically setting INHOMO_RECO to True.\n"
     ]
    },
    {
     "name": "stderr",
     "output_type": "stream",
     "text": [
      "2024-04-15 10:32:57,899 | WARNING | inputs.py::validate_all_inputs() | USE_MINI_HALOS needs USE_RELATIVE_VELOCITIES to get the right evolution!\n",
      "2024-04-15 10:32:57,900 | WARNING | inputs.py::INHOMO_RECO() | You have set USE_MINI_HALOS to True but INHOMO_RECO to False! Automatically setting INHOMO_RECO to True.\n",
      "2024-04-15 10:32:57,904 | WARNING | inputs.py::INHOMO_RECO() | You have set USE_MINI_HALOS to True but INHOMO_RECO to False! Automatically setting INHOMO_RECO to True.\n",
      "2024-04-15 10:32:57,905 | WARNING | inputs.py::INHOMO_RECO() | You have set USE_MINI_HALOS to True but INHOMO_RECO to False! Automatically setting INHOMO_RECO to True.\n",
      "2024-04-15 10:33:34,287 | WARNING | inputs.py::INHOMO_RECO() | You have set USE_MINI_HALOS to True but INHOMO_RECO to False! Automatically setting INHOMO_RECO to True.\n",
      "2024-04-15 10:33:34,498 | WARNING | inputs.py::INHOMO_RECO() | You have set USE_MINI_HALOS to True but INHOMO_RECO to False! Automatically setting INHOMO_RECO to True.\n",
      "2024-04-15 10:33:34,499 | WARNING | inputs.py::INHOMO_RECO() | You have set USE_MINI_HALOS to True but INHOMO_RECO to False! Automatically setting INHOMO_RECO to True.\n",
      "2024-04-15 10:33:34,501 | WARNING | inputs.py::INHOMO_RECO() | You have set USE_MINI_HALOS to True but INHOMO_RECO to False! Automatically setting INHOMO_RECO to True.\n",
      "2024-04-15 10:33:34,502 | WARNING | inputs.py::INHOMO_RECO() | You have set USE_MINI_HALOS to True but INHOMO_RECO to False! Automatically setting INHOMO_RECO to True.\n",
      "2024-04-15 10:33:34,503 | WARNING | inputs.py::INHOMO_RECO() | You have set USE_MINI_HALOS to True but INHOMO_RECO to False! Automatically setting INHOMO_RECO to True.\n",
      "2024-04-15 10:33:34,503 | WARNING | inputs.py::validate_all_inputs() | USE_MINI_HALOS needs USE_RELATIVE_VELOCITIES to get the right evolution!\n",
      "2024-04-15 10:33:34,504 | WARNING | inputs.py::INHOMO_RECO() | You have set USE_MINI_HALOS to True but INHOMO_RECO to False! Automatically setting INHOMO_RECO to True.\n",
      "2024-04-15 10:33:34,507 | WARNING | inputs.py::INHOMO_RECO() | You have set USE_MINI_HALOS to True but INHOMO_RECO to False! Automatically setting INHOMO_RECO to True.\n",
      "2024-04-15 10:33:40,206 | WARNING | inputs.py::INHOMO_RECO() | You have set USE_MINI_HALOS to True but INHOMO_RECO to False! Automatically setting INHOMO_RECO to True.\n",
      "2024-04-15 10:33:40,235 | WARNING | inputs.py::INHOMO_RECO() | You have set USE_MINI_HALOS to True but INHOMO_RECO to False! Automatically setting INHOMO_RECO to True.\n",
      "2024-04-15 10:33:40,235 | WARNING | inputs.py::INHOMO_RECO() | You have set USE_MINI_HALOS to True but INHOMO_RECO to False! Automatically setting INHOMO_RECO to True.\n",
      "2024-04-15 10:33:40,236 | WARNING | inputs.py::INHOMO_RECO() | You have set USE_MINI_HALOS to True but INHOMO_RECO to False! Automatically setting INHOMO_RECO to True.\n",
      "2024-04-15 10:33:40,237 | WARNING | inputs.py::INHOMO_RECO() | You have set USE_MINI_HALOS to True but INHOMO_RECO to False! Automatically setting INHOMO_RECO to True.\n",
      "2024-04-15 10:33:40,238 | WARNING | inputs.py::INHOMO_RECO() | You have set USE_MINI_HALOS to True but INHOMO_RECO to False! Automatically setting INHOMO_RECO to True.\n",
      "2024-04-15 10:33:40,239 | WARNING | inputs.py::validate_all_inputs() | USE_MINI_HALOS needs USE_RELATIVE_VELOCITIES to get the right evolution!\n",
      "2024-04-15 10:33:40,240 | WARNING | inputs.py::INHOMO_RECO() | You have set USE_MINI_HALOS to True but INHOMO_RECO to False! Automatically setting INHOMO_RECO to True.\n",
      "2024-04-15 10:33:40,242 | WARNING | inputs.py::INHOMO_RECO() | You have set USE_MINI_HALOS to True but INHOMO_RECO to False! Automatically setting INHOMO_RECO to True.\n",
      "2024-04-15 10:33:40,243 | WARNING | inputs.py::INHOMO_RECO() | You have set USE_MINI_HALOS to True but INHOMO_RECO to False! Automatically setting INHOMO_RECO to True.\n",
      "2024-04-15 10:34:16,051 | WARNING | inputs.py::INHOMO_RECO() | You have set USE_MINI_HALOS to True but INHOMO_RECO to False! Automatically setting INHOMO_RECO to True.\n",
      "2024-04-15 10:34:16,288 | WARNING | inputs.py::INHOMO_RECO() | You have set USE_MINI_HALOS to True but INHOMO_RECO to False! Automatically setting INHOMO_RECO to True.\n",
      "2024-04-15 10:34:16,290 | WARNING | inputs.py::INHOMO_RECO() | You have set USE_MINI_HALOS to True but INHOMO_RECO to False! Automatically setting INHOMO_RECO to True.\n",
      "2024-04-15 10:34:16,292 | WARNING | inputs.py::INHOMO_RECO() | You have set USE_MINI_HALOS to True but INHOMO_RECO to False! Automatically setting INHOMO_RECO to True.\n",
      "2024-04-15 10:34:16,292 | WARNING | inputs.py::INHOMO_RECO() | You have set USE_MINI_HALOS to True but INHOMO_RECO to False! Automatically setting INHOMO_RECO to True.\n",
      "2024-04-15 10:34:16,293 | WARNING | inputs.py::INHOMO_RECO() | You have set USE_MINI_HALOS to True but INHOMO_RECO to False! Automatically setting INHOMO_RECO to True.\n",
      "2024-04-15 10:34:16,294 | WARNING | inputs.py::validate_all_inputs() | USE_MINI_HALOS needs USE_RELATIVE_VELOCITIES to get the right evolution!\n",
      "2024-04-15 10:34:16,295 | WARNING | inputs.py::INHOMO_RECO() | You have set USE_MINI_HALOS to True but INHOMO_RECO to False! Automatically setting INHOMO_RECO to True.\n",
      "2024-04-15 10:34:16,297 | WARNING | inputs.py::INHOMO_RECO() | You have set USE_MINI_HALOS to True but INHOMO_RECO to False! Automatically setting INHOMO_RECO to True.\n",
      "2024-04-15 10:34:21,768 | WARNING | inputs.py::INHOMO_RECO() | You have set USE_MINI_HALOS to True but INHOMO_RECO to False! Automatically setting INHOMO_RECO to True.\n",
      "2024-04-15 10:34:21,798 | WARNING | inputs.py::INHOMO_RECO() | You have set USE_MINI_HALOS to True but INHOMO_RECO to False! Automatically setting INHOMO_RECO to True.\n",
      "2024-04-15 10:34:21,798 | WARNING | inputs.py::INHOMO_RECO() | You have set USE_MINI_HALOS to True but INHOMO_RECO to False! Automatically setting INHOMO_RECO to True.\n",
      "2024-04-15 10:34:21,799 | WARNING | inputs.py::INHOMO_RECO() | You have set USE_MINI_HALOS to True but INHOMO_RECO to False! Automatically setting INHOMO_RECO to True.\n",
      "2024-04-15 10:34:21,800 | WARNING | inputs.py::INHOMO_RECO() | You have set USE_MINI_HALOS to True but INHOMO_RECO to False! Automatically setting INHOMO_RECO to True.\n",
      "2024-04-15 10:34:21,801 | WARNING | inputs.py::INHOMO_RECO() | You have set USE_MINI_HALOS to True but INHOMO_RECO to False! Automatically setting INHOMO_RECO to True.\n",
      "2024-04-15 10:34:21,801 | WARNING | inputs.py::validate_all_inputs() | USE_MINI_HALOS needs USE_RELATIVE_VELOCITIES to get the right evolution!\n",
      "2024-04-15 10:34:21,802 | WARNING | inputs.py::INHOMO_RECO() | You have set USE_MINI_HALOS to True but INHOMO_RECO to False! Automatically setting INHOMO_RECO to True.\n",
      "2024-04-15 10:34:21,805 | WARNING | inputs.py::INHOMO_RECO() | You have set USE_MINI_HALOS to True but INHOMO_RECO to False! Automatically setting INHOMO_RECO to True.\n",
      "2024-04-15 10:34:21,805 | WARNING | inputs.py::INHOMO_RECO() | You have set USE_MINI_HALOS to True but INHOMO_RECO to False! Automatically setting INHOMO_RECO to True.\n",
      "2024-04-15 10:34:59,783 | WARNING | inputs.py::INHOMO_RECO() | You have set USE_MINI_HALOS to True but INHOMO_RECO to False! Automatically setting INHOMO_RECO to True.\n",
      "2024-04-15 10:35:00,012 | WARNING | inputs.py::INHOMO_RECO() | You have set USE_MINI_HALOS to True but INHOMO_RECO to False! Automatically setting INHOMO_RECO to True.\n",
      "2024-04-15 10:35:00,013 | WARNING | inputs.py::INHOMO_RECO() | You have set USE_MINI_HALOS to True but INHOMO_RECO to False! Automatically setting INHOMO_RECO to True.\n",
      "2024-04-15 10:35:00,015 | WARNING | inputs.py::INHOMO_RECO() | You have set USE_MINI_HALOS to True but INHOMO_RECO to False! Automatically setting INHOMO_RECO to True.\n",
      "2024-04-15 10:35:00,016 | WARNING | inputs.py::INHOMO_RECO() | You have set USE_MINI_HALOS to True but INHOMO_RECO to False! Automatically setting INHOMO_RECO to True.\n",
      "2024-04-15 10:35:00,017 | WARNING | inputs.py::INHOMO_RECO() | You have set USE_MINI_HALOS to True but INHOMO_RECO to False! Automatically setting INHOMO_RECO to True.\n",
      "2024-04-15 10:35:00,017 | WARNING | inputs.py::validate_all_inputs() | USE_MINI_HALOS needs USE_RELATIVE_VELOCITIES to get the right evolution!\n",
      "2024-04-15 10:35:00,018 | WARNING | inputs.py::INHOMO_RECO() | You have set USE_MINI_HALOS to True but INHOMO_RECO to False! Automatically setting INHOMO_RECO to True.\n"
     ]
    },
    {
     "name": "stderr",
     "output_type": "stream",
     "text": [
      "2024-04-15 10:35:00,020 | WARNING | inputs.py::INHOMO_RECO() | You have set USE_MINI_HALOS to True but INHOMO_RECO to False! Automatically setting INHOMO_RECO to True.\n",
      "2024-04-15 10:35:05,475 | WARNING | inputs.py::INHOMO_RECO() | You have set USE_MINI_HALOS to True but INHOMO_RECO to False! Automatically setting INHOMO_RECO to True.\n",
      "2024-04-15 10:35:05,506 | WARNING | inputs.py::INHOMO_RECO() | You have set USE_MINI_HALOS to True but INHOMO_RECO to False! Automatically setting INHOMO_RECO to True.\n",
      "2024-04-15 10:35:05,507 | WARNING | inputs.py::INHOMO_RECO() | You have set USE_MINI_HALOS to True but INHOMO_RECO to False! Automatically setting INHOMO_RECO to True.\n",
      "2024-04-15 10:35:05,508 | WARNING | inputs.py::INHOMO_RECO() | You have set USE_MINI_HALOS to True but INHOMO_RECO to False! Automatically setting INHOMO_RECO to True.\n",
      "2024-04-15 10:35:05,509 | WARNING | inputs.py::INHOMO_RECO() | You have set USE_MINI_HALOS to True but INHOMO_RECO to False! Automatically setting INHOMO_RECO to True.\n",
      "2024-04-15 10:35:05,510 | WARNING | inputs.py::INHOMO_RECO() | You have set USE_MINI_HALOS to True but INHOMO_RECO to False! Automatically setting INHOMO_RECO to True.\n",
      "2024-04-15 10:35:05,511 | WARNING | inputs.py::validate_all_inputs() | USE_MINI_HALOS needs USE_RELATIVE_VELOCITIES to get the right evolution!\n",
      "2024-04-15 10:35:05,512 | WARNING | inputs.py::INHOMO_RECO() | You have set USE_MINI_HALOS to True but INHOMO_RECO to False! Automatically setting INHOMO_RECO to True.\n",
      "2024-04-15 10:35:05,514 | WARNING | inputs.py::INHOMO_RECO() | You have set USE_MINI_HALOS to True but INHOMO_RECO to False! Automatically setting INHOMO_RECO to True.\n",
      "2024-04-15 10:35:05,515 | WARNING | inputs.py::INHOMO_RECO() | You have set USE_MINI_HALOS to True but INHOMO_RECO to False! Automatically setting INHOMO_RECO to True.\n",
      "2024-04-15 10:35:41,375 | WARNING | inputs.py::INHOMO_RECO() | You have set USE_MINI_HALOS to True but INHOMO_RECO to False! Automatically setting INHOMO_RECO to True.\n",
      "2024-04-15 10:35:41,616 | WARNING | inputs.py::INHOMO_RECO() | You have set USE_MINI_HALOS to True but INHOMO_RECO to False! Automatically setting INHOMO_RECO to True.\n",
      "2024-04-15 10:35:41,620 | WARNING | inputs.py::INHOMO_RECO() | You have set USE_MINI_HALOS to True but INHOMO_RECO to False! Automatically setting INHOMO_RECO to True.\n",
      "2024-04-15 10:35:41,623 | WARNING | inputs.py::INHOMO_RECO() | You have set USE_MINI_HALOS to True but INHOMO_RECO to False! Automatically setting INHOMO_RECO to True.\n",
      "2024-04-15 10:35:41,623 | WARNING | inputs.py::INHOMO_RECO() | You have set USE_MINI_HALOS to True but INHOMO_RECO to False! Automatically setting INHOMO_RECO to True.\n",
      "2024-04-15 10:35:41,624 | WARNING | inputs.py::INHOMO_RECO() | You have set USE_MINI_HALOS to True but INHOMO_RECO to False! Automatically setting INHOMO_RECO to True.\n",
      "2024-04-15 10:35:41,625 | WARNING | inputs.py::validate_all_inputs() | USE_MINI_HALOS needs USE_RELATIVE_VELOCITIES to get the right evolution!\n",
      "2024-04-15 10:35:41,626 | WARNING | inputs.py::INHOMO_RECO() | You have set USE_MINI_HALOS to True but INHOMO_RECO to False! Automatically setting INHOMO_RECO to True.\n",
      "2024-04-15 10:35:41,628 | WARNING | inputs.py::INHOMO_RECO() | You have set USE_MINI_HALOS to True but INHOMO_RECO to False! Automatically setting INHOMO_RECO to True.\n",
      "2024-04-15 10:35:47,184 | WARNING | inputs.py::INHOMO_RECO() | You have set USE_MINI_HALOS to True but INHOMO_RECO to False! Automatically setting INHOMO_RECO to True.\n",
      "2024-04-15 10:35:47,208 | WARNING | inputs.py::INHOMO_RECO() | You have set USE_MINI_HALOS to True but INHOMO_RECO to False! Automatically setting INHOMO_RECO to True.\n",
      "2024-04-15 10:35:47,209 | WARNING | inputs.py::INHOMO_RECO() | You have set USE_MINI_HALOS to True but INHOMO_RECO to False! Automatically setting INHOMO_RECO to True.\n",
      "2024-04-15 10:35:47,210 | WARNING | inputs.py::INHOMO_RECO() | You have set USE_MINI_HALOS to True but INHOMO_RECO to False! Automatically setting INHOMO_RECO to True.\n",
      "2024-04-15 10:35:47,211 | WARNING | inputs.py::INHOMO_RECO() | You have set USE_MINI_HALOS to True but INHOMO_RECO to False! Automatically setting INHOMO_RECO to True.\n",
      "2024-04-15 10:35:47,212 | WARNING | inputs.py::INHOMO_RECO() | You have set USE_MINI_HALOS to True but INHOMO_RECO to False! Automatically setting INHOMO_RECO to True.\n",
      "2024-04-15 10:35:47,213 | WARNING | inputs.py::validate_all_inputs() | USE_MINI_HALOS needs USE_RELATIVE_VELOCITIES to get the right evolution!\n",
      "2024-04-15 10:35:47,214 | WARNING | inputs.py::INHOMO_RECO() | You have set USE_MINI_HALOS to True but INHOMO_RECO to False! Automatically setting INHOMO_RECO to True.\n",
      "2024-04-15 10:35:47,216 | WARNING | inputs.py::INHOMO_RECO() | You have set USE_MINI_HALOS to True but INHOMO_RECO to False! Automatically setting INHOMO_RECO to True.\n",
      "2024-04-15 10:35:47,217 | WARNING | inputs.py::INHOMO_RECO() | You have set USE_MINI_HALOS to True but INHOMO_RECO to False! Automatically setting INHOMO_RECO to True.\n",
      "2024-04-15 10:36:24,206 | WARNING | inputs.py::INHOMO_RECO() | You have set USE_MINI_HALOS to True but INHOMO_RECO to False! Automatically setting INHOMO_RECO to True.\n",
      "2024-04-15 10:36:24,429 | WARNING | inputs.py::INHOMO_RECO() | You have set USE_MINI_HALOS to True but INHOMO_RECO to False! Automatically setting INHOMO_RECO to True.\n",
      "2024-04-15 10:36:24,430 | WARNING | inputs.py::INHOMO_RECO() | You have set USE_MINI_HALOS to True but INHOMO_RECO to False! Automatically setting INHOMO_RECO to True.\n",
      "2024-04-15 10:36:24,432 | WARNING | inputs.py::INHOMO_RECO() | You have set USE_MINI_HALOS to True but INHOMO_RECO to False! Automatically setting INHOMO_RECO to True.\n",
      "2024-04-15 10:36:24,432 | WARNING | inputs.py::INHOMO_RECO() | You have set USE_MINI_HALOS to True but INHOMO_RECO to False! Automatically setting INHOMO_RECO to True.\n",
      "2024-04-15 10:36:24,433 | WARNING | inputs.py::INHOMO_RECO() | You have set USE_MINI_HALOS to True but INHOMO_RECO to False! Automatically setting INHOMO_RECO to True.\n",
      "2024-04-15 10:36:24,434 | WARNING | inputs.py::validate_all_inputs() | USE_MINI_HALOS needs USE_RELATIVE_VELOCITIES to get the right evolution!\n",
      "2024-04-15 10:36:24,435 | WARNING | inputs.py::INHOMO_RECO() | You have set USE_MINI_HALOS to True but INHOMO_RECO to False! Automatically setting INHOMO_RECO to True.\n",
      "2024-04-15 10:36:24,437 | WARNING | inputs.py::INHOMO_RECO() | You have set USE_MINI_HALOS to True but INHOMO_RECO to False! Automatically setting INHOMO_RECO to True.\n",
      "2024-04-15 10:36:30,416 | WARNING | inputs.py::INHOMO_RECO() | You have set USE_MINI_HALOS to True but INHOMO_RECO to False! Automatically setting INHOMO_RECO to True.\n",
      "2024-04-15 10:36:30,449 | WARNING | inputs.py::INHOMO_RECO() | You have set USE_MINI_HALOS to True but INHOMO_RECO to False! Automatically setting INHOMO_RECO to True.\n",
      "2024-04-15 10:36:30,450 | WARNING | inputs.py::INHOMO_RECO() | You have set USE_MINI_HALOS to True but INHOMO_RECO to False! Automatically setting INHOMO_RECO to True.\n",
      "2024-04-15 10:36:30,451 | WARNING | inputs.py::INHOMO_RECO() | You have set USE_MINI_HALOS to True but INHOMO_RECO to False! Automatically setting INHOMO_RECO to True.\n",
      "2024-04-15 10:36:30,452 | WARNING | inputs.py::INHOMO_RECO() | You have set USE_MINI_HALOS to True but INHOMO_RECO to False! Automatically setting INHOMO_RECO to True.\n",
      "2024-04-15 10:36:30,453 | WARNING | inputs.py::INHOMO_RECO() | You have set USE_MINI_HALOS to True but INHOMO_RECO to False! Automatically setting INHOMO_RECO to True.\n",
      "2024-04-15 10:36:30,454 | WARNING | inputs.py::validate_all_inputs() | USE_MINI_HALOS needs USE_RELATIVE_VELOCITIES to get the right evolution!\n",
      "2024-04-15 10:36:30,455 | WARNING | inputs.py::INHOMO_RECO() | You have set USE_MINI_HALOS to True but INHOMO_RECO to False! Automatically setting INHOMO_RECO to True.\n",
      "2024-04-15 10:36:30,457 | WARNING | inputs.py::INHOMO_RECO() | You have set USE_MINI_HALOS to True but INHOMO_RECO to False! Automatically setting INHOMO_RECO to True.\n",
      "2024-04-15 10:36:30,458 | WARNING | inputs.py::INHOMO_RECO() | You have set USE_MINI_HALOS to True but INHOMO_RECO to False! Automatically setting INHOMO_RECO to True.\n",
      "2024-04-15 10:37:10,159 | WARNING | inputs.py::INHOMO_RECO() | You have set USE_MINI_HALOS to True but INHOMO_RECO to False! Automatically setting INHOMO_RECO to True.\n"
     ]
    },
    {
     "name": "stderr",
     "output_type": "stream",
     "text": [
      "2024-04-15 10:37:10,346 | WARNING | inputs.py::INHOMO_RECO() | You have set USE_MINI_HALOS to True but INHOMO_RECO to False! Automatically setting INHOMO_RECO to True.\n",
      "2024-04-15 10:37:10,348 | WARNING | inputs.py::INHOMO_RECO() | You have set USE_MINI_HALOS to True but INHOMO_RECO to False! Automatically setting INHOMO_RECO to True.\n",
      "2024-04-15 10:37:10,350 | WARNING | inputs.py::INHOMO_RECO() | You have set USE_MINI_HALOS to True but INHOMO_RECO to False! Automatically setting INHOMO_RECO to True.\n",
      "2024-04-15 10:37:10,351 | WARNING | inputs.py::INHOMO_RECO() | You have set USE_MINI_HALOS to True but INHOMO_RECO to False! Automatically setting INHOMO_RECO to True.\n",
      "2024-04-15 10:37:10,352 | WARNING | inputs.py::INHOMO_RECO() | You have set USE_MINI_HALOS to True but INHOMO_RECO to False! Automatically setting INHOMO_RECO to True.\n",
      "2024-04-15 10:37:10,352 | WARNING | inputs.py::validate_all_inputs() | USE_MINI_HALOS needs USE_RELATIVE_VELOCITIES to get the right evolution!\n",
      "2024-04-15 10:37:10,353 | WARNING | inputs.py::INHOMO_RECO() | You have set USE_MINI_HALOS to True but INHOMO_RECO to False! Automatically setting INHOMO_RECO to True.\n",
      "2024-04-15 10:37:10,356 | WARNING | inputs.py::INHOMO_RECO() | You have set USE_MINI_HALOS to True but INHOMO_RECO to False! Automatically setting INHOMO_RECO to True.\n",
      "2024-04-15 10:37:16,527 | WARNING | inputs.py::INHOMO_RECO() | You have set USE_MINI_HALOS to True but INHOMO_RECO to False! Automatically setting INHOMO_RECO to True.\n",
      "2024-04-15 10:37:16,551 | WARNING | inputs.py::INHOMO_RECO() | You have set USE_MINI_HALOS to True but INHOMO_RECO to False! Automatically setting INHOMO_RECO to True.\n",
      "2024-04-15 10:37:16,552 | WARNING | inputs.py::INHOMO_RECO() | You have set USE_MINI_HALOS to True but INHOMO_RECO to False! Automatically setting INHOMO_RECO to True.\n",
      "2024-04-15 10:37:16,552 | WARNING | inputs.py::INHOMO_RECO() | You have set USE_MINI_HALOS to True but INHOMO_RECO to False! Automatically setting INHOMO_RECO to True.\n",
      "2024-04-15 10:37:16,553 | WARNING | inputs.py::INHOMO_RECO() | You have set USE_MINI_HALOS to True but INHOMO_RECO to False! Automatically setting INHOMO_RECO to True.\n",
      "2024-04-15 10:37:16,554 | WARNING | inputs.py::INHOMO_RECO() | You have set USE_MINI_HALOS to True but INHOMO_RECO to False! Automatically setting INHOMO_RECO to True.\n",
      "2024-04-15 10:37:16,554 | WARNING | inputs.py::validate_all_inputs() | USE_MINI_HALOS needs USE_RELATIVE_VELOCITIES to get the right evolution!\n",
      "2024-04-15 10:37:16,555 | WARNING | inputs.py::INHOMO_RECO() | You have set USE_MINI_HALOS to True but INHOMO_RECO to False! Automatically setting INHOMO_RECO to True.\n",
      "2024-04-15 10:37:16,557 | WARNING | inputs.py::INHOMO_RECO() | You have set USE_MINI_HALOS to True but INHOMO_RECO to False! Automatically setting INHOMO_RECO to True.\n",
      "2024-04-15 10:37:16,557 | WARNING | inputs.py::INHOMO_RECO() | You have set USE_MINI_HALOS to True but INHOMO_RECO to False! Automatically setting INHOMO_RECO to True.\n",
      "2024-04-15 10:37:54,894 | WARNING | inputs.py::INHOMO_RECO() | You have set USE_MINI_HALOS to True but INHOMO_RECO to False! Automatically setting INHOMO_RECO to True.\n",
      "2024-04-15 10:37:55,106 | WARNING | inputs.py::INHOMO_RECO() | You have set USE_MINI_HALOS to True but INHOMO_RECO to False! Automatically setting INHOMO_RECO to True.\n",
      "2024-04-15 10:37:55,108 | WARNING | inputs.py::INHOMO_RECO() | You have set USE_MINI_HALOS to True but INHOMO_RECO to False! Automatically setting INHOMO_RECO to True.\n",
      "2024-04-15 10:37:55,110 | WARNING | inputs.py::INHOMO_RECO() | You have set USE_MINI_HALOS to True but INHOMO_RECO to False! Automatically setting INHOMO_RECO to True.\n",
      "2024-04-15 10:37:55,111 | WARNING | inputs.py::INHOMO_RECO() | You have set USE_MINI_HALOS to True but INHOMO_RECO to False! Automatically setting INHOMO_RECO to True.\n",
      "2024-04-15 10:37:55,112 | WARNING | inputs.py::INHOMO_RECO() | You have set USE_MINI_HALOS to True but INHOMO_RECO to False! Automatically setting INHOMO_RECO to True.\n",
      "2024-04-15 10:37:55,112 | WARNING | inputs.py::validate_all_inputs() | USE_MINI_HALOS needs USE_RELATIVE_VELOCITIES to get the right evolution!\n",
      "2024-04-15 10:37:55,113 | WARNING | inputs.py::INHOMO_RECO() | You have set USE_MINI_HALOS to True but INHOMO_RECO to False! Automatically setting INHOMO_RECO to True.\n",
      "2024-04-15 10:37:55,115 | WARNING | inputs.py::INHOMO_RECO() | You have set USE_MINI_HALOS to True but INHOMO_RECO to False! Automatically setting INHOMO_RECO to True.\n",
      "2024-04-15 10:38:00,822 | WARNING | inputs.py::INHOMO_RECO() | You have set USE_MINI_HALOS to True but INHOMO_RECO to False! Automatically setting INHOMO_RECO to True.\n",
      "2024-04-15 10:38:00,846 | WARNING | inputs.py::INHOMO_RECO() | You have set USE_MINI_HALOS to True but INHOMO_RECO to False! Automatically setting INHOMO_RECO to True.\n",
      "2024-04-15 10:38:00,847 | WARNING | inputs.py::INHOMO_RECO() | You have set USE_MINI_HALOS to True but INHOMO_RECO to False! Automatically setting INHOMO_RECO to True.\n",
      "2024-04-15 10:38:00,848 | WARNING | inputs.py::INHOMO_RECO() | You have set USE_MINI_HALOS to True but INHOMO_RECO to False! Automatically setting INHOMO_RECO to True.\n",
      "2024-04-15 10:38:00,848 | WARNING | inputs.py::INHOMO_RECO() | You have set USE_MINI_HALOS to True but INHOMO_RECO to False! Automatically setting INHOMO_RECO to True.\n",
      "2024-04-15 10:38:00,849 | WARNING | inputs.py::INHOMO_RECO() | You have set USE_MINI_HALOS to True but INHOMO_RECO to False! Automatically setting INHOMO_RECO to True.\n",
      "2024-04-15 10:38:00,849 | WARNING | inputs.py::validate_all_inputs() | USE_MINI_HALOS needs USE_RELATIVE_VELOCITIES to get the right evolution!\n",
      "2024-04-15 10:38:00,850 | WARNING | inputs.py::INHOMO_RECO() | You have set USE_MINI_HALOS to True but INHOMO_RECO to False! Automatically setting INHOMO_RECO to True.\n",
      "2024-04-15 10:38:00,852 | WARNING | inputs.py::INHOMO_RECO() | You have set USE_MINI_HALOS to True but INHOMO_RECO to False! Automatically setting INHOMO_RECO to True.\n",
      "2024-04-15 10:38:00,852 | WARNING | inputs.py::INHOMO_RECO() | You have set USE_MINI_HALOS to True but INHOMO_RECO to False! Automatically setting INHOMO_RECO to True.\n",
      "2024-04-15 10:38:39,024 | WARNING | inputs.py::INHOMO_RECO() | You have set USE_MINI_HALOS to True but INHOMO_RECO to False! Automatically setting INHOMO_RECO to True.\n",
      "2024-04-15 10:38:39,221 | WARNING | inputs.py::INHOMO_RECO() | You have set USE_MINI_HALOS to True but INHOMO_RECO to False! Automatically setting INHOMO_RECO to True.\n",
      "2024-04-15 10:38:39,223 | WARNING | inputs.py::INHOMO_RECO() | You have set USE_MINI_HALOS to True but INHOMO_RECO to False! Automatically setting INHOMO_RECO to True.\n",
      "2024-04-15 10:38:39,225 | WARNING | inputs.py::INHOMO_RECO() | You have set USE_MINI_HALOS to True but INHOMO_RECO to False! Automatically setting INHOMO_RECO to True.\n",
      "2024-04-15 10:38:39,226 | WARNING | inputs.py::INHOMO_RECO() | You have set USE_MINI_HALOS to True but INHOMO_RECO to False! Automatically setting INHOMO_RECO to True.\n",
      "2024-04-15 10:38:39,227 | WARNING | inputs.py::INHOMO_RECO() | You have set USE_MINI_HALOS to True but INHOMO_RECO to False! Automatically setting INHOMO_RECO to True.\n",
      "2024-04-15 10:38:39,227 | WARNING | inputs.py::validate_all_inputs() | USE_MINI_HALOS needs USE_RELATIVE_VELOCITIES to get the right evolution!\n",
      "2024-04-15 10:38:39,228 | WARNING | inputs.py::INHOMO_RECO() | You have set USE_MINI_HALOS to True but INHOMO_RECO to False! Automatically setting INHOMO_RECO to True.\n",
      "2024-04-15 10:38:39,230 | WARNING | inputs.py::INHOMO_RECO() | You have set USE_MINI_HALOS to True but INHOMO_RECO to False! Automatically setting INHOMO_RECO to True.\n",
      "2024-04-15 10:38:44,920 | WARNING | inputs.py::INHOMO_RECO() | You have set USE_MINI_HALOS to True but INHOMO_RECO to False! Automatically setting INHOMO_RECO to True.\n",
      "2024-04-15 10:38:44,943 | WARNING | inputs.py::INHOMO_RECO() | You have set USE_MINI_HALOS to True but INHOMO_RECO to False! Automatically setting INHOMO_RECO to True.\n",
      "2024-04-15 10:38:44,943 | WARNING | inputs.py::INHOMO_RECO() | You have set USE_MINI_HALOS to True but INHOMO_RECO to False! Automatically setting INHOMO_RECO to True.\n",
      "2024-04-15 10:38:44,944 | WARNING | inputs.py::INHOMO_RECO() | You have set USE_MINI_HALOS to True but INHOMO_RECO to False! Automatically setting INHOMO_RECO to True.\n"
     ]
    },
    {
     "name": "stderr",
     "output_type": "stream",
     "text": [
      "2024-04-15 10:38:44,945 | WARNING | inputs.py::INHOMO_RECO() | You have set USE_MINI_HALOS to True but INHOMO_RECO to False! Automatically setting INHOMO_RECO to True.\n",
      "2024-04-15 10:38:44,946 | WARNING | inputs.py::INHOMO_RECO() | You have set USE_MINI_HALOS to True but INHOMO_RECO to False! Automatically setting INHOMO_RECO to True.\n",
      "2024-04-15 10:38:44,946 | WARNING | inputs.py::validate_all_inputs() | USE_MINI_HALOS needs USE_RELATIVE_VELOCITIES to get the right evolution!\n",
      "2024-04-15 10:38:44,947 | WARNING | inputs.py::INHOMO_RECO() | You have set USE_MINI_HALOS to True but INHOMO_RECO to False! Automatically setting INHOMO_RECO to True.\n",
      "2024-04-15 10:38:44,950 | WARNING | inputs.py::INHOMO_RECO() | You have set USE_MINI_HALOS to True but INHOMO_RECO to False! Automatically setting INHOMO_RECO to True.\n",
      "2024-04-15 10:38:44,950 | WARNING | inputs.py::INHOMO_RECO() | You have set USE_MINI_HALOS to True but INHOMO_RECO to False! Automatically setting INHOMO_RECO to True.\n",
      "2024-04-15 10:39:23,388 | WARNING | inputs.py::INHOMO_RECO() | You have set USE_MINI_HALOS to True but INHOMO_RECO to False! Automatically setting INHOMO_RECO to True.\n",
      "2024-04-15 10:39:23,600 | WARNING | inputs.py::INHOMO_RECO() | You have set USE_MINI_HALOS to True but INHOMO_RECO to False! Automatically setting INHOMO_RECO to True.\n",
      "2024-04-15 10:39:23,601 | WARNING | inputs.py::INHOMO_RECO() | You have set USE_MINI_HALOS to True but INHOMO_RECO to False! Automatically setting INHOMO_RECO to True.\n",
      "2024-04-15 10:39:23,602 | WARNING | inputs.py::INHOMO_RECO() | You have set USE_MINI_HALOS to True but INHOMO_RECO to False! Automatically setting INHOMO_RECO to True.\n",
      "2024-04-15 10:39:23,604 | WARNING | inputs.py::INHOMO_RECO() | You have set USE_MINI_HALOS to True but INHOMO_RECO to False! Automatically setting INHOMO_RECO to True.\n",
      "2024-04-15 10:39:23,612 | WARNING | inputs.py::INHOMO_RECO() | You have set USE_MINI_HALOS to True but INHOMO_RECO to False! Automatically setting INHOMO_RECO to True.\n",
      "2024-04-15 10:39:23,628 | WARNING | inputs.py::INHOMO_RECO() | You have set USE_MINI_HALOS to True but INHOMO_RECO to False! Automatically setting INHOMO_RECO to True.\n",
      "2024-04-15 10:39:23,629 | WARNING | inputs.py::INHOMO_RECO() | You have set USE_MINI_HALOS to True but INHOMO_RECO to False! Automatically setting INHOMO_RECO to True.\n",
      "2024-04-15 10:39:23,630 | WARNING | inputs.py::INHOMO_RECO() | You have set USE_MINI_HALOS to True but INHOMO_RECO to False! Automatically setting INHOMO_RECO to True.\n",
      "2024-04-15 10:39:23,632 | WARNING | inputs.py::INHOMO_RECO() | You have set USE_MINI_HALOS to True but INHOMO_RECO to False! Automatically setting INHOMO_RECO to True.\n",
      "2024-04-15 10:39:23,633 | WARNING | inputs.py::INHOMO_RECO() | You have set USE_MINI_HALOS to True but INHOMO_RECO to False! Automatically setting INHOMO_RECO to True.\n",
      "2024-04-15 10:39:23,633 | WARNING | inputs.py::INHOMO_RECO() | You have set USE_MINI_HALOS to True but INHOMO_RECO to False! Automatically setting INHOMO_RECO to True.\n",
      "2024-04-15 10:39:23,634 | WARNING | inputs.py::INHOMO_RECO() | You have set USE_MINI_HALOS to True but INHOMO_RECO to False! Automatically setting INHOMO_RECO to True.\n",
      "2024-04-15 10:39:23,634 | WARNING | inputs.py::INHOMO_RECO() | You have set USE_MINI_HALOS to True but INHOMO_RECO to False! Automatically setting INHOMO_RECO to True.\n"
     ]
    }
   ],
   "source": [
    "coeval = p21c.run_coeval(\n",
    "    redshift = 6.0,\n",
    "    user_params = {\"HII_DIM\": 64, \"BOX_LEN\": 150, \"N_THREADS\": 4 },\n",
    "    flag_options={\"USE_TS_FLUCT\": True, \"M_MIN_in_Mass\":True , \"USE_HALO_FIELD\": False, \"USE_MINI_HALOS\": True , \"USE_MASS_DEPENDENT_ZETA\":True},\n",
    "    cosmo_params = { \"OMb\":0.0486, \n",
    "        \"OMm\": 0.31, \n",
    "        \"POWER_INDEX\": 0.97, \n",
    "        \"SIGMA_8\": 0.81, \n",
    "        \"hlittle\": 0.68, \n",
    "         },\n",
    " \n",
    "    regenerate=None,\n",
    "    write=None,\n",
    "    direc=None,\n",
    "    \n",
    ")"
   ]
  },
  {
   "cell_type": "code",
   "execution_count": 14,
   "id": "10debbf1",
   "metadata": {},
   "outputs": [
    {
     "data": {
      "text/plain": [
       "array([[[-6.10620528e-02,  7.20673800e-01,  5.98327398e-01, ...,\n",
       "          3.47140208e-02, -2.71776259e-01, -2.99528599e-01],\n",
       "        [-2.52201766e-01,  2.29814336e-01,  1.59666151e-01, ...,\n",
       "         -9.54231396e-02, -3.81108820e-01, -4.56827253e-01],\n",
       "        [-3.04434001e-01, -4.97752279e-02,  1.43215060e-02, ...,\n",
       "          5.33695668e-02, -2.30011046e-01, -4.08975959e-01],\n",
       "        ...,\n",
       "        [-2.20209956e-01, -1.10195205e-01,  1.56937651e-02, ...,\n",
       "         -1.95070654e-01,  7.26728141e-03,  1.20988954e-02],\n",
       "        [-1.53741121e-01,  3.35142910e-02,  1.57115221e-01, ...,\n",
       "         -5.54036796e-02,  2.05602229e-01, -7.70790577e-02],\n",
       "        [-7.08691478e-02,  5.03510177e-01,  3.70781600e-01, ...,\n",
       "         -7.69129768e-03,  1.05716966e-01, -7.97928050e-02]],\n",
       "\n",
       "       [[ 1.27266854e-01,  5.52764475e-01,  2.69139260e-01, ...,\n",
       "          1.61623403e-01, -1.47260815e-01, -1.87090084e-01],\n",
       "        [ 2.76229344e-02,  4.29694057e-01,  1.94049269e-01, ...,\n",
       "          1.31027356e-01, -1.58928409e-01, -3.29530746e-01],\n",
       "        [-2.74219215e-02,  2.32998312e-01,  1.12452090e-01, ...,\n",
       "          2.75658429e-01, -2.42391676e-02, -2.40294576e-01],\n",
       "        ...,\n",
       "        [-2.30370238e-01, -1.19690761e-01, -1.01170748e-01, ...,\n",
       "          1.08571745e-01,  2.22542122e-01,  9.59477797e-02],\n",
       "        [-1.03623442e-01,  1.60048038e-01, -8.70315284e-02, ...,\n",
       "         -3.71756926e-02,  9.78348255e-02, -2.05964334e-02],\n",
       "        [ 1.51497528e-01,  5.32641590e-01,  1.15499586e-01, ...,\n",
       "          4.00562026e-02, -2.03454643e-02, -3.11039183e-02]],\n",
       "\n",
       "       [[ 2.24422976e-01,  2.91402429e-01,  1.49387568e-01, ...,\n",
       "          2.10312501e-01,  8.67786631e-03,  1.14892259e-01],\n",
       "        [ 3.41679305e-01,  2.15850800e-01,  1.42379165e-01, ...,\n",
       "          1.64441541e-02, -6.07254058e-02,  9.44368988e-02],\n",
       "        [ 1.11431241e-01,  1.10848725e-01, -9.69803333e-03, ...,\n",
       "          2.98793428e-02, -6.30750954e-02, -6.49869144e-02],\n",
       "        ...,\n",
       "        [ 2.43239105e-03,  2.33570710e-02, -1.14322200e-01, ...,\n",
       "          1.99659795e-01,  3.19676369e-01,  1.11344725e-01],\n",
       "        [-2.88582593e-03,  1.98395699e-02, -9.95772779e-02, ...,\n",
       "          1.92157086e-02,  8.39938670e-02, -8.78252834e-03],\n",
       "        [ 1.24115705e-01,  1.87881842e-01,  3.98525596e-03, ...,\n",
       "          8.38440284e-02, -6.25694767e-02,  4.72490750e-02]],\n",
       "\n",
       "       ...,\n",
       "\n",
       "       [[-1.11378394e-01, -2.11938933e-01, -9.17848647e-02, ...,\n",
       "          4.29712564e-01,  3.78972948e-01,  9.88444686e-02],\n",
       "        [ 2.54632682e-02, -2.09349453e-01, -1.88048437e-01, ...,\n",
       "          2.08950281e-01,  2.39651561e-01,  2.34341562e-01],\n",
       "        [ 5.58253825e-02,  2.75191963e-02, -2.14916557e-01, ...,\n",
       "          1.22611068e-01,  6.59185767e-01,  3.53810251e-01],\n",
       "        ...,\n",
       "        [-8.57463777e-02, -2.72317588e-01, -1.29541054e-01, ...,\n",
       "          1.80867344e-01,  4.65033472e-01,  2.87653327e-01],\n",
       "        [-1.16799921e-01, -1.73861146e-01,  1.10314913e-01, ...,\n",
       "         -5.01933694e-03,  3.50389272e-01,  1.32103428e-01],\n",
       "        [-1.30209386e-01, -8.42430368e-02,  2.55286247e-01, ...,\n",
       "          2.80410916e-01,  4.56390262e-01,  6.56414479e-02]],\n",
       "\n",
       "       [[-1.48379564e-01,  2.43154913e-02,  2.31248289e-01, ...,\n",
       "          4.65996295e-01,  1.97627008e-01, -9.70295817e-02],\n",
       "        [-1.12450249e-01,  1.62947439e-02, -4.33573425e-02, ...,\n",
       "          6.83014691e-01,  4.76176292e-02, -8.42262954e-02],\n",
       "        [-9.73029360e-02,  5.51961362e-04, -1.99845523e-01, ...,\n",
       "          8.12217236e-01,  4.73268062e-01, -1.11713409e-02],\n",
       "        ...,\n",
       "        [-2.80398548e-01, -2.75616586e-01, -8.59557241e-02, ...,\n",
       "          1.55922025e-01,  1.58674359e-01, -9.11693648e-02],\n",
       "        [-2.48859450e-01, -2.91024923e-01,  1.07542634e-01, ...,\n",
       "          2.68802643e-02,  2.16177344e-01, -7.17375800e-03],\n",
       "        [-2.67234981e-01, -1.53887227e-01,  2.99050987e-01, ...,\n",
       "          1.25946879e-01,  3.19580495e-01, -1.29556537e-01]],\n",
       "\n",
       "       [[-1.18819758e-01,  5.19177794e-01,  8.43361557e-01, ...,\n",
       "          1.05077237e-01,  5.24811447e-03, -8.07796046e-02],\n",
       "        [-1.91908881e-01,  3.23069394e-01,  1.90501809e-01, ...,\n",
       "          2.53037959e-01, -2.92081028e-01, -2.52657294e-01],\n",
       "        [-1.70038894e-01,  6.88727796e-02, -2.08970010e-02, ...,\n",
       "          5.25546193e-01, -1.50763869e-01, -2.24712059e-01],\n",
       "        ...,\n",
       "        [-2.83889055e-01, -1.87177330e-01, -1.61819100e-01, ...,\n",
       "         -2.61236906e-01, -8.67909119e-02, -1.57458305e-01],\n",
       "        [-2.98391342e-01, -2.34143183e-01,  7.94519559e-02, ...,\n",
       "         -5.80608398e-02,  2.18862608e-01, -1.36256024e-01],\n",
       "        [-2.54944623e-01,  1.36185795e-01,  5.44532657e-01, ...,\n",
       "          3.78418714e-02,  3.75991076e-01, -7.22396523e-02]]],\n",
       "      dtype=float32)"
      ]
     },
     "execution_count": 14,
     "metadata": {},
     "output_type": "execute_result"
    }
   ],
   "source": [
    "coeval.density"
   ]
  },
  {
   "cell_type": "code",
   "execution_count": 15,
   "id": "fd5bbe02",
   "metadata": {},
   "outputs": [
    {
     "data": {
      "text/plain": [
       "(64, 64, 64)"
      ]
     },
     "execution_count": 15,
     "metadata": {},
     "output_type": "execute_result"
    }
   ],
   "source": [
    "coeval.density.shape"
   ]
  },
  {
   "cell_type": "code",
   "execution_count": 60,
   "id": "2f1a92fd",
   "metadata": {},
   "outputs": [
    {
     "data": {
      "text/plain": [
       "CosmoParams(OMb:0.0486, OMm:0.31, POWER_INDEX:0.97, SIGMA_8:0.81, hlittle:0.68)"
      ]
     },
     "execution_count": 60,
     "metadata": {},
     "output_type": "execute_result"
    }
   ],
   "source": [
    "# Parametros cosmologicos de Planck\n",
    "coeval.cosmo_params"
   ]
  },
  {
   "cell_type": "code",
   "execution_count": 17,
   "id": "f0e07150",
   "metadata": {},
   "outputs": [],
   "source": [
    "astro_params = AstroParams(\n",
    "        ALPHA_ESC=-0.5,\n",
    "        ALPHA_STAR=0.5,\n",
    "        F_ESC10=-1.30102999566,\n",
    "        F_STAR10=-1.0,\n",
    "        L_X=40.5,\n",
    "        M_TURN=8.7,\n",
    "        NU_X_THRESH=500.0,\n",
    "        X_RAY_SPEC_INDEX=1.0,\n",
    "        t_STAR=0.5,\n",
    "        R_BUBBLE_MAX=15.0,\n",
    "    )"
   ]
  },
  {
   "cell_type": "code",
   "execution_count": 18,
   "id": "1fea9917",
   "metadata": {},
   "outputs": [],
   "source": [
    " init_box = initial_conditions(\n",
    "        user_params=coeval.user_params,\n",
    "        cosmo_params=coeval.cosmo_params,\n",
    "        random_seed=coeval.random_seed,\n",
    "        regenerate=True,\n",
    "        write=False,\n",
    "    )"
   ]
  },
  {
   "cell_type": "code",
   "execution_count": 19,
   "id": "15377e28",
   "metadata": {},
   "outputs": [],
   "source": [
    "    pt_box = perturb_field(\n",
    "        redshift= coeval.redshift,\n",
    "        init_boxes=init_box,\n",
    "        user_params=coeval.user_params,\n",
    "        cosmo_params=coeval.cosmo_params,\n",
    "    )"
   ]
  },
  {
   "cell_type": "code",
   "execution_count": 56,
   "id": "59a77ba7",
   "metadata": {},
   "outputs": [
    {
     "data": {
      "text/plain": [
       "<bound method OutputStruct.ensure_arrays_computed of PerturbedField(UserParams(BOX_LEN:150, DIM:192, FAST_FCOLL_TABLES:False, HII_DIM:64, HMF:1, MINIMIZE_MEMORY:False, NON_CUBIC_FACTOR:1, NO_RNG:False, N_THREADS:4, PERTURB_ON_HIGH_RES:False, POWER_SPECTRUM:0, USE_2LPT:True, USE_FFTW_WISDOM:False, USE_INTERPOLATION_TABLES:True, USE_RELATIVE_VELOCITIES:False); CosmoParams(OMb:0.0486, OMm:0.31, POWER_INDEX:0.97, SIGMA_8:0.81, hlittle:0.68); redshift:6; GlobalParams(CRIT_DENS_TRANSITION=1.5;DELTA_CRIT_MODE=1;DELTA_R_FACTOR=1.100000023841858;EVOLVE_DENSITY_LINEARLY=0;FILTER=0;HALO_FILTER=0;INITIAL_REDSHIFT=300.0;MIN_DENSITY_LOW_LIMIT=9.000000034120603e-08;M_MAX_INTEGRAL=1.0000000272564224e+16;M_MIN_INTEGRAL=100000.0;M_WDM=2.0;NBINS_LF=100;OMk=0.0;OMn=0.0;OMr=8.600000001024455e-05;OMtot=1.0;OPTIMIZE=0;OPTIMIZE_MIN_MASS=99999997952.0;P_CUTOFF=0;PhotonConsAsymptoteTo=0.009999999776482582;PhotonConsEnd=0.30000001192092896;PhotonConsEndCalibz=3.5;PhotonConsStart=0.9950000047683716;R_BUBBLE_MIN=0.6203504800796509;R_OVERLAP_FACTOR=1.0;R_smooth_density=0.20000000298023224;RecombPhotonCons=0;SHETH_b=0.15000000596046448;SHETH_c=0.05000000074505806;SMOOTH_EVOLVED_DENSITY_FIELD=0;T_RE=20000.0;USE_ADIABATIC_FLUCTUATIONS=True;USE_FAST_ATOMIC=False;VAVG=25.860000610351562;Y_He=0.24500000476837158;Zreion_HeII=3.0;g_x=1.5;wl=-1.0); v3.3)_random_seed=321207935869>"
      ]
     },
     "execution_count": 56,
     "metadata": {},
     "output_type": "execute_result"
    }
   ],
   "source": [
    "  pt_box.ensure_arrays_computed"
   ]
  },
  {
   "cell_type": "code",
   "execution_count": 57,
   "id": "c7bbc3b8",
   "metadata": {},
   "outputs": [
    {
     "data": {
      "text/plain": [
       "<bound method OutputStruct.ensure_arrays_inited of PerturbedField(UserParams(BOX_LEN:150, DIM:192, FAST_FCOLL_TABLES:False, HII_DIM:64, HMF:1, MINIMIZE_MEMORY:False, NON_CUBIC_FACTOR:1, NO_RNG:False, N_THREADS:4, PERTURB_ON_HIGH_RES:False, POWER_SPECTRUM:0, USE_2LPT:True, USE_FFTW_WISDOM:False, USE_INTERPOLATION_TABLES:True, USE_RELATIVE_VELOCITIES:False); CosmoParams(OMb:0.0486, OMm:0.31, POWER_INDEX:0.97, SIGMA_8:0.81, hlittle:0.68); redshift:6; GlobalParams(CRIT_DENS_TRANSITION=1.5;DELTA_CRIT_MODE=1;DELTA_R_FACTOR=1.100000023841858;EVOLVE_DENSITY_LINEARLY=0;FILTER=0;HALO_FILTER=0;INITIAL_REDSHIFT=300.0;MIN_DENSITY_LOW_LIMIT=9.000000034120603e-08;M_MAX_INTEGRAL=1.0000000272564224e+16;M_MIN_INTEGRAL=100000.0;M_WDM=2.0;NBINS_LF=100;OMk=0.0;OMn=0.0;OMr=8.600000001024455e-05;OMtot=1.0;OPTIMIZE=0;OPTIMIZE_MIN_MASS=99999997952.0;P_CUTOFF=0;PhotonConsAsymptoteTo=0.009999999776482582;PhotonConsEnd=0.30000001192092896;PhotonConsEndCalibz=3.5;PhotonConsStart=0.9950000047683716;R_BUBBLE_MIN=0.6203504800796509;R_OVERLAP_FACTOR=1.0;R_smooth_density=0.20000000298023224;RecombPhotonCons=0;SHETH_b=0.15000000596046448;SHETH_c=0.05000000074505806;SMOOTH_EVOLVED_DENSITY_FIELD=0;T_RE=20000.0;USE_ADIABATIC_FLUCTUATIONS=True;USE_FAST_ATOMIC=False;VAVG=25.860000610351562;Y_He=0.24500000476837158;Zreion_HeII=3.0;g_x=1.5;wl=-1.0); v3.3)_random_seed=321207935869>"
      ]
     },
     "execution_count": 57,
     "metadata": {},
     "output_type": "execute_result"
    }
   ],
   "source": [
    "  pt_box.ensure_arrays_inited"
   ]
  },
  {
   "cell_type": "code",
   "execution_count": 58,
   "id": "a25a113c",
   "metadata": {},
   "outputs": [
    {
     "data": {
      "text/plain": [
       "<bound method OutputStruct.ensure_input_computed of PerturbedField(UserParams(BOX_LEN:150, DIM:192, FAST_FCOLL_TABLES:False, HII_DIM:64, HMF:1, MINIMIZE_MEMORY:False, NON_CUBIC_FACTOR:1, NO_RNG:False, N_THREADS:4, PERTURB_ON_HIGH_RES:False, POWER_SPECTRUM:0, USE_2LPT:True, USE_FFTW_WISDOM:False, USE_INTERPOLATION_TABLES:True, USE_RELATIVE_VELOCITIES:False); CosmoParams(OMb:0.0486, OMm:0.31, POWER_INDEX:0.97, SIGMA_8:0.81, hlittle:0.68); redshift:6; GlobalParams(CRIT_DENS_TRANSITION=1.5;DELTA_CRIT_MODE=1;DELTA_R_FACTOR=1.100000023841858;EVOLVE_DENSITY_LINEARLY=0;FILTER=0;HALO_FILTER=0;INITIAL_REDSHIFT=300.0;MIN_DENSITY_LOW_LIMIT=9.000000034120603e-08;M_MAX_INTEGRAL=1.0000000272564224e+16;M_MIN_INTEGRAL=100000.0;M_WDM=2.0;NBINS_LF=100;OMk=0.0;OMn=0.0;OMr=8.600000001024455e-05;OMtot=1.0;OPTIMIZE=0;OPTIMIZE_MIN_MASS=99999997952.0;P_CUTOFF=0;PhotonConsAsymptoteTo=0.009999999776482582;PhotonConsEnd=0.30000001192092896;PhotonConsEndCalibz=3.5;PhotonConsStart=0.9950000047683716;R_BUBBLE_MIN=0.6203504800796509;R_OVERLAP_FACTOR=1.0;R_smooth_density=0.20000000298023224;RecombPhotonCons=0;SHETH_b=0.15000000596046448;SHETH_c=0.05000000074505806;SMOOTH_EVOLVED_DENSITY_FIELD=0;T_RE=20000.0;USE_ADIABATIC_FLUCTUATIONS=True;USE_FAST_ATOMIC=False;VAVG=25.860000610351562;Y_He=0.24500000476837158;Zreion_HeII=3.0;g_x=1.5;wl=-1.0); v3.3)_random_seed=321207935869>"
      ]
     },
     "execution_count": 58,
     "metadata": {},
     "output_type": "execute_result"
    }
   ],
   "source": [
    "pt_box.ensure_input_computed"
   ]
  },
  {
   "cell_type": "code",
   "execution_count": 59,
   "id": "92826351",
   "metadata": {},
   "outputs": [
    {
     "data": {
      "text/plain": [
       "<bound method OutputStruct.ensure_arrays_computed of InitialConditions(UserParams(BOX_LEN:150, DIM:192, FAST_FCOLL_TABLES:False, HII_DIM:64, HMF:1, MINIMIZE_MEMORY:False, NON_CUBIC_FACTOR:1, NO_RNG:False, N_THREADS:4, PERTURB_ON_HIGH_RES:False, POWER_SPECTRUM:0, USE_2LPT:True, USE_FFTW_WISDOM:False, USE_INTERPOLATION_TABLES:True, USE_RELATIVE_VELOCITIES:False); CosmoParams(OMb:0.0486, OMm:0.31, POWER_INDEX:0.97, SIGMA_8:0.81, hlittle:0.68); GlobalParams(CRIT_DENS_TRANSITION=1.5;DELTA_CRIT_MODE=1;DELTA_R_FACTOR=1.100000023841858;FILTER=0;HALO_FILTER=0;MIN_DENSITY_LOW_LIMIT=9.000000034120603e-08;M_MAX_INTEGRAL=1.0000000272564224e+16;M_MIN_INTEGRAL=100000.0;M_WDM=2.0;NBINS_LF=100;OMk=0.0;OMn=0.0;OMr=8.600000001024455e-05;OMtot=1.0;OPTIMIZE=0;OPTIMIZE_MIN_MASS=99999997952.0;P_CUTOFF=0;PhotonConsAsymptoteTo=0.009999999776482582;PhotonConsEnd=0.30000001192092896;PhotonConsEndCalibz=3.5;PhotonConsStart=0.9950000047683716;R_BUBBLE_MIN=0.6203504800796509;R_OVERLAP_FACTOR=1.0;RecombPhotonCons=0;SHETH_b=0.15000000596046448;SHETH_c=0.05000000074505806;T_RE=20000.0;USE_ADIABATIC_FLUCTUATIONS=True;USE_FAST_ATOMIC=False;VAVG=25.860000610351562;Y_He=0.24500000476837158;Zreion_HeII=3.0;g_x=1.5;wl=-1.0); v3.3)_random_seed=321207935869>"
      ]
     },
     "execution_count": 59,
     "metadata": {},
     "output_type": "execute_result"
    }
   ],
   "source": [
    " init_box.ensure_arrays_computed"
   ]
  },
  {
   "cell_type": "markdown",
   "id": "fa287596",
   "metadata": {},
   "source": [
    "## Busco los Halos en el Coeval"
   ]
  },
  {
   "cell_type": "code",
   "execution_count": 20,
   "id": "4bad27b6",
   "metadata": {
    "scrolled": true
   },
   "outputs": [
    {
     "name": "stderr",
     "output_type": "stream",
     "text": [
      "2024-04-15 10:43:17,581 | WARNING | inputs.py::INHOMO_RECO() | You have set USE_MINI_HALOS to True but INHOMO_RECO to False! Automatically setting INHOMO_RECO to True.\n",
      "2024-04-15 10:43:17,582 | WARNING | inputs.py::R_BUBBLE_MAX() | You are setting R_BUBBLE_MAX != 50 when INHOMO_RECO=True. This is non-standard (but allowed), and usually occurs upon manual update of INHOMO_RECO\n",
      "2024-04-15 10:43:17,583 | WARNING | inputs.py::R_BUBBLE_MAX() | You are setting R_BUBBLE_MAX != 50 when INHOMO_RECO=True. This is non-standard (but allowed), and usually occurs upon manual update of INHOMO_RECO\n",
      "2024-04-15 10:43:17,583 | WARNING | inputs.py::validate_all_inputs() | USE_MINI_HALOS needs USE_RELATIVE_VELOCITIES to get the right evolution!\n",
      "2024-04-15 10:43:17,585 | WARNING | inputs.py::R_BUBBLE_MAX() | You are setting R_BUBBLE_MAX != 50 when INHOMO_RECO=True. This is non-standard (but allowed), and usually occurs upon manual update of INHOMO_RECO\n",
      "2024-04-15 10:43:17,585 | WARNING | inputs.py::INHOMO_RECO() | You have set USE_MINI_HALOS to True but INHOMO_RECO to False! Automatically setting INHOMO_RECO to True.\n"
     ]
    }
   ],
   "source": [
    "halos = determine_halo_list(\n",
    "        redshift= coeval.redshift ,\n",
    "        init_boxes= init_box,\n",
    "        user_params=coeval.user_params,\n",
    "        cosmo_params=coeval.cosmo_params,\n",
    "        astro_params=astro_params,\n",
    "        flag_options=coeval.flag_options,\n",
    "        regenerate=True,\n",
    "        write=False,\n",
    "        OPTIMIZE=False,\n",
    "    )\n"
   ]
  },
  {
   "cell_type": "code",
   "execution_count": 21,
   "id": "07c66d9b",
   "metadata": {},
   "outputs": [
    {
     "data": {
      "text/plain": [
       "array([2.77213696e+10, 8.70015468e+10, 6.53655532e+10, ...,\n",
       "       2.77213696e+10, 2.08274739e+10, 1.15799065e+11], dtype=float32)"
      ]
     },
     "execution_count": 21,
     "metadata": {},
     "output_type": "execute_result"
    }
   ],
   "source": [
    "halos.halo_masses"
   ]
  },
  {
   "cell_type": "code",
   "execution_count": 22,
   "id": "17362c71",
   "metadata": {},
   "outputs": [
    {
     "data": {
      "text/plain": [
       "True"
      ]
     },
     "execution_count": 22,
     "metadata": {},
     "output_type": "execute_result"
    }
   ],
   "source": [
    "halos.flag_options.M_MIN_in_Mass"
   ]
  },
  {
   "cell_type": "code",
   "execution_count": 23,
   "id": "c7ede9bd",
   "metadata": {
    "scrolled": true
   },
   "outputs": [
    {
     "data": {
      "text/plain": [
       "False"
      ]
     },
     "execution_count": 23,
     "metadata": {},
     "output_type": "execute_result"
    }
   ],
   "source": [
    "halos.flag_options.USE_HALO_FIELD"
   ]
  },
  {
   "cell_type": "code",
   "execution_count": 24,
   "id": "ba93f28c",
   "metadata": {},
   "outputs": [
    {
     "data": {
      "text/plain": [
       "True"
      ]
     },
     "execution_count": 24,
     "metadata": {},
     "output_type": "execute_result"
    }
   ],
   "source": [
    "halos.flag_options.USE_MINI_HALOS"
   ]
  },
  {
   "cell_type": "code",
   "execution_count": 48,
   "id": "f2e69b12",
   "metadata": {},
   "outputs": [
    {
     "data": {
      "text/plain": [
       "20827474000.0"
      ]
     },
     "execution_count": 48,
     "metadata": {},
     "output_type": "execute_result"
    }
   ],
   "source": [
    "halos.halo_masses.min()"
   ]
  },
  {
   "cell_type": "code",
   "execution_count": 50,
   "id": "6168258d",
   "metadata": {},
   "outputs": [
    {
     "data": {
      "text/plain": [
       "2689453800000.0"
      ]
     },
     "execution_count": 50,
     "metadata": {},
     "output_type": "execute_result"
    }
   ],
   "source": [
    "halos.halo_masses.max()"
   ]
  },
  {
   "cell_type": "code",
   "execution_count": 27,
   "id": "29dd3f20",
   "metadata": {},
   "outputs": [
    {
     "data": {
      "text/plain": [
       "array([[  0,   5, 143],\n",
       "       [  0,   7, 114],\n",
       "       [  0,   9,  90],\n",
       "       ...,\n",
       "       [191, 182,  96],\n",
       "       [191, 185, 109],\n",
       "       [191, 187,  70]], dtype=int32)"
      ]
     },
     "execution_count": 27,
     "metadata": {},
     "output_type": "execute_result"
    }
   ],
   "source": [
    "halos.halo_coords"
   ]
  },
  {
   "cell_type": "code",
   "execution_count": 28,
   "id": "c17c1c67",
   "metadata": {},
   "outputs": [
    {
     "data": {
      "text/plain": [
       "(23937, 3)"
      ]
     },
     "execution_count": 28,
     "metadata": {},
     "output_type": "execute_result"
    }
   ],
   "source": [
    "halos.halo_coords.shape"
   ]
  },
  {
   "cell_type": "code",
   "execution_count": 29,
   "id": "679708de",
   "metadata": {},
   "outputs": [
    {
     "data": {
      "text/plain": [
       "(23937,)"
      ]
     },
     "execution_count": 29,
     "metadata": {},
     "output_type": "execute_result"
    }
   ],
   "source": [
    "halos.halo_masses.shape"
   ]
  },
  {
   "cell_type": "code",
   "execution_count": 30,
   "id": "d3824f38",
   "metadata": {},
   "outputs": [
    {
     "data": {
      "text/plain": [
       "array([2.68945379e+12, 1.51812597e+12, 1.14059038e+12, 8.56942445e+11,\n",
       "       6.43833528e+11, 4.83721642e+11, 3.63427201e+11, 2.73048191e+11,\n",
       "       2.05145129e+11, 1.54128564e+11, 1.15799065e+11, 8.70015468e+10,\n",
       "       6.53655532e+10, 4.91101020e+10, 3.68971407e+10, 2.77213696e+10,\n",
       "       2.08274739e+10], dtype=float32)"
      ]
     },
     "execution_count": 30,
     "metadata": {},
     "output_type": "execute_result"
    }
   ],
   "source": [
    "halos.mass_bins"
   ]
  },
  {
   "cell_type": "code",
   "execution_count": 31,
   "id": "59604a3b",
   "metadata": {},
   "outputs": [
    {
     "data": {
      "text/plain": [
       "array([  0,   0,   0, ..., 191, 191, 191], dtype=int32)"
      ]
     },
     "execution_count": 31,
     "metadata": {},
     "output_type": "execute_result"
    }
   ],
   "source": [
    "halos.halo_coords [:,0]"
   ]
  },
  {
   "cell_type": "code",
   "execution_count": 32,
   "id": "cb54339d",
   "metadata": {},
   "outputs": [
    {
     "data": {
      "text/plain": [
       "AstroParams(ALPHA_ESC:-0.5, ALPHA_STAR:0.5, ALPHA_STAR_MINI:0.5, A_LW:2, A_VCB:1, BETA_LW:0.6, BETA_VCB:1.8, F_ESC10:0.1, F_ESC7_MINI:0.01, F_H2_SHIELD:0, F_STAR10:0.05012, F_STAR7_MINI:0.01, HII_EFF_FACTOR:30, ION_Tvir_MIN:50000, L_X:1e+40, L_X_MINI:1e+40, M_TURN:5.012e+08, NU_X_THRESH:500, N_RSD_STEPS:20, R_BUBBLE_MAX:50, X_RAY_SPEC_INDEX:1, X_RAY_Tvir_MIN:50000, t_STAR:0.5)"
      ]
     },
     "execution_count": 32,
     "metadata": {},
     "output_type": "execute_result"
    }
   ],
   "source": [
    "coeval.astro_params "
   ]
  },
  {
   "cell_type": "code",
   "execution_count": 33,
   "id": "9f4d9f7d",
   "metadata": {},
   "outputs": [
    {
     "data": {
      "text/plain": [
       "<matplotlib.collections.PathCollection at 0x7f9996043a90>"
      ]
     },
     "execution_count": 33,
     "metadata": {},
     "output_type": "execute_result"
    },
    {
     "data": {
      "image/png": "[encoded data removed]",
      "text/plain": [
       "<Figure size 640x480 with 1 Axes>"
      ]
     },
     "metadata": {},
     "output_type": "display_data"
    }
   ],
   "source": [
    "A = halos.halo_coords[:,0]\n",
    "B = halos.halo_coords[:,1]\n",
    "C = halos.halo_coords[:,2]\n",
    "\n",
    "plt.scatter(A,B )\n",
    "#plt.scatter(A,C)\n",
    "#plt.scatter(B,C)"
   ]
  },
  {
   "cell_type": "code",
   "execution_count": 34,
   "id": "f1b9ba10",
   "metadata": {},
   "outputs": [
    {
     "data": {
      "image/png": "[encoded data removed]",
      "text/plain": [
       "<Figure size 640x480 with 1 Axes>"
      ]
     },
     "metadata": {},
     "output_type": "display_data"
    }
   ],
   "source": [
    "plt.plot(A,B, '.')\n",
    "plt.show()"
   ]
  },
  {
   "cell_type": "code",
   "execution_count": 35,
   "id": "1b2c1d42",
   "metadata": {},
   "outputs": [
    {
     "data": {
      "text/plain": [
       "23937"
      ]
     },
     "execution_count": 35,
     "metadata": {},
     "output_type": "execute_result"
    }
   ],
   "source": [
    "halos.n_halos"
   ]
  },
  {
   "cell_type": "code",
   "execution_count": 36,
   "id": "4bd7e334",
   "metadata": {},
   "outputs": [
    {
     "data": {
      "text/plain": [
       "17"
      ]
     },
     "execution_count": 36,
     "metadata": {},
     "output_type": "execute_result"
    }
   ],
   "source": [
    "halos.n_mass_bins"
   ]
  },
  {
   "cell_type": "code",
   "execution_count": 37,
   "id": "922a97cc",
   "metadata": {},
   "outputs": [
    {
     "data": {
      "text/plain": [
       "{'SIGMA_8': <_cffi_backend.CField at 0x7f999721cea0>,\n",
       " 'hlittle': <_cffi_backend.CField at 0x7f999721ca20>,\n",
       " 'OMm': <_cffi_backend.CField at 0x7f999721c9f0>,\n",
       " 'OMl': <_cffi_backend.CField at 0x7f999721c300>,\n",
       " 'OMb': <_cffi_backend.CField at 0x7f999721c660>,\n",
       " 'POWER_INDEX': <_cffi_backend.CField at 0x7f999721c960>}"
      ]
     },
     "execution_count": 37,
     "metadata": {},
     "output_type": "execute_result"
    }
   ],
   "source": [
    "halos.cosmo_params.fields"
   ]
  },
  {
   "cell_type": "code",
   "execution_count": 38,
   "id": "846f55f7",
   "metadata": {},
   "outputs": [
    {
     "data": {
      "text/plain": [
       "{'n_halos': <_cffi_backend.CField at 0x7f999721def0>,\n",
       " 'halo_masses': <_cffi_backend.CField at 0x7f999721d860>,\n",
       " 'halo_coords': <_cffi_backend.CField at 0x7f999721c1e0>,\n",
       " 'n_mass_bins': <_cffi_backend.CField at 0x7f999721dfb0>,\n",
       " 'max_n_mass_bins': <_cffi_backend.CField at 0x7f999721c2a0>,\n",
       " 'mass_bins': <_cffi_backend.CField at 0x7f999721d6e0>,\n",
       " 'fgtrm': <_cffi_backend.CField at 0x7f999721dc80>,\n",
       " 'sqrt_dfgtrm': <_cffi_backend.CField at 0x7f999721f210>,\n",
       " 'dndlm': <_cffi_backend.CField at 0x7f999721d1d0>,\n",
       " 'sqrtdn_dlm': <_cffi_backend.CField at 0x7f999721d350>}"
      ]
     },
     "execution_count": 38,
     "metadata": {},
     "output_type": "execute_result"
    }
   ],
   "source": [
    "halos.fields"
   ]
  },
  {
   "cell_type": "code",
   "execution_count": 39,
   "id": "27e2952c",
   "metadata": {},
   "outputs": [
    {
     "data": {
      "text/plain": [
       "(array([5.44810e+04, 1.44207e+05, 4.90210e+04, 1.10640e+04, 2.56000e+03,\n",
       "        5.85000e+02, 1.67000e+02, 4.20000e+01, 1.30000e+01, 4.00000e+00]),\n",
       " array([-0.70705724, -0.26734808,  0.17236109,  0.61207026,  1.05177939,\n",
       "         1.49148858,  1.93119776,  2.37090683,  2.81061602,  3.2503252 ,\n",
       "         3.69003439]),\n",
       " <BarContainer object of 10 artists>)"
      ]
     },
     "execution_count": 39,
     "metadata": {},
     "output_type": "execute_result"
    },
    {
     "data": {
      "image/png": "[encoded data removed]",
      "text/plain": [
       "<Figure size 640x480 with 1 Axes>"
      ]
     },
     "metadata": {},
     "output_type": "display_data"
    }
   ],
   "source": [
    "plt.hist(coeval.density.flatten())"
   ]
  },
  {
   "cell_type": "code",
   "execution_count": 40,
   "id": "74e42ba8",
   "metadata": {},
   "outputs": [
    {
     "data": {
      "image/png": "[encoded data removed]",
      "text/plain": [
       "<Figure size 640x480 with 1 Axes>"
      ]
     },
     "metadata": {},
     "output_type": "display_data"
    }
   ],
   "source": [
    "plt.hist(coeval.density.flatten(), bins=200)\n",
    "plt.show()"
   ]
  },
  {
   "cell_type": "code",
   "execution_count": 41,
   "id": "a5123026",
   "metadata": {},
   "outputs": [
    {
     "data": {
      "text/plain": [
       "8.7"
      ]
     },
     "execution_count": 41,
     "metadata": {},
     "output_type": "execute_result"
    }
   ],
   "source": [
    "coeval.astro_params.M_TURN"
   ]
  },
  {
   "cell_type": "code",
   "execution_count": 42,
   "id": "baf7f8bd",
   "metadata": {},
   "outputs": [
    {
     "data": {
      "text/plain": [
       "150"
      ]
     },
     "execution_count": 42,
     "metadata": {},
     "output_type": "execute_result"
    }
   ],
   "source": [
    "coeval.user_params.BOX_LEN"
   ]
  },
  {
   "cell_type": "code",
   "execution_count": 43,
   "id": "05a65ca1",
   "metadata": {},
   "outputs": [
    {
     "data": {
      "text/plain": [
       "3.6900344"
      ]
     },
     "execution_count": 43,
     "metadata": {},
     "output_type": "execute_result"
    }
   ],
   "source": [
    "coeval.density.max()"
   ]
  },
  {
   "cell_type": "code",
   "execution_count": 62,
   "id": "eec203c3",
   "metadata": {},
   "outputs": [
    {
     "name": "stderr",
     "output_type": "stream",
     "text": [
      "2024-04-15 10:57:18,123 | WARNING | inputs.py::INHOMO_RECO() | You have set USE_MINI_HALOS to True but INHOMO_RECO to False! Automatically setting INHOMO_RECO to True.\n"
     ]
    },
    {
     "data": {
      "text/plain": [
       "BrightnessTemp(UserParams(BOX_LEN:150, DIM:192, FAST_FCOLL_TABLES:False, HII_DIM:64, HMF:1, MINIMIZE_MEMORY:False, NON_CUBIC_FACTOR:1, NO_RNG:False, N_THREADS:4, PERTURB_ON_HIGH_RES:False, POWER_SPECTRUM:0, USE_2LPT:True, USE_FFTW_WISDOM:False, USE_INTERPOLATION_TABLES:True, USE_RELATIVE_VELOCITIES:False); CosmoParams(OMb:0.0486, OMm:0.31, POWER_INDEX:0.97, SIGMA_8:0.81, hlittle:0.68); redshift:6; FlagOptions(FIX_VCB_AVG:False, INHOMO_RECO:True, M_MIN_in_Mass:True, PHOTON_CONS:False, SUBCELL_RSD:False, USE_CMB_HEATING:True, USE_HALO_FIELD:False, USE_LYA_HEATING:True, USE_MASS_DEPENDENT_ZETA:True, USE_MINI_HALOS:True, USE_TS_FLUCT:True); AstroParams(ALPHA_ESC:-0.5, ALPHA_STAR:0.5, ALPHA_STAR_MINI:0.5, A_LW:2, A_VCB:1, BETA_LW:0.6, BETA_VCB:1.8, F_ESC10:0.1, F_ESC7_MINI:0.01, F_H2_SHIELD:0, F_STAR10:0.05012, F_STAR7_MINI:0.01, HII_EFF_FACTOR:30, ION_Tvir_MIN:50000, L_X:1e+40, L_X_MINI:1e+40, M_TURN:5.012e+08, NU_X_THRESH:500, N_RSD_STEPS:20, R_BUBBLE_MAX:50, X_RAY_SPEC_INDEX:1, X_RAY_Tvir_MIN:50000, t_STAR:0.5); GlobalParams(ALPHA_UVB=5.0;CLUMPING_FACTOR=2.0;CRIT_DENS_TRANSITION=1.5;DELTA_CRIT_MODE=1;DELTA_R_FACTOR=1.100000023841858;DELTA_R_HII_FACTOR=1.100000023841858;EVOLVE_DENSITY_LINEARLY=0;FILTER=0;FIND_BUBBLE_ALGORITHM=2;HALO_FILTER=0;HEAT_FILTER=0;HII_FILTER=1;HII_ROUND_ERR=9.999999747378752e-06;INITIAL_REDSHIFT=300.0;MAX_DVDR=0.20000000298023224;MIN_DENSITY_LOW_LIMIT=9.000000034120603e-08;M_MAX_INTEGRAL=1.0000000272564224e+16;M_MIN_INTEGRAL=100000.0;M_WDM=2.0;NBINS_LF=100;NUM_FILTER_STEPS_FOR_Ts=40;NU_X_BAND_MAX=2000.0;NU_X_MAX=10000.0;N_POISSON=5;OMk=0.0;OMn=0.0;OMr=8.600000001024455e-05;OMtot=1.0;OPTIMIZE=0;OPTIMIZE_MIN_MASS=99999997952.0;P_CUTOFF=0;PhotonConsAsymptoteTo=0.009999999776482582;PhotonConsEnd=0.30000001192092896;PhotonConsEndCalibz=3.5;PhotonConsStart=0.9950000047683716;Pop=2;Pop2_ion=5000.0;Pop3_ion=44021.0;R_BUBBLE_MIN=0.6203504800796509;R_OVERLAP_FACTOR=1.0;R_XLy_MAX=500.0;R_smooth_density=0.20000000298023224;RecombPhotonCons=0;SHETH_b=0.15000000596046448;SHETH_c=0.05000000074505806;SMOOTH_EVOLVED_DENSITY_FIELD=0;TK_at_Z_HEAT_MAX=-1.0;T_RE=20000.0;T_USE_VELOCITIES=1;USE_ADIABATIC_FLUCTUATIONS=True;USE_FAST_ATOMIC=False;VAVG=25.860000610351562;XION_at_Z_HEAT_MAX=-1.0;Y_He=0.24500000476837158;ZPRIME_STEP_FACTOR=1.0199999809265137;Z_HEAT_MAX=35.0;Zreion_HeII=3.0;g_x=1.5;wl=-1.0); v3.3)_random_seed=321207935869"
      ]
     },
     "execution_count": 62,
     "metadata": {},
     "output_type": "execute_result"
    }
   ],
   "source": [
    "coeval.brightness_temp_struct"
   ]
  },
  {
   "cell_type": "code",
   "execution_count": 45,
   "id": "839bab5f",
   "metadata": {},
   "outputs": [
    {
     "name": "stdout",
     "output_type": "stream",
     "text": [
      "/bin/bash: USE_MINI_HALOS: command not found\r\n"
     ]
    }
   ],
   "source": [
    "!USE_MINI_HALOS"
   ]
  },
  {
   "cell_type": "code",
   "execution_count": 67,
   "id": "0cc028eb",
   "metadata": {},
   "outputs": [
    {
     "name": "stderr",
     "output_type": "stream",
     "text": [
      "2024-04-15 10:59:05,220 | WARNING | inputs.py::INHOMO_RECO() | You have set USE_MINI_HALOS to True but INHOMO_RECO to False! Automatically setting INHOMO_RECO to True.\n"
     ]
    },
    {
     "data": {
      "text/plain": [
       "<bound method OutputStruct.find_existing of BrightnessTemp(UserParams(BOX_LEN:150, DIM:192, FAST_FCOLL_TABLES:False, HII_DIM:64, HMF:1, MINIMIZE_MEMORY:False, NON_CUBIC_FACTOR:1, NO_RNG:False, N_THREADS:4, PERTURB_ON_HIGH_RES:False, POWER_SPECTRUM:0, USE_2LPT:True, USE_FFTW_WISDOM:False, USE_INTERPOLATION_TABLES:True, USE_RELATIVE_VELOCITIES:False); CosmoParams(OMb:0.0486, OMm:0.31, POWER_INDEX:0.97, SIGMA_8:0.81, hlittle:0.68); redshift:6; FlagOptions(FIX_VCB_AVG:False, INHOMO_RECO:True, M_MIN_in_Mass:True, PHOTON_CONS:False, SUBCELL_RSD:False, USE_CMB_HEATING:True, USE_HALO_FIELD:False, USE_LYA_HEATING:True, USE_MASS_DEPENDENT_ZETA:True, USE_MINI_HALOS:True, USE_TS_FLUCT:True); AstroParams(ALPHA_ESC:-0.5, ALPHA_STAR:0.5, ALPHA_STAR_MINI:0.5, A_LW:2, A_VCB:1, BETA_LW:0.6, BETA_VCB:1.8, F_ESC10:0.1, F_ESC7_MINI:0.01, F_H2_SHIELD:0, F_STAR10:0.05012, F_STAR7_MINI:0.01, HII_EFF_FACTOR:30, ION_Tvir_MIN:50000, L_X:1e+40, L_X_MINI:1e+40, M_TURN:5.012e+08, NU_X_THRESH:500, N_RSD_STEPS:20, R_BUBBLE_MAX:50, X_RAY_SPEC_INDEX:1, X_RAY_Tvir_MIN:50000, t_STAR:0.5); GlobalParams(ALPHA_UVB=5.0;CLUMPING_FACTOR=2.0;CRIT_DENS_TRANSITION=1.5;DELTA_CRIT_MODE=1;DELTA_R_FACTOR=1.100000023841858;DELTA_R_HII_FACTOR=1.100000023841858;EVOLVE_DENSITY_LINEARLY=0;FILTER=0;FIND_BUBBLE_ALGORITHM=2;HALO_FILTER=0;HEAT_FILTER=0;HII_FILTER=1;HII_ROUND_ERR=9.999999747378752e-06;INITIAL_REDSHIFT=300.0;MAX_DVDR=0.20000000298023224;MIN_DENSITY_LOW_LIMIT=9.000000034120603e-08;M_MAX_INTEGRAL=1.0000000272564224e+16;M_MIN_INTEGRAL=100000.0;M_WDM=2.0;NBINS_LF=100;NUM_FILTER_STEPS_FOR_Ts=40;NU_X_BAND_MAX=2000.0;NU_X_MAX=10000.0;N_POISSON=5;OMk=0.0;OMn=0.0;OMr=8.600000001024455e-05;OMtot=1.0;OPTIMIZE=0;OPTIMIZE_MIN_MASS=99999997952.0;P_CUTOFF=0;PhotonConsAsymptoteTo=0.009999999776482582;PhotonConsEnd=0.30000001192092896;PhotonConsEndCalibz=3.5;PhotonConsStart=0.9950000047683716;Pop=2;Pop2_ion=5000.0;Pop3_ion=44021.0;R_BUBBLE_MIN=0.6203504800796509;R_OVERLAP_FACTOR=1.0;R_XLy_MAX=500.0;R_smooth_density=0.20000000298023224;RecombPhotonCons=0;SHETH_b=0.15000000596046448;SHETH_c=0.05000000074505806;SMOOTH_EVOLVED_DENSITY_FIELD=0;TK_at_Z_HEAT_MAX=-1.0;T_RE=20000.0;T_USE_VELOCITIES=1;USE_ADIABATIC_FLUCTUATIONS=True;USE_FAST_ATOMIC=False;VAVG=25.860000610351562;XION_at_Z_HEAT_MAX=-1.0;Y_He=0.24500000476837158;ZPRIME_STEP_FACTOR=1.0199999809265137;Z_HEAT_MAX=35.0;Zreion_HeII=3.0;g_x=1.5;wl=-1.0); v3.3)_random_seed=321207935869>"
      ]
     },
     "execution_count": 67,
     "metadata": {},
     "output_type": "execute_result"
    }
   ],
   "source": [
    "coeval.brightness_temp_struct.find_existing"
   ]
  },
  {
   "cell_type": "code",
   "execution_count": null,
   "id": "a39c93a5",
   "metadata": {},
   "outputs": [],
   "source": []
  },
  {
   "cell_type": "code",
   "execution_count": null,
   "id": "18ed7647",
   "metadata": {},
   "outputs": [],
   "source": []
  }
 ],
 "metadata": {
  "kernelspec": {
   "display_name": "Python 3 (ipykernel)",
   "language": "python",
   "name": "python3"
  },
  "language_info": {
   "codemirror_mode": {
    "name": "ipython",
    "version": 3
   },
   "file_extension": ".py",
   "mimetype": "text/x-python",
   "name": "python",
   "nbconvert_exporter": "python",
   "pygments_lexer": "ipython3",
   "version": "3.10.11"
  }
 },
 "nbformat": 4,
 "nbformat_minor": 5
}
